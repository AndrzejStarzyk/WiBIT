{
 "cells": [
  {
   "cell_type": "code",
   "execution_count": 7,
   "outputs": [],
   "source": [
    "import torch\n",
    "import torch.nn as nn\n",
    "from sklearn.model_selection import train_test_split\n",
    "from sklearn.metrics import roc_auc_score\n",
    "from torch import sigmoid\n",
    "\n",
    "from opentripmaps_categories import CategoriesProvider\n",
    "from opentripmap_api import OpenTripMapApiProvider"
   ],
   "metadata": {
    "collapsed": false
   }
  },
  {
   "cell_type": "code",
   "execution_count": 4,
   "outputs": [],
   "source": [
    "class Model(nn.Module):\n",
    "    def __init__(self, input_size: int):\n",
    "        super().__init__()\n",
    "        self.mlp = nn.Sequential(\n",
    "            nn.Linear(input_size, 256),\n",
    "            nn.ReLU(),\n",
    "            nn.Linear(256, 128),\n",
    "            nn.ReLU(),\n",
    "            nn.Linear(128, 1)\n",
    "        )\n",
    "\n",
    "    def forward(self, x):\n",
    "        return self.mlp(x)\n",
    "\n",
    "    def predict_proba(self, x):\n",
    "        return sigmoid(self(x))\n",
    "\n",
    "    def predict(self, x):\n",
    "        y_pred_score = self.predict_proba(x)\n",
    "        return torch.argmax(y_pred_score, dim=1)"
   ],
   "metadata": {
    "collapsed": false
   }
  },
  {
   "cell_type": "markdown",
   "source": [],
   "metadata": {
    "collapsed": false
   }
  },
  {
   "cell_type": "code",
   "execution_count": 6,
   "outputs": [
    {
     "name": "stdout",
     "output_type": "stream",
     "text": [
      "263 500 763\n",
      "Epoch 0 train loss: 0.6884\n",
      "Epoch 200 train loss: 0.5635\n",
      "Epoch 400 train loss: 0.4615\n",
      "Epoch 600 train loss: 0.3890\n",
      "Epoch 800 train loss: 0.3455\n",
      "Epoch 1000 train loss: 0.3171\n",
      "Epoch 1200 train loss: 0.2957\n",
      "Epoch 1400 train loss: 0.2781\n",
      "Epoch 1600 train loss: 0.2627\n",
      "Epoch 1800 train loss: 0.2489\n",
      "final loss: 0.2364\n"
     ]
    }
   ],
   "source": [
    "categories = get_categories()\n",
    "places =get_places()\n",
    "labels_ids = {}\n",
    "for i in range(len(categories)):\n",
    "    labels_ids[categories[i]] = i\n",
    "for i in range(len(places)):\n",
    "    labels_ids[places[i]['name']] = i + len(categories)\n",
    "length = len(categories) + len(places)\n",
    "print(len(categories), len(places), length)\n",
    "X_list = []\n",
    "y_list = []\n",
    "for place in places:\n",
    "    place_data = [0 for _ in range(length)]\n",
    "    for cat in place['kinds'].split(','):\n",
    "        place_data[labels_ids[cat]] = 1\n",
    "    place_data[labels_ids[place['name']]] = 1\n",
    "    X_list.append(place_data)\n",
    "    y_list.append(1)\n",
    "    place_data = [1 if i < len(categories) else 0 for i in range(length)]\n",
    "    for cat in place['kinds'].split(','):\n",
    "        place_data[labels_ids[cat]] = 0\n",
    "    place_data[labels_ids[place['name']]] = 1\n",
    "    X_list.append(place_data)\n",
    "    y_list.append(0)\n",
    "X_train, X_test, y_train, y_test = train_test_split(X_list, y_list, test_size=0.2, random_state=0, shuffle=True)\n",
    "X_train, X_test, y_train, y_test = torch.tensor(X_train).float(), torch.tensor(X_test).float(), \\\n",
    "    torch.tensor(y_train).float().unsqueeze(-1), torch.tensor(y_test).float().unsqueeze(-1)\n",
    "\n",
    "learning_rate = 1e-3\n",
    "model = Model(input_size=X_train.shape[1])\n",
    "optimizer = torch.optim.SGD(model.parameters(), lr=learning_rate)\n",
    "# note that we are using loss function with sigmoid built in\n",
    "loss_fn = torch.nn.BCEWithLogitsLoss()\n",
    "num_epochs = 2000\n",
    "evaluation_steps = 200\n",
    "loss = 0\n",
    "for i in range(num_epochs):\n",
    "    y_pred = model(X_train)\n",
    "    loss = loss_fn(y_pred, y_train)\n",
    "    loss.backward()\n",
    "    optimizer.step()\n",
    "    optimizer.zero_grad()\n",
    "    if i % evaluation_steps == 0:\n",
    "        print(f\"Epoch {i} train loss: {loss.item():.4f}\")\n",
    "print(f\"final loss: {loss.item():.4f}\")\n",
    "model = Model(input_size=X_train.shape[1])\n",
    "optimizer = torch.optim.SGD(model.parameters(), lr=learning_rate)\n"
   ],
   "metadata": {
    "collapsed": false
   }
  },
  {
   "cell_type": "code",
   "execution_count": 8,
   "outputs": [
    {
     "name": "stdout",
     "output_type": "stream",
     "text": [
      "AUROC: 100.00%\n"
     ]
    }
   ],
   "source": [
    "model.eval()\n",
    "with torch.no_grad():\n",
    "    # positive class probabilities\n",
    "    y_pred_test_score = model.predict_proba(X_test)\n",
    "\n",
    "auroc = roc_auc_score(y_test, y_pred_test_score)\n",
    "print(f\"AUROC: {100 * auroc:.2f}%\")\n"
   ],
   "metadata": {
    "collapsed": false
   }
  },
  {
   "cell_type": "code",
   "execution_count": 24,
   "outputs": [
    {
     "name": "stdout",
     "output_type": "stream",
     "text": [
      "21 Sławkowska Street in Kraków\n",
      "tensor([0.4806], grad_fn=<SigmoidBackward0>)\n"
     ]
    }
   ],
   "source": [
    "import random\n",
    "X = [0 for _ in range(length)]\n",
    "X[labels_ids['water']] = 1\n",
    "X[labels_ids['shops']] = 1\n",
    "place = places[random.randrange(len(places))]\n",
    "X[labels_ids[place['name']]] = 1\n",
    "X_tensor = torch.tensor(X).float()\n",
    "print(place['name'])\n",
    "print(model.predict_proba(X_tensor))\n"
   ],
   "metadata": {
    "collapsed": false
   }
  },
  {
   "cell_type": "code",
   "execution_count": 1,
   "outputs": [
    {
     "name": "stdout",
     "output_type": "stream",
     "text": [
      "      user  place     score\n",
      "0        1      0  4.875000\n",
      "1        1      1  4.875000\n",
      "2        1      2  4.500000\n",
      "3        1      3  4.200000\n",
      "4        1      4  4.875000\n",
      "...    ...    ...       ...\n",
      "4995    10    495  4.000000\n",
      "4996    10    496  3.357143\n",
      "4997    10    497  3.571429\n",
      "4998    10    498  3.357143\n",
      "4999    10    499  4.000000\n",
      "\n",
      "[5000 rows x 3 columns]\n",
      "Computing the msd similarity matrix...\n",
      "Done computing similarity matrix.\n"
     ]
    }
   ],
   "source": [
    "from recommending_similar_poi import Recommender\n",
    "\n",
    "recommender = Recommender()\n",
    "recommender.train()\n"
   ],
   "metadata": {
    "collapsed": false
   }
  },
  {
   "cell_type": "code",
   "execution_count": null,
   "outputs": [],
   "source": [
    "recommender.model.te\n"
   ],
   "metadata": {
    "collapsed": false
   }
  }
 ],
 "metadata": {
  "kernelspec": {
   "display_name": "Python 3 (ipykernel)",
   "language": "python",
   "name": "python3"
  },
  "language_info": {
   "codemirror_mode": {
    "name": "ipython",
    "version": 3
   },
   "file_extension": ".py",
   "mimetype": "text/x-python",
   "name": "python",
   "nbconvert_exporter": "python",
   "pygments_lexer": "ipython3",
   "version": "3.11.2"
  }
 },
 "nbformat": 4,
 "nbformat_minor": 1
}
