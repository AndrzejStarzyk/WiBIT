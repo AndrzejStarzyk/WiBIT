{
 "cells": [
  {
   "cell_type": "code",
   "execution_count": 2,
   "metadata": {
    "collapsed": true
   },
   "outputs": [],
   "source": [
    "from OSMPythonTools.api import Api\n",
    "from OSMPythonTools.nominatim import Nominatim\n",
    "from OSMPythonTools.overpass import overpassQueryBuilder, Overpass"
   ]
  },
  {
   "cell_type": "code",
   "execution_count": 3,
   "outputs": [],
   "source": [
    "nominatim = Nominatim()\n",
    "cracow = nominatim.query('Kraków, Poland')\n"
   ],
   "metadata": {
    "collapsed": false
   }
  },
  {
   "cell_type": "code",
   "execution_count": 6,
   "outputs": [],
   "source": [
    "overpass = Overpass()\n",
    "query = overpassQueryBuilder(area=cracow.areaId(), elementType=['node'], selector='\"tourism\"=\"yes\"', out='body')\n",
    "res = overpass.query(query)\n",
    "\n"
   ],
   "metadata": {
    "collapsed": false
   }
  },
  {
   "cell_type": "code",
   "execution_count": 17,
   "outputs": [
    {
     "name": "stdout",
     "output_type": "stream",
     "text": [
      "[]\n"
     ]
    }
   ],
   "source": [
    "print(list(map(lambda x: x.tag('name'), res.elements())))\n"
   ],
   "metadata": {
    "collapsed": false
   }
  },
  {
   "cell_type": "code",
   "execution_count": 18,
   "outputs": [
    {
     "ename": "IndexError",
     "evalue": "list index out of range",
     "output_type": "error",
     "traceback": [
      "\u001B[1;31m---------------------------------------------------------------------------\u001B[0m",
      "\u001B[1;31mIndexError\u001B[0m                                Traceback (most recent call last)",
      "Cell \u001B[1;32mIn[18], line 1\u001B[0m\n\u001B[1;32m----> 1\u001B[0m \u001B[38;5;28mprint\u001B[39m(\u001B[43mres\u001B[49m\u001B[38;5;241;43m.\u001B[39;49m\u001B[43melements\u001B[49m\u001B[43m(\u001B[49m\u001B[43m)\u001B[49m\u001B[43m[\u001B[49m\u001B[38;5;241;43m0\u001B[39;49m\u001B[43m]\u001B[49m\u001B[38;5;241m.\u001B[39mtags())\n",
      "\u001B[1;31mIndexError\u001B[0m: list index out of range"
     ]
    }
   ],
   "source": [
    "print(res.elements()[0].tags())\n"
   ],
   "metadata": {
    "collapsed": false
   }
  },
  {
   "cell_type": "code",
   "execution_count": 7,
   "outputs": [],
   "source": [
    "selectors = [['\"tourism\"=\"museum\"'],\n",
    "            ['\"tourism\"=\"gallery\"'],\n",
    "             ['\"tourism\"=\"aquarium\"'],\n",
    "             ['\"tourism\"=\"artwork\"'],\n",
    "             ['\"tourism\"=\"theme_park\"'],\n",
    "             ['\"tourism\"=\"viewpoint\"'],\n",
    "             ['\"tourism\"=\"zoo\"'],\n",
    "             ['\"heritage\"=\"2\"'],\n",
    "             ['\"historic\"=\"building\"'],\n",
    "             ['\"historic\"=\"castle\"'],\n",
    "             ['\"historic\"=\"city_gate\"'],\n",
    "             ['\"leisure\"=\"firepit\"'],\n",
    "             ['\"leisure\"=\"fishing\"'],\n",
    "             ['\"leisure\"=\"garden\"'],\n",
    "             ['\"leisure\"=\"water_park\"'],\n",
    "             ['\"memorial\"=\"statue\"'],\n",
    "             ['\"military\"=\"bunker\"'],\n",
    "             ['\"natural\"=\"peak\"']]\n",
    "query = overpassQueryBuilder(area=cracow.areaId(), elementType=['node', 'way'], selector=selectors[0], out='body')\n",
    "res = overpass.query(query)\n"
   ],
   "metadata": {
    "collapsed": false
   }
  },
  {
   "cell_type": "code",
   "execution_count": 111,
   "outputs": [
    {
     "name": "stdout",
     "output_type": "stream",
     "text": [
      "['Muzeum Farmacji UJ', 'Muzeum Uniwersytetu Jagiellońskiego', 'Muzeum Geologiczne PAN', 'Dom Długosza', 'Dom Pod Krzyżem', 'Muzeum Historyczne Miasta Krakowa', 'Muzeum Stanisława Wyspiańskiego', 'Muzeum Przyrodnicze PAN', 'Muzeum Historii i Kultury Żydów Krakowa', 'Żydowskie Muzeum Galicja', 'Muzeum Etnograficzne', 'Muzeum Etnograficzne (Dom Esterki)', 'Bunkier Sztuki', 'Muzeum Czynu Zbrojnego', 'Apteka Pod Orłem', 'Podziemia Rynku', 'Muzeum Nowej Huty', 'Muzeum Archidiecezjalne', 'Pałac Biskupa Erazma Ciołka', 'Muzeum Ogrodu Botanicznego UJ', 'Muzeum Paleobotaniczne UJ', 'Zielnik Uniwersytetu Jagiellońskiego', None, None, None, 'Muzeum Katedralne im. Jana Pawła II', 'Muzeum Geologiczne WGGiOŚ AGH', 'Galeria Sztuki Polskiej XIX wieku', 'Muzeum i Archiwum Marii Angeli Truszkowskiej', 'Muzeum Jana Pawła II', 'Ulica Pomorska', 'Muzeum Witrażu w Krakowie', 'Żywe Muzeum Obwarzanka', 'Muzeum Podgórza', 'Muzeum Anatomii', 'Muzeum XX. Czartoryskich w Krakowie', 'Kraków Arcade Museum - Interaktywne muzeum gier wideo', 'Cricoteka', 'Muzeum AGH', 'Muzeum Elektroniki', 'Muzeum iluzji - Krakil', 'Schron podziemny', 'Muzeum Kościuszkowskie', 'Kamienica Hipolitów', 'Wax Museum', 'Wawel Zaginiony', 'Kościół Świętego Wojciecha - Oddział Muzeum Archeologicznego w Krakowie', 'MuFo Józefitów', 'Skarbiec Koronny', 'Muzeum Dominikanów', 'Galeria Europa – Daleki Wschód', 'Womai', 'Kraków Pinball Museum', 'Muzeum Celestat', 'Pałac Sztuki', 'Dom Józefa Mehoffera', 'Muzeum Politechniki Krakowskiej', 'Dworek Jana Matejki', 'Muzeum Archeologiczne, Oddział w Nowej Hucie', 'Fabryka Emalia Oskara Schindlera', 'Dom Jana Matejki', 'Muzeum Sztuki Współczesnej w Krakowie', 'Rydlówka', 'Muzeum Narodowe w Krakowie', 'Dawny Hotel \"Cracovia\"', 'Muzeum Sztuki i Techniki Japońskiej Manggha', 'Muzeum Lotnictwa Polskiego', 'Renesansowy lamus', 'MuFo Strzelnica', 'Muzeum Inżynierii i Techniki', 'Muzeum im. Emeryka Hutten-Czapskiego', 'MuFo Rakowicka', 'Muzeum Armii Krajowej']\n"
     ]
    }
   ],
   "source": [
    "print(list(map(lambda x: x.tag('name'), res.elements())))\n"
   ],
   "metadata": {
    "collapsed": false
   }
  },
  {
   "cell_type": "code",
   "execution_count": 112,
   "outputs": [
    {
     "name": "stdout",
     "output_type": "stream",
     "text": [
      "['We-Sa 09:30-15:00; Tu 12:00-18:30', None, None, None, None, None, 'Tu-Sa 10:00-18:00; Su 10:00-16:00', 'Tu-Fr 09:00-15:00; Sa, Su 10:00-18:00', None, 'Mo-Su 10:00-18:00', 'Tu-Su 10:00-19:00', None, 'Tu-Su 11:00-19:00', None, 'Mo 10:00-14:00; Tu-Su 09:00-17:00', 'Mo-Su 10:00-20:00; Tu 10:00-16:00', 'We-Fr 10:00-17:00; Sa-Su 10:00-18:00', None, 'Mo-Sa 10:00-18:00, Su 10:00-16:00', 'Th,Fr 10:00-14:00; Su 11:00-15:00; Oct 15-Apr 15 off', None, None, None, None, None, 'Nov-Mar Mo-Sa 09:00-16:00; Apr-Oct Mo-Sa 09:00-17:00; PH off', None, 'Su 10:00-16:00; Th 10:00-20:00; Tu, We, Fr, Sa 10:00-18:00', 'Mo-Fr 10:00-14:00', None, 'Apr-Oct: Mo-Su 10:00-17:30', 'Tu-Sa 11:30-18:00', 'Mo-Th 10:00-16:00; Fr-Su 09:30-17:30', 'Th-Su 10:00-17:00', None, 'Tu-Su 10:00-18:00', 'Mo,We-Fr 14:00-21:00; Tu 14:00-20:00; Sa 11:00-22:00; Su 11:00-20:00', None, None, 'Mo-Fr 10:00-18:00; Sa 10:00-14:00', 'Mo-Fr 10:00-19:00; Sa-Su 10:00-20:00; PH off', 'We-Su 10:00-17:00', None, None, 'Mo-Th 10:00-22:00; Fr-Sa 10:00-23:00', None, 'May - October', 'Mo-We 09:00-17:00; Th-Sa 11:00-19:00', None, 'Th 10:00-16:00; Fr 10:00-18:00; Sa 10:00-16:00', None, 'Mo-Fr 08:30-16:00 - Sa-Su 10:00-20:00', 'Mo-Th 14:00-21:00; Fr 14:00-22:00; Sa 12:00-22:00; Su 12:00-21:00', None, 'Mo-Fr 08:15-18:00; Sa-Su 10:00-18:00', 'Tu-Fr 09:00-16:00; Sa 10:00-18:00; Su 10:00-16:00; Mo off', None, None, 'Nov-Apr Mo-Fr 10:00-14:00, Nov-Apr Mo-Fr 10:00-14:00, Nov-Apr Sa,Su 14:00-18:00', 'Mo-Su 09:00-16:00', None, None, 'We-Sa 10:00-17:00', 'Tu,Fr,Sa 10:00-19:00; Mo off; We,Th,Su 10:00-18:00', None, None, 'Tu-Su 09:00-17:00', 'Nov-Apr Mo-Fr 10:00-14:00, Nov-Apr Mo-Fr 10:00-14:00, Nov-Apr Sa,Su 14:00-18:00', 'Mo-Fr 11:00-18:00; Sa-Su 13:00-18:00', 'Tu-Su 11:00-18:00', 'Tu-Sa 10:00-18:00; Su 10:00-16:00', 'Mo-Fr 10:00-18:00; Sa-Su 11:00-19:00', 'Tu-Su 11:00-18:00']\n"
     ]
    }
   ],
   "source": [
    "print(list(map(lambda x: x.tag('opening_hours'), res.elements())))\n"
   ],
   "metadata": {
    "collapsed": false
   }
  },
  {
   "cell_type": "code",
   "execution_count": 15,
   "outputs": [
    {
     "name": "stdout",
     "output_type": "stream",
     "text": [
      "node\n",
      "471557535\n",
      "{'addr:city': 'Kraków', 'addr:country': 'PL', 'addr:housenumber': '25', 'addr:street': 'Floriańska', 'email': 'mf1@mp.pl', 'name': 'Muzeum Farmacji UJ', 'name:en': 'Museum of Pharmacy', 'name:hu': 'Patikamúzeum', 'name:pl': 'Muzeum Farmacji UJ', 'name:ru': 'Музей фармацевтики', 'opening_hours': 'We-Sa 09:30-15:00; Tu 12:00-18:30', 'phone': '+48 12 421 92 79', 'tourism': 'museum', 'website': 'http://muzeum.farmacja.uj.edu.pl', 'wikidata': 'Q11786965', 'wikipedia': 'pl:Muzeum Farmacji Collegium Medicum Uniwersytetu Jagiellońskiego'}\n"
     ]
    }
   ],
   "source": [
    "print(res.elements()[0].type())\n",
    "print(res.elements()[0].id())\n",
    "print(res.elements()[0].tags())\n"
   ],
   "metadata": {
    "collapsed": false
   }
  },
  {
   "cell_type": "code",
   "execution_count": 19,
   "outputs": [
    {
     "name": "stderr",
     "output_type": "stream",
     "text": [
      "[api] downloading data: way/85151350\n"
     ]
    },
    {
     "name": "stdout",
     "output_type": "stream",
     "text": [
      "{'addr:city': 'Kraków', 'addr:housenumber': '1', 'addr:place': 'Zamek Wawel', 'addr:postcode': '31-001', 'alt_name': 'Bazylika archikatedralna pw. Świętych Stanisława i Wacława', 'alt_name:en': 'Wawel Cathedral', 'amenity': 'place_of_worship', 'building': 'cathedral', 'church:type': 'parish', 'date:religious_title': 'C18', 'denomination': 'roman_catholic', 'diocese': 'Archidiecezja krakowska', 'email': 'info@katedra-wawelska.pl', 'historic': 'yes', 'image': 'http://commons.wikimedia.org/wiki/File:Wawel_cathedral.PNG', 'level': '0', 'name': 'Kościół pw. Świętych Stanisława i Wacława', 'name:af': 'Wawel-katedraal', 'name:be': 'Сабор Святых Станіслава і Вацлава', 'name:bg': 'Вавелска катедрала', 'name:ca': 'Catedral de Wawel', 'name:cs': 'Katedrála na Wawelu', 'name:de': 'Kathedrale St. Stanislaus und Wenzel', 'name:el': 'Καθεδρικός Ναός της Κρακοβίας', 'name:en': 'Royal Archcathedral Basilica of Saints Stanislaus and Wenceslaus', 'name:es': 'Catedral de San Wenceslao y San Estanislao', 'name:fi': 'Wawelin katedraali', 'name:fr': 'Cathédrale du Wawel', 'name:he': 'קתדרלת ואוול', 'name:hr': 'Vavelska katedrala', 'name:hu': 'Waweli főszékesegyház (Szent Szaniszló és Vencel)', 'name:id': 'Katedral Wawel', 'name:it': 'Cattedrale del Wawel', 'name:ja': 'ヴァヴェル大聖堂', 'name:ko': '바벨 대성당', 'name:lt': 'Šventųjų Stanislovo ir Vaclovo katedra', 'name:mk': 'Вавелска катедрала', 'name:nl': 'Wawelkathedraal', 'name:pl': 'Bazylika archikatedralna pw. Świętych Stanisława i Wacława', 'name:pt': 'Catedral de Wawel', 'name:ro': 'Catedrala Wawel', 'name:ru': 'Собор Святых Станислава и Вацлава', 'name:sk': 'Wawelská katedrála', 'name:sv': 'Wawelkatedralen', 'name:th': 'มหาวิหารวาเวล', 'name:uk': 'Кафедральний собор святих Станіслава і Вацлава', 'name:zh': '瓦維爾主教座堂', 'opening_hours': 'Mo-Sa 06:30-17:00; Su 07:00-17:30; Apr-Oct Mo-Sa 06:30-18:00; Apr-Oct Su 07:00-18:30', 'phone': '+48 12 4299516', 'religion': 'christian', 'religious_title': 'Bazylika Mniejsza', 'tourism': 'attraction', 'url': 'http://www.wirtualnakatedra.pl', 'website': 'http://www.katedra-wawelska.pl/', 'wheelchair': 'yes', 'wikidata': 'Q638519', 'wikipedia': 'pl:Bazylika archikatedralna św. Stanisława i św. Wacława w Krakowie'}\n"
     ]
    }
   ],
   "source": [
    "api = Api()\n",
    "\n",
    "node = api.query('way/85151350')\n",
    "print(node.tags())\n"
   ],
   "metadata": {
    "collapsed": false
   }
  },
  {
   "cell_type": "code",
   "execution_count": null,
   "outputs": [],
   "source": [],
   "metadata": {
    "collapsed": false
   }
  }
 ],
 "metadata": {
  "kernelspec": {
   "display_name": "Python 3",
   "language": "python",
   "name": "python3"
  },
  "language_info": {
   "codemirror_mode": {
    "name": "ipython",
    "version": 2
   },
   "file_extension": ".py",
   "mimetype": "text/x-python",
   "name": "python",
   "nbconvert_exporter": "python",
   "pygments_lexer": "ipython2",
   "version": "2.7.6"
  }
 },
 "nbformat": 4,
 "nbformat_minor": 0
}
