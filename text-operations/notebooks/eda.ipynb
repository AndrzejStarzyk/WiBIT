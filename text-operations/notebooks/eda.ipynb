{
 "nbformat": 4,
 "nbformat_minor": 0,
 "metadata": {
  "colab": {
   "provenance": []
  },
  "kernelspec": {
   "name": "python3",
   "display_name": "Python 3"
  },
  "language_info": {
   "name": "python"
  }
 },
 "cells": [
  {
   "cell_type": "code",
   "execution_count": null,
   "metadata": {
    "id": "BY8lJHrmnB1r"
   },
   "outputs": [],
   "source": [
    "import pandas as pd\n",
    "import matplotlib.pyplot as plt\n",
    "import numpy as np"
   ]
  },
  {
   "cell_type": "code",
   "source": [
    "chat_df = pd.read_csv('chat_example.csv', index_col=0)\n",
    "\n",
    "chat_df"
   ],
   "metadata": {
    "id": "g3Vwy0iiqxv0",
    "colab": {
     "base_uri": "https://localhost:8080/",
     "height": 1000
    },
    "outputId": "b2cf81bb-f422-46a2-a34e-ac1fbda82143"
   },
   "execution_count": null,
   "outputs": []
  },
  {
   "cell_type": "code",
   "source": [
    "form_df = pd.read_csv('form_example.csv')\n",
    "form_df"
   ],
   "metadata": {
    "id": "9eg1TRJutKlL",
    "colab": {
     "base_uri": "https://localhost:8080/",
     "height": 1000
    },
    "outputId": "fd4e88c3-2b6a-42fb-83d5-43afdc5e4e05"
   },
   "execution_count": null,
   "outputs": []
  },
  {
   "cell_type": "code",
   "source": [
    "both_df = pd.concat([form_df, chat_df])\n",
    "both_df"
   ],
   "metadata": {
    "id": "8aFMjMAp1y4x",
    "colab": {
     "base_uri": "https://localhost:8080/",
     "height": 1000
    },
    "outputId": "ca35b11b-6e70-412e-b1ba-eed3124f63b0"
   },
   "execution_count": null,
   "outputs": []
  },
  {
   "cell_type": "code",
   "source": [
    "form_text_len = [len(text.split(' ')) for text in form_df['text']]\n",
    "chat_text_len = [len(text.split(' ')) for text in chat_df['text']]"
   ],
   "metadata": {
    "id": "WE-rQ9Knt5FJ"
   },
   "execution_count": null,
   "outputs": []
  },
  {
   "cell_type": "code",
   "source": [
    "plt.style.use('ggplot')"
   ],
   "metadata": {
    "id": "KgazayhavIWh"
   },
   "execution_count": null,
   "outputs": []
  },
  {
   "cell_type": "code",
   "source": [
    "plt.figure(figsize=(8, 8))\n",
    "bars = plt.bar(['Ankieta', 'ChatGPT-3.5'], [len(form_df), len(chat_df)], color=['green', 'darkblue'])\n",
    "plt.title('Pochodzenie próbek danych wykorzystanych podczas tworzenia algorytmu')\n",
    "\n",
    "for bar in bars:\n",
    "    yval = bar.get_height()\n",
    "    plt.text(bar.get_x() + bar.get_width()/2, yval + 1, round(yval, 2), ha='center', va='bottom')\n",
    "\n",
    "plt.tight_layout(pad=1)\n",
    "plt.savefig('imgs/img7.png')\n",
    "plt.show()"
   ],
   "metadata": {
    "colab": {
     "base_uri": "https://localhost:8080/",
     "height": 809
    },
    "id": "oXWuSoPl_exo",
    "outputId": "898e0f43-2e8b-4fe1-bcec-fc2f8172fbbb"
   },
   "execution_count": null,
   "outputs": []
  },
  {
   "cell_type": "code",
   "source": [
    "plt.figure(figsize=(8, 8))\n",
    "plt.title('Rozkład długości tekstów pochodzących\\nwygenerowanych za pomocą ChatGPT-3.5')\n",
    "plt.hist(chat_text_len , bins=20, color='darkblue')\n",
    "\n",
    "plt.tight_layout(pad=1)\n",
    "plt.savefig('imgs/img8.png')\n",
    "plt.show()"
   ],
   "metadata": {
    "colab": {
     "base_uri": "https://localhost:8080/",
     "height": 809
    },
    "id": "IMg5ZH3Fus-i",
    "outputId": "753d612f-4b23-4f4e-819f-f28fff1f5559"
   },
   "execution_count": null,
   "outputs": []
  },
  {
   "cell_type": "code",
   "source": [
    "plt.figure(figsize=(8, 8))\n",
    "plt.hist(form_text_len , bins=20, color='green')\n",
    "plt.title('Rozkład długości tekstów pozyskanych za pomocą ankiety')\n",
    "\n",
    "plt.tight_layout(pad=1)\n",
    "plt.savefig('imgs/img9.png')\n",
    "plt.show()"
   ],
   "metadata": {
    "colab": {
     "base_uri": "https://localhost:8080/",
     "height": 809
    },
    "id": "sfeYcVyrucru",
    "outputId": "0ecb9677-7c1a-4c6c-b6c1-ba0e0b33f71d"
   },
   "execution_count": null,
   "outputs": []
  },
  {
   "cell_type": "code",
   "source": [
    "plt.figure(figsize=(16, 8))\n",
    "plt.hist(chat_text_len+form_text_len , bins=40, color='teal')\n",
    "plt.title('Rozkład długości wszystkich próbek danych wykorzystanych podczas tworzenia algorytmu')\n",
    "\n",
    "plt.tight_layout(pad=1)\n",
    "plt.savefig('imgs/imgXX.png')\n",
    "plt.show()"
   ],
   "metadata": {
    "colab": {
     "base_uri": "https://localhost:8080/",
     "height": 809
    },
    "id": "CIoAMmSFu7uh",
    "outputId": "c654d22c-9661-4697-b12b-26af83693cf7"
   },
   "execution_count": null,
   "outputs": []
  },
  {
   "cell_type": "code",
   "source": [
    "categories = list(both_df.columns)[2:]\n",
    "categories[:3]"
   ],
   "metadata": {
    "colab": {
     "base_uri": "https://localhost:8080/"
    },
    "id": "GGOfU6HC0yJ1",
    "outputId": "6c73c9b3-c53c-4ee8-9519-d6582bf37c51"
   },
   "execution_count": null,
   "outputs": []
  },
  {
   "cell_type": "code",
   "source": [
    "value_counts_chat_df = chat_df[categories].apply(pd.value_counts).fillna(0)\n",
    "value_counts_chat_df"
   ],
   "metadata": {
    "colab": {
     "base_uri": "https://localhost:8080/",
     "height": 255
    },
    "id": "x4PSuyKM2d4m",
    "outputId": "f59b29a5-01f2-471d-c8b3-143b45e0a0b2"
   },
   "execution_count": null,
   "outputs": []
  },
  {
   "cell_type": "code",
   "source": [
    "zeros = pd.DataFrame({category: [0] for category in categories})\n",
    "zeros"
   ],
   "metadata": {
    "colab": {
     "base_uri": "https://localhost:8080/",
     "height": 130
    },
    "id": "TUBPmePJ40W0",
    "outputId": "e882ed60-5ed3-47c8-f587-baa3534e5fea"
   },
   "execution_count": null,
   "outputs": []
  },
  {
   "cell_type": "code",
   "source": [
    "value_counts_chat_df = pd.concat([zeros, value_counts_chat_df])\n",
    "value_counts_chat_df"
   ],
   "metadata": {
    "colab": {
     "base_uri": "https://localhost:8080/",
     "height": 287
    },
    "id": "s4OoVPTa77Gh",
    "outputId": "cd3f79f1-dc52-4e25-df9c-2217af98e638"
   },
   "execution_count": null,
   "outputs": []
  },
  {
   "cell_type": "code",
   "source": [
    "plt.figure(figsize=(16, 8))\n",
    "plt.bar(categories, value_counts_chat_df.iloc[0], label=0)\n",
    "\n",
    "for i in range(1, 6):\n",
    "  plt.bar(categories, value_counts_chat_df.iloc[i], bottom=value_counts_chat_df.iloc[:i].sum(), label=i)\n",
    "\n",
    "plt.title('Rozkład ocen przyznawanych poszczególnym kategoriom atrakcji turystycznych w danych wygenerowanych przez ChatGPT-3.5')\n",
    "plt.legend(loc='upper right')\n",
    "plt.xticks(rotation='vertical')\n",
    "\n",
    "\n",
    "plt.tight_layout(pad=1)\n",
    "plt.savefig('imgs/img10.png')\n",
    "plt.show()"
   ],
   "metadata": {
    "colab": {
     "base_uri": "https://localhost:8080/",
     "height": 809
    },
    "id": "GTPIDrur8Pjp",
    "outputId": "f7b9e36b-b09e-4730-f71b-529f0a9010ea"
   },
   "execution_count": null,
   "outputs": []
  },
  {
   "cell_type": "code",
   "source": [
    "value_counts_form_df = form_df[categories].apply(pd.value_counts).fillna(0)\n",
    "\n",
    "plt.figure(figsize=(16, 8))\n",
    "plt.bar(categories, value_counts_form_df.iloc[0], label=0)\n",
    "\n",
    "for i in range(1, 6):\n",
    "  plt.bar(categories, value_counts_form_df.iloc[i], bottom=value_counts_form_df.iloc[:i].sum(), label=i)\n",
    "\n",
    "plt.title('Rozkład ocen przyznawanych poszczególnym kategoriom atrakcji turystycznych w danych zebranych za pomocą ankiety')\n",
    "plt.legend(loc='upper right')\n",
    "plt.xticks(rotation='vertical')\n",
    "plt.tight_layout(pad=1)\n",
    "plt.savefig('imgs/img11.png')\n",
    "plt.show()"
   ],
   "metadata": {
    "colab": {
     "base_uri": "https://localhost:8080/",
     "height": 809
    },
    "id": "rl6ghcMW8c6s",
    "outputId": "c4b03b3a-7326-41ec-91a9-b701de3eb092"
   },
   "execution_count": null,
   "outputs": []
  },
  {
   "cell_type": "code",
   "source": [
    "grades_num_chat = value_counts_chat_df.sum(axis=1)\n",
    "\n",
    "plt.figure(figsize=(8, 8))\n",
    "plt.bar(range(6), grades_num_chat, color='darkblue')\n",
    "plt.title('Rozkład wszystkich ocen przyznanych przez ChatGPT-3.5')\n",
    "\n",
    "plt.tight_layout(pad=1)\n",
    "plt.savefig('imgs/img12.png')\n",
    "plt.show()\n"
   ],
   "metadata": {
    "colab": {
     "base_uri": "https://localhost:8080/",
     "height": 809
    },
    "id": "WSjUBDSo_yNw",
    "outputId": "25a98bbe-7d32-404a-be8c-83c659ecda1a"
   },
   "execution_count": null,
   "outputs": []
  },
  {
   "cell_type": "code",
   "source": [
    "grades_num_form = value_counts_form_df.sum(axis=1)\n",
    "\n",
    "plt.figure(figsize=(8, 8))\n",
    "plt.bar(range(6), grades_num_form, color='green')\n",
    "plt.title('Rozkład wszystkich ocen przyznanych przez ankietowanych')\n",
    "\n",
    "plt.tight_layout(pad=1)\n",
    "plt.savefig('imgs/img13.png')\n",
    "plt.show()"
   ],
   "metadata": {
    "colab": {
     "base_uri": "https://localhost:8080/",
     "height": 809
    },
    "id": "m59nkfYUMJRh",
    "outputId": "3afd6ebd-7d96-4435-b607-bc6a4a57c479"
   },
   "execution_count": null,
   "outputs": []
  },
  {
   "cell_type": "code",
   "source": [
    "def convert_to_binary(df, cols):\n",
    "  means = df[cols].mean(axis=1)\n",
    "  pref_df = pd.DataFrame()\n",
    "\n",
    "  for col in cols:\n",
    "    pref_df[col] = df[col] >= means\n",
    "\n",
    "  return pref_df.astype(int)"
   ],
   "metadata": {
    "id": "ozVRUaegM4eX"
   },
   "execution_count": null,
   "outputs": []
  },
  {
   "cell_type": "code",
   "source": [
    "scaled_chat_df = convert_to_binary(chat_df, categories)\n",
    "scaled_chat_df.head(3)"
   ],
   "metadata": {
    "colab": {
     "base_uri": "https://localhost:8080/",
     "height": 192
    },
    "id": "K8Q4exK7x3Ye",
    "outputId": "d0a14308-5fc0-4b20-db18-05333f2eac5e"
   },
   "execution_count": null,
   "outputs": []
  },
  {
   "cell_type": "code",
   "source": [
    "value_counts_scaled_chat_df = scaled_chat_df[categories].apply(pd.value_counts).fillna(0)\n",
    "\n",
    "plt.figure(figsize=(16, 8))\n",
    "plt.bar(categories, value_counts_scaled_chat_df.iloc[0], label='Not like')\n",
    "plt.bar(categories, value_counts_scaled_chat_df.iloc[1], bottom=value_counts_scaled_chat_df.iloc[0], label='Like')\n",
    "\n",
    "plt.title('Like or not like PoI types - AI-generated')\n",
    "plt.legend(loc='upper right')\n",
    "plt.xticks(rotation='vertical')\n",
    "\n",
    "plt.show()"
   ],
   "metadata": {
    "colab": {
     "base_uri": "https://localhost:8080/",
     "height": 861
    },
    "id": "PdjYiQYEy5By",
    "outputId": "dc72659c-aa0f-44c9-c44b-0612f7d95ef5"
   },
   "execution_count": null,
   "outputs": []
  },
  {
   "cell_type": "code",
   "source": [
    "column_order = value_counts_scaled_chat_df.iloc[1].argsort()\n",
    "sorted_value_counts_scaled_chat_df = value_counts_scaled_chat_df.iloc[:, column_order]\n",
    "sorted_value_counts_scaled_chat_df"
   ],
   "metadata": {
    "colab": {
     "base_uri": "https://localhost:8080/",
     "height": 161
    },
    "id": "jodUfcCLzgq6",
    "outputId": "baa79c42-5190-4d68-97c0-214572573057"
   },
   "execution_count": null,
   "outputs": []
  },
  {
   "cell_type": "code",
   "source": [
    "plt.figure(figsize=(16, 8))\n",
    "plt.bar(sorted_value_counts_scaled_chat_df.columns, sorted_value_counts_scaled_chat_df.iloc[0], label='Not like')\n",
    "plt.bar(sorted_value_counts_scaled_chat_df.columns, sorted_value_counts_scaled_chat_df.iloc[1], bottom=sorted_value_counts_scaled_chat_df.iloc[0], label='Like')\n",
    "\n",
    "plt.title('Rozkład klas pozytywnych i negatywnych dla poszczególnych kategorii atrakcji turystycznych w danych wygenerowanych przez ChatGPT-3.5')\n",
    "plt.legend(loc='upper right')\n",
    "plt.xticks(rotation='vertical')\n",
    "\n",
    "plt.tight_layout(pad=1)\n",
    "plt.savefig('imgs/img14.png')\n",
    "plt.show()"
   ],
   "metadata": {
    "colab": {
     "base_uri": "https://localhost:8080/",
     "height": 809
    },
    "id": "-MFW58aX0I0S",
    "outputId": "c0c79f46-e19c-43cf-988e-28f0a2511234"
   },
   "execution_count": null,
   "outputs": []
  },
  {
   "cell_type": "code",
   "source": [
    "scaled_form_df = convert_to_binary(form_df, categories)\n",
    "scaled_form_df.head(3)"
   ],
   "metadata": {
    "colab": {
     "base_uri": "https://localhost:8080/",
     "height": 192
    },
    "id": "nL5CDi7Xxft2",
    "outputId": "9797ad33-e9fa-4ce4-cdca-2ae317aa0de4"
   },
   "execution_count": null,
   "outputs": []
  },
  {
   "cell_type": "code",
   "source": [
    "value_counts_scaled_form_df = scaled_form_df[categories].apply(pd.value_counts).fillna(0)\n",
    "\n",
    "plt.figure(figsize=(16, 8))\n",
    "plt.bar(categories, value_counts_scaled_form_df.iloc[0], label='Not like')\n",
    "plt.bar(categories, value_counts_scaled_form_df.iloc[1], bottom=value_counts_scaled_form_df.iloc[0], label='Like')\n",
    "\n",
    "plt.title('Rozkład klas pozytywnych i negatywnych dla poszczególnych kategorii atrakcji turystycznych w danych zebranych za pomocą ankiety')\n",
    "plt.legend(loc='upper right')\n",
    "plt.xticks(rotation='vertical')\n",
    "\n",
    "plt.tight_layout(pad=1)\n",
    "plt.savefig('imgs/img15.png')\n",
    "plt.show()"
   ],
   "metadata": {
    "colab": {
     "base_uri": "https://localhost:8080/",
     "height": 809
    },
    "id": "h2edfZa7yY_y",
    "outputId": "57d9cfa9-b673-450e-e8b1-ebf5fbd58ee0"
   },
   "execution_count": null,
   "outputs": []
  },
  {
   "cell_type": "code",
   "source": [
    "column_order = value_counts_scaled_form_df.iloc[1].argsort()\n",
    "sorted_value_counts_scaled_form_df = value_counts_scaled_form_df.iloc[:, column_order]\n",
    "sorted_value_counts_scaled_form_df"
   ],
   "metadata": {
    "colab": {
     "base_uri": "https://localhost:8080/",
     "height": 141
    },
    "id": "Lsp3QISpyN33",
    "outputId": "67185569-286f-4df3-f338-f6ec4ebc9904"
   },
   "execution_count": null,
   "outputs": []
  },
  {
   "cell_type": "code",
   "source": [
    "plt.figure(figsize=(16, 8))\n",
    "plt.bar(sorted_value_counts_scaled_form_df.columns, sorted_value_counts_scaled_form_df.iloc[0], label='Not like')\n",
    "plt.bar(sorted_value_counts_scaled_form_df.columns, sorted_value_counts_scaled_form_df.iloc[1], bottom=sorted_value_counts_scaled_form_df.iloc[0], label='Like')\n",
    "\n",
    "plt.title('Rozkład klas pozytywnych i negatywnych dla poszczególnych kategorii atrakcji turystycznych w danych zebranych za pomocą ankiety')\n",
    "plt.legend(loc='upper right')\n",
    "plt.xticks(rotation='vertical')\n",
    "\n",
    "plt.tight_layout(pad=1)\n",
    "plt.savefig('imgs/img15.png')\n",
    "plt.show()"
   ],
   "metadata": {
    "colab": {
     "base_uri": "https://localhost:8080/",
     "height": 809
    },
    "id": "tgOoG0te2P8G",
    "outputId": "fefc27e2-346a-445a-bcf8-6823ac805eb7"
   },
   "execution_count": null,
   "outputs": []
  },
  {
   "cell_type": "code",
   "source": [
    "!zip -r /content/imgs_eda.zip /content/imgs"
   ],
   "metadata": {
    "colab": {
     "base_uri": "https://localhost:8080/"
    },
    "id": "6Extf9MODid6",
    "outputId": "3da9f8a8-2244-434c-bc93-f59951def484"
   },
   "execution_count": null,
   "outputs": []
  },
  {
   "cell_type": "code",
   "source": [
    "! ls"
   ],
   "metadata": {
    "id": "d5LyaW8aEESF",
    "outputId": "28240e39-9e89-49e2-8819-a36538570af6",
    "colab": {
     "base_uri": "https://localhost:8080/"
    }
   },
   "execution_count": null,
   "outputs": []
  },
  {
   "cell_type": "code",
   "source": [
    "plt.figure(figsize=(8, 8))\n",
    "plt.title('Form vs AI-generated data - boxplot\\n(number of positive rates for categories)')\n",
    "plt.boxplot([value_counts_scaled_form_df.iloc[1]/len(form_df), value_counts_scaled_chat_df.iloc[1]/len(chat_df)], labels=['Form', 'AI-generated'])\n",
    "plt.show()"
   ],
   "metadata": {
    "colab": {
     "base_uri": "https://localhost:8080/",
     "height": 722
    },
    "id": "MqHJMQs62cNY",
    "outputId": "d8320724-8fbc-4ea8-c9a3-eb299eff9d5e"
   },
   "execution_count": null,
   "outputs": []
  },
  {
   "cell_type": "code",
   "source": [],
   "metadata": {
    "id": "y3PYLjXsCVDv"
   },
   "execution_count": null,
   "outputs": []
  }
 ]
}
