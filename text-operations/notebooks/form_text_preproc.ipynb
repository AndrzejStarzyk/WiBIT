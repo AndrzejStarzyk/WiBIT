{
  "nbformat": 4,
  "nbformat_minor": 0,
  "metadata": {
    "colab": {
      "provenance": [],
      "gpuType": "T4"
    },
    "kernelspec": {
      "name": "python3",
      "display_name": "Python 3"
    },
    "language_info": {
      "name": "python"
    },
    "accelerator": "GPU"
  },
  "cells": [
    {
      "cell_type": "code",
      "execution_count": 2,
      "metadata": {
        "id": "F3qvmR3kjSQ7"
      },
      "outputs": [],
      "source": [
        "import pandas as pd\n",
        "\n",
        "categories_dict = {'Koła widokowe': 'ferris_wheels',\n",
        "                  'Areny sportów zimowych': 'winter_sports',\n",
        "                  'Świątynie hinduizmu': 'hindu_temples',\n",
        "                  'Obiekty archeologiczne': 'archaeology',\n",
        "                  'Kopce/kurchany': 'tumuluses',\n",
        "                  'Muzea biograficzne': 'biographical_museums',\n",
        "                  'Muzea modowe': 'fashion_museums',\n",
        "                  'Parki rozrywki': 'amusement_parks',\n",
        "                  'Parki wodne': 'water_parks',\n",
        "                  'Parki miniatur': 'miniature_parks',\n",
        "                  'Baseny, termy i sauny': 'baths_and_saunas',\n",
        "                  'Ścianki wspinaczkowe': 'climbing',\n",
        "                  'Stadiony': 'stadiums',\n",
        "                  'Źródła': 'natural_springs',\n",
        "                  'Rzeki, kanały, wodospady': 'water',\n",
        "                  'Rezerwaty przyrody': 'nature_reserves',\n",
        "                  'Plaże': 'beaches',\n",
        "                  'Stacje kolejowe': 'railway_stations',\n",
        "                  'Zapory': 'dams',\n",
        "                  'Mennice': 'mints',\n",
        "                  'Kopalnie': 'mineshafts',\n",
        "                  'Muzea nauki i techniki': 'science_museums',\n",
        "                  'Kościoły': 'churches',\n",
        "                  'Katedry': 'cathedrals',\n",
        "                  'Klasztory': 'monasteries',\n",
        "                  'Synagogi': 'synagogues',\n",
        "                  'Meczety': 'mosques',\n",
        "                  'Zamki': 'castles',\n",
        "                  'Wieże obronne': 'fortified_towers',\n",
        "                  'Bunkry': 'bunkers',\n",
        "                  'Muzea militarne': 'military_museums',\n",
        "                  'Pola bitew': 'battlefields',\n",
        "                  'Cmentarze wojenne': 'war_graves',\n",
        "                  'Cmentarze': 'cemeteries',\n",
        "                  'Mauzolea': 'mausoleums',\n",
        "                  'Krypty': 'crypts',\n",
        "                  'Murale': 'wall_painting',\n",
        "                  'Fontanny': 'fountains',\n",
        "                  'Rzeźby': 'sculptures',\n",
        "                  'Zieleń miejska': 'gardens_and_parks',\n",
        "                  'Muzea archeologiczne': 'archaeological_museums',\n",
        "                  'Galerie sztuki': 'art_galleries',\n",
        "                  'Muzea historyczne': 'history_museums',\n",
        "                  'Muzea lokalne': 'local_museums',\n",
        "                  'Muzea narodowe': 'national_museums',\n",
        "                  'Planetaria': 'planetariums',\n",
        "                  'Zoo': 'zoos',\n",
        "                  'Akwaria': 'aquariums',\n",
        "                  'Drapacze chmur': 'skyscrapers',\n",
        "                  'Wieże (zegarowe, widokowe)': 'towers',\n",
        "                  'Budynki historyczne': 'historic_architecture',\n",
        "                  'Mosty': 'bridges',\n",
        "                  'Pomniki': 'monuments'}\n",
        "\n",
        "def read_form_result(csv_path):\n",
        "  df = pd.read_csv(csv_path)\n",
        "  df = df.drop(df.columns[-6:], axis=1)\n",
        "  df = df.drop(df.columns[0], axis=1)\n",
        "  cols = df.columns\n",
        "\n",
        "  new_col_names = ['text', 'date']\n",
        "  for col in cols[3:]:\n",
        "    new_col_names_cat = [col.split('[')[-1][:-1] for col in cols[2:]]\n",
        "\n",
        "  new_col_names += new_col_names_cat\n",
        "  df.columns = [categories_dict[cat] if cat in categories_dict else cat for cat in new_col_names]\n",
        "\n",
        "  return df"
      ]
    },
    {
      "cell_type": "code",
      "source": [
        "df = read_form_result('./wibit_form.csv')\n",
        "df"
      ],
      "metadata": {
        "id": "X_fLWEOYjxoz"
      },
      "execution_count": null,
      "outputs": []
    },
    {
      "cell_type": "code",
      "source": [
        "! pip install stop_words"
      ],
      "metadata": {
        "colab": {
          "base_uri": "https://localhost:8080/"
        },
        "id": "65L4sJhkndUT",
        "outputId": "575e183a-fdaf-4e17-d8fe-62c232fa671b"
      },
      "execution_count": 3,
      "outputs": [
        {
          "output_type": "stream",
          "name": "stdout",
          "text": [
            "Requirement already satisfied: stop_words in /usr/local/lib/python3.10/dist-packages (2018.7.23)\n"
          ]
        }
      ]
    },
    {
      "cell_type": "code",
      "source": [
        "import re\n",
        "from string import punctuation\n",
        "import nltk\n",
        "import spacy\n",
        "nltk.download('stopwords')\n",
        "from nltk.corpus import stopwords\n",
        "from stop_words import get_stop_words\n",
        "\n",
        "stopwords_pl = get_stop_words(\"pl\")"
      ],
      "metadata": {
        "colab": {
          "base_uri": "https://localhost:8080/"
        },
        "id": "3f9lnxCej39G",
        "outputId": "bc7f808c-af36-417e-8e87-8382834a8ff5"
      },
      "execution_count": 38,
      "outputs": [
        {
          "output_type": "stream",
          "name": "stderr",
          "text": [
            "[nltk_data] Downloading package stopwords to /root/nltk_data...\n",
            "[nltk_data]   Package stopwords is already up-to-date!\n"
          ]
        }
      ]
    },
    {
      "cell_type": "code",
      "source": [
        "def preprocess_text(text):\n",
        "    translator = str.maketrans(\"\", \"\", punctuation)\n",
        "    new_text = text.translate(translator)\n",
        "    new_text = re.sub(r'\\d+', '', new_text)\n",
        "    new_text = new_text.lower()\n",
        "    new_text = re.sub(r'\\s+', ' ', new_text)\n",
        "    tokens = new_text.split(' ')\n",
        "\n",
        "    filtered_tokens = [token for token in tokens if token not in stopwords_pl]\n",
        "    filtered_tokens = [token for token in filtered_tokens if token!= '']\n",
        "    processed_text = \" \".join(filtered_tokens)\n",
        "\n",
        "    return processed_text"
      ],
      "metadata": {
        "id": "_q3oGCWg79fH"
      },
      "execution_count": 39,
      "outputs": []
    },
    {
      "cell_type": "code",
      "source": [
        "preprocess_text(df['text'][1])"
      ],
      "metadata": {
        "colab": {
          "base_uri": "https://localhost:8080/",
          "height": 54
        },
        "id": "fqA0dLq-mW2k",
        "outputId": "5bc2ac1d-f655-4232-bb8b-f21ab129db0c"
      },
      "execution_count": 40,
      "outputs": [
        {
          "output_type": "execute_result",
          "data": {
            "text/plain": [
              "'interesuję wszystkim związane z przyrodą zwierzętami i roślinami lubię miejsca otoczony takimi rzeczami lubię piesze wycieczki i aktywne zwiedzanie nowych miejsc lubię restauracje oferujące sushi i inne azjatyckie potrawy'"
            ],
            "application/vnd.google.colaboratory.intrinsic+json": {
              "type": "string"
            }
          },
          "metadata": {},
          "execution_count": 40
        }
      ]
    },
    {
      "cell_type": "code",
      "source": [
        "stopwords_pl"
      ],
      "metadata": {
        "id": "cXQn7tEAmikW"
      },
      "execution_count": null,
      "outputs": []
    },
    {
      "cell_type": "code",
      "source": [
        "! python -m spacy download pl_core_news_sm"
      ],
      "metadata": {
        "id": "Dboe5FT56C44"
      },
      "execution_count": null,
      "outputs": []
    },
    {
      "cell_type": "code",
      "source": [
        "import torch\n",
        "import spacy\n",
        "\n",
        "spcay_nlp = spacy.load(\"pl_core_news_sm\")"
      ],
      "metadata": {
        "id": "gnGJ0z-Gmypl"
      },
      "execution_count": 21,
      "outputs": []
    },
    {
      "cell_type": "code",
      "source": [
        "pre_prep_texts = pd.Series([preprocess_text(df['text'][i]) for i in range(len(df))])\n",
        "pre_prep_texts[:3]"
      ],
      "metadata": {
        "colab": {
          "base_uri": "https://localhost:8080/"
        },
        "id": "JocfgexH7N0v",
        "outputId": "35e27766-2fa5-42c5-ae3e-9b9cf0096047"
      },
      "execution_count": 41,
      "outputs": [
        {
          "output_type": "execute_result",
          "data": {
            "text/plain": [
              "0    moimi głównymi zainteresowaniami nowe technolo...\n",
              "1    interesuję wszystkim związane z przyrodą zwier...\n",
              "2    interesuję ogrodnictwem planując wyjazdy turys...\n",
              "dtype: object"
            ]
          },
          "metadata": {},
          "execution_count": 41
        }
      ]
    },
    {
      "cell_type": "code",
      "source": [
        "texts_spacy = pre_prep_texts.map(spcay_nlp)\n",
        "\n",
        "lemmatized_texts = texts_spacy.map(lambda doc: [t.lemma_ for t in doc])\n",
        "lemmatized_texts[:3]"
      ],
      "metadata": {
        "colab": {
          "base_uri": "https://localhost:8080/"
        },
        "id": "65oga6xx8zwu",
        "outputId": "1cdb5785-b244-4fe5-d43e-0704511881e3"
      },
      "execution_count": 42,
      "outputs": [
        {
          "output_type": "execute_result",
          "data": {
            "text/plain": [
              "0    [mój, główny, zainteresowania, nowy, technolog...\n",
              "1    [interesować, wszyscy, związać, z, przyroda, z...\n",
              "2    [interesować, ogrodnictwo, planuć, wyjazd, tur...\n",
              "dtype: object"
            ]
          },
          "metadata": {},
          "execution_count": 42
        }
      ]
    },
    {
      "cell_type": "code",
      "source": [
        "lemmatized_texts[1]"
      ],
      "metadata": {
        "colab": {
          "base_uri": "https://localhost:8080/"
        },
        "id": "2wLyQLi_9Dyp",
        "outputId": "34e44550-e5e3-4029-99b0-420d506926fa"
      },
      "execution_count": 43,
      "outputs": [
        {
          "output_type": "execute_result",
          "data": {
            "text/plain": [
              "['interesować',\n",
              " 'wszyscy',\n",
              " 'związać',\n",
              " 'z',\n",
              " 'przyroda',\n",
              " 'zwierzętami',\n",
              " 'i',\n",
              " 'roślina',\n",
              " 'lubić',\n",
              " 'miejsce',\n",
              " 'otoczć',\n",
              " 'taki',\n",
              " 'rzecz',\n",
              " 'lubić',\n",
              " 'piesze',\n",
              " 'wycieczka',\n",
              " 'i',\n",
              " 'aktywny',\n",
              " 'zwiedzać',\n",
              " 'nowy',\n",
              " 'miejsce',\n",
              " 'lubić',\n",
              " 'restauracja',\n",
              " 'oferuć',\n",
              " 'sushi',\n",
              " 'i',\n",
              " 'inny',\n",
              " 'azjatycki',\n",
              " 'potrawa']"
            ]
          },
          "metadata": {},
          "execution_count": 43
        }
      ]
    },
    {
      "cell_type": "code",
      "source": [
        "spacy_vectors = texts_spacy.map(lambda doc: doc.vector)\n",
        "spacy_vectors[:3]"
      ],
      "metadata": {
        "colab": {
          "base_uri": "https://localhost:8080/"
        },
        "id": "lGOZ4RuK9Nsi",
        "outputId": "52302c44-cfaa-4434-9cec-dd1999ceccfe"
      },
      "execution_count": 44,
      "outputs": [
        {
          "output_type": "execute_result",
          "data": {
            "text/plain": [
              "0    [0.22857785, 0.87393624, 1.3016139, -0.6452852...\n",
              "1    [0.7168031, 0.5955319, 2.009072, -0.37234628, ...\n",
              "2    [1.576092, -0.039090604, 1.3596128, 0.8685283,...\n",
              "dtype: object"
            ]
          },
          "metadata": {},
          "execution_count": 44
        }
      ]
    },
    {
      "cell_type": "code",
      "source": [
        "len(spacy_vectors[0])"
      ],
      "metadata": {
        "colab": {
          "base_uri": "https://localhost:8080/"
        },
        "id": "oY0oS7lC-CP1",
        "outputId": "b0c0a404-1458-443d-e653-e014e274a6a2"
      },
      "execution_count": 45,
      "outputs": [
        {
          "output_type": "execute_result",
          "data": {
            "text/plain": [
              "96"
            ]
          },
          "metadata": {},
          "execution_count": 45
        }
      ]
    },
    {
      "cell_type": "code",
      "source": [
        "len(spacy_vectors[1])"
      ],
      "metadata": {
        "colab": {
          "base_uri": "https://localhost:8080/"
        },
        "id": "DHXG94mP-FQ2",
        "outputId": "36d028aa-cbcd-468e-d7c3-7a2a0be4d31d"
      },
      "execution_count": 46,
      "outputs": [
        {
          "output_type": "execute_result",
          "data": {
            "text/plain": [
              "96"
            ]
          },
          "metadata": {},
          "execution_count": 46
        }
      ]
    },
    {
      "cell_type": "code",
      "source": [
        "spacy_vectors[1]"
      ],
      "metadata": {
        "colab": {
          "base_uri": "https://localhost:8080/"
        },
        "id": "emdSW7B6-HLB",
        "outputId": "fd283400-fa65-4f6c-d552-ad6a2e147b38"
      },
      "execution_count": 47,
      "outputs": [
        {
          "output_type": "execute_result",
          "data": {
            "text/plain": [
              "array([ 0.7168031 ,  0.5955319 ,  2.009072  , -0.37234628,  0.82128763,\n",
              "       -0.35048795,  0.24421151,  0.39252314,  1.8342274 , -0.6283602 ,\n",
              "       -0.16024429, -0.0796274 , -1.6359597 ,  0.17821568,  1.7413445 ,\n",
              "       -0.5667683 ,  0.2629507 , -1.0147601 ,  0.11391503,  0.26811373,\n",
              "        1.294093  , -0.09958805, -0.00599426, -0.21897136, -1.1244534 ,\n",
              "       -1.2906537 , -1.513387  , -0.29813954,  0.69212586,  0.7402044 ,\n",
              "        0.2726266 ,  0.19464204,  0.3574349 , -0.58347213,  1.5331676 ,\n",
              "       -1.1687576 ,  0.20947945, -1.3128127 ,  0.15884131, -0.9578256 ,\n",
              "       -0.02474066,  0.7200645 , -0.426533  ,  0.26914862,  0.46717167,\n",
              "       -0.85749143, -2.1566858 , -1.4873819 ,  1.3507147 ,  0.22768906,\n",
              "       -1.1716539 , -0.03886688, -0.5212391 , -0.80810887, -1.6326982 ,\n",
              "       -0.5193767 , -0.14037827, -0.126084  , -1.0485944 ,  0.77830195,\n",
              "        0.09384193,  0.76963216,  0.75011593, -0.16475569,  1.8674141 ,\n",
              "        0.6732757 ,  0.4142965 , -0.23759443,  0.67565805,  0.18579651,\n",
              "       -0.86877656, -1.103033  ,  0.35253587,  0.7483747 ,  0.5434906 ,\n",
              "        0.43437892,  0.63169134, -0.07865522,  0.4443816 , -1.7643234 ,\n",
              "        0.5287453 , -0.68088275,  2.127401  ,  1.2411842 , -0.4327811 ,\n",
              "        1.0532455 ,  1.3292023 ,  1.0281144 ,  0.32096946,  1.7572837 ,\n",
              "        0.14630543, -1.0189358 ,  1.6885198 ,  1.9777436 , -0.6936275 ,\n",
              "       -0.10567643], dtype=float32)"
            ]
          },
          "metadata": {},
          "execution_count": 47
        }
      ]
    },
    {
      "cell_type": "code",
      "source": [
        "# spacy returns 96 element vectors of texts - might be useful in future tasks"
      ],
      "metadata": {
        "id": "VpmQrHMEX5Pw"
      },
      "execution_count": null,
      "outputs": []
    },
    {
      "cell_type": "code",
      "source": [
        "! pip install googletrans==4.0.0-rc1"
      ],
      "metadata": {
        "id": "d9zN5UqA-goc"
      },
      "execution_count": null,
      "outputs": []
    },
    {
      "cell_type": "code",
      "source": [
        "from googletrans import Translator\n",
        "\n",
        "translator = Translator()\n",
        "\n",
        "df['text_en'] = [translator.translate(sentence, src='pl', dest='en').text for sentence in df['text']]"
      ],
      "metadata": {
        "id": "GRhil6jZHBP2"
      },
      "execution_count": 5,
      "outputs": []
    },
    {
      "cell_type": "code",
      "source": [
        "df[['text', 'text_en']].head(5)"
      ],
      "metadata": {
        "colab": {
          "base_uri": "https://localhost:8080/",
          "height": 206
        },
        "id": "tvsj4XfbHOe4",
        "outputId": "50b3f46b-c3a3-49b2-d3de-fdca9a9f53b5"
      },
      "execution_count": 7,
      "outputs": [
        {
          "output_type": "execute_result",
          "data": {
            "text/plain": [
              "                                                text  \\\n",
              "0  Moimi głównymi zainteresowaniami są nowe techn...   \n",
              "1  Interesuję się wszystkim co związane z przyrod...   \n",
              "2  Interesuję się ogrodnictwem, dlatego planując ...   \n",
              "3  Interesuję się sportem i muzyką. Moje hobby to...   \n",
              "4  Wypoczynek nad wodą, interesuje się lotnictwem...   \n",
              "\n",
              "                                             text_en  \n",
              "0  New technologies and scientific issues are my ...  \n",
              "1  I am interested in everything related to natur...  \n",
              "2  I am interested in gardening, which is why whe...  \n",
              "3  I am interested in sport and music.My hobby is...  \n",
              "4  Remaining by the water, is interested in aviat...  "
            ],
            "text/html": [
              "\n",
              "  <div id=\"df-518ad0f6-6e11-4998-94f8-2ba5cd3dd901\" class=\"colab-df-container\">\n",
              "    <div>\n",
              "<style scoped>\n",
              "    .dataframe tbody tr th:only-of-type {\n",
              "        vertical-align: middle;\n",
              "    }\n",
              "\n",
              "    .dataframe tbody tr th {\n",
              "        vertical-align: top;\n",
              "    }\n",
              "\n",
              "    .dataframe thead th {\n",
              "        text-align: right;\n",
              "    }\n",
              "</style>\n",
              "<table border=\"1\" class=\"dataframe\">\n",
              "  <thead>\n",
              "    <tr style=\"text-align: right;\">\n",
              "      <th></th>\n",
              "      <th>text</th>\n",
              "      <th>text_en</th>\n",
              "    </tr>\n",
              "  </thead>\n",
              "  <tbody>\n",
              "    <tr>\n",
              "      <th>0</th>\n",
              "      <td>Moimi głównymi zainteresowaniami są nowe techn...</td>\n",
              "      <td>New technologies and scientific issues are my ...</td>\n",
              "    </tr>\n",
              "    <tr>\n",
              "      <th>1</th>\n",
              "      <td>Interesuję się wszystkim co związane z przyrod...</td>\n",
              "      <td>I am interested in everything related to natur...</td>\n",
              "    </tr>\n",
              "    <tr>\n",
              "      <th>2</th>\n",
              "      <td>Interesuję się ogrodnictwem, dlatego planując ...</td>\n",
              "      <td>I am interested in gardening, which is why whe...</td>\n",
              "    </tr>\n",
              "    <tr>\n",
              "      <th>3</th>\n",
              "      <td>Interesuję się sportem i muzyką. Moje hobby to...</td>\n",
              "      <td>I am interested in sport and music.My hobby is...</td>\n",
              "    </tr>\n",
              "    <tr>\n",
              "      <th>4</th>\n",
              "      <td>Wypoczynek nad wodą, interesuje się lotnictwem...</td>\n",
              "      <td>Remaining by the water, is interested in aviat...</td>\n",
              "    </tr>\n",
              "  </tbody>\n",
              "</table>\n",
              "</div>\n",
              "    <div class=\"colab-df-buttons\">\n",
              "\n",
              "  <div class=\"colab-df-container\">\n",
              "    <button class=\"colab-df-convert\" onclick=\"convertToInteractive('df-518ad0f6-6e11-4998-94f8-2ba5cd3dd901')\"\n",
              "            title=\"Convert this dataframe to an interactive table.\"\n",
              "            style=\"display:none;\">\n",
              "\n",
              "  <svg xmlns=\"http://www.w3.org/2000/svg\" height=\"24px\" viewBox=\"0 -960 960 960\">\n",
              "    <path d=\"M120-120v-720h720v720H120Zm60-500h600v-160H180v160Zm220 220h160v-160H400v160Zm0 220h160v-160H400v160ZM180-400h160v-160H180v160Zm440 0h160v-160H620v160ZM180-180h160v-160H180v160Zm440 0h160v-160H620v160Z\"/>\n",
              "  </svg>\n",
              "    </button>\n",
              "\n",
              "  <style>\n",
              "    .colab-df-container {\n",
              "      display:flex;\n",
              "      gap: 12px;\n",
              "    }\n",
              "\n",
              "    .colab-df-convert {\n",
              "      background-color: #E8F0FE;\n",
              "      border: none;\n",
              "      border-radius: 50%;\n",
              "      cursor: pointer;\n",
              "      display: none;\n",
              "      fill: #1967D2;\n",
              "      height: 32px;\n",
              "      padding: 0 0 0 0;\n",
              "      width: 32px;\n",
              "    }\n",
              "\n",
              "    .colab-df-convert:hover {\n",
              "      background-color: #E2EBFA;\n",
              "      box-shadow: 0px 1px 2px rgba(60, 64, 67, 0.3), 0px 1px 3px 1px rgba(60, 64, 67, 0.15);\n",
              "      fill: #174EA6;\n",
              "    }\n",
              "\n",
              "    .colab-df-buttons div {\n",
              "      margin-bottom: 4px;\n",
              "    }\n",
              "\n",
              "    [theme=dark] .colab-df-convert {\n",
              "      background-color: #3B4455;\n",
              "      fill: #D2E3FC;\n",
              "    }\n",
              "\n",
              "    [theme=dark] .colab-df-convert:hover {\n",
              "      background-color: #434B5C;\n",
              "      box-shadow: 0px 1px 3px 1px rgba(0, 0, 0, 0.15);\n",
              "      filter: drop-shadow(0px 1px 2px rgba(0, 0, 0, 0.3));\n",
              "      fill: #FFFFFF;\n",
              "    }\n",
              "  </style>\n",
              "\n",
              "    <script>\n",
              "      const buttonEl =\n",
              "        document.querySelector('#df-518ad0f6-6e11-4998-94f8-2ba5cd3dd901 button.colab-df-convert');\n",
              "      buttonEl.style.display =\n",
              "        google.colab.kernel.accessAllowed ? 'block' : 'none';\n",
              "\n",
              "      async function convertToInteractive(key) {\n",
              "        const element = document.querySelector('#df-518ad0f6-6e11-4998-94f8-2ba5cd3dd901');\n",
              "        const dataTable =\n",
              "          await google.colab.kernel.invokeFunction('convertToInteractive',\n",
              "                                                    [key], {});\n",
              "        if (!dataTable) return;\n",
              "\n",
              "        const docLinkHtml = 'Like what you see? Visit the ' +\n",
              "          '<a target=\"_blank\" href=https://colab.research.google.com/notebooks/data_table.ipynb>data table notebook</a>'\n",
              "          + ' to learn more about interactive tables.';\n",
              "        element.innerHTML = '';\n",
              "        dataTable['output_type'] = 'display_data';\n",
              "        await google.colab.output.renderOutput(dataTable, element);\n",
              "        const docLink = document.createElement('div');\n",
              "        docLink.innerHTML = docLinkHtml;\n",
              "        element.appendChild(docLink);\n",
              "      }\n",
              "    </script>\n",
              "  </div>\n",
              "\n",
              "\n",
              "<div id=\"df-d81902ff-29ab-4d12-8a21-eb2d3e950ef2\">\n",
              "  <button class=\"colab-df-quickchart\" onclick=\"quickchart('df-d81902ff-29ab-4d12-8a21-eb2d3e950ef2')\"\n",
              "            title=\"Suggest charts\"\n",
              "            style=\"display:none;\">\n",
              "\n",
              "<svg xmlns=\"http://www.w3.org/2000/svg\" height=\"24px\"viewBox=\"0 0 24 24\"\n",
              "     width=\"24px\">\n",
              "    <g>\n",
              "        <path d=\"M19 3H5c-1.1 0-2 .9-2 2v14c0 1.1.9 2 2 2h14c1.1 0 2-.9 2-2V5c0-1.1-.9-2-2-2zM9 17H7v-7h2v7zm4 0h-2V7h2v10zm4 0h-2v-4h2v4z\"/>\n",
              "    </g>\n",
              "</svg>\n",
              "  </button>\n",
              "\n",
              "<style>\n",
              "  .colab-df-quickchart {\n",
              "      --bg-color: #E8F0FE;\n",
              "      --fill-color: #1967D2;\n",
              "      --hover-bg-color: #E2EBFA;\n",
              "      --hover-fill-color: #174EA6;\n",
              "      --disabled-fill-color: #AAA;\n",
              "      --disabled-bg-color: #DDD;\n",
              "  }\n",
              "\n",
              "  [theme=dark] .colab-df-quickchart {\n",
              "      --bg-color: #3B4455;\n",
              "      --fill-color: #D2E3FC;\n",
              "      --hover-bg-color: #434B5C;\n",
              "      --hover-fill-color: #FFFFFF;\n",
              "      --disabled-bg-color: #3B4455;\n",
              "      --disabled-fill-color: #666;\n",
              "  }\n",
              "\n",
              "  .colab-df-quickchart {\n",
              "    background-color: var(--bg-color);\n",
              "    border: none;\n",
              "    border-radius: 50%;\n",
              "    cursor: pointer;\n",
              "    display: none;\n",
              "    fill: var(--fill-color);\n",
              "    height: 32px;\n",
              "    padding: 0;\n",
              "    width: 32px;\n",
              "  }\n",
              "\n",
              "  .colab-df-quickchart:hover {\n",
              "    background-color: var(--hover-bg-color);\n",
              "    box-shadow: 0 1px 2px rgba(60, 64, 67, 0.3), 0 1px 3px 1px rgba(60, 64, 67, 0.15);\n",
              "    fill: var(--button-hover-fill-color);\n",
              "  }\n",
              "\n",
              "  .colab-df-quickchart-complete:disabled,\n",
              "  .colab-df-quickchart-complete:disabled:hover {\n",
              "    background-color: var(--disabled-bg-color);\n",
              "    fill: var(--disabled-fill-color);\n",
              "    box-shadow: none;\n",
              "  }\n",
              "\n",
              "  .colab-df-spinner {\n",
              "    border: 2px solid var(--fill-color);\n",
              "    border-color: transparent;\n",
              "    border-bottom-color: var(--fill-color);\n",
              "    animation:\n",
              "      spin 1s steps(1) infinite;\n",
              "  }\n",
              "\n",
              "  @keyframes spin {\n",
              "    0% {\n",
              "      border-color: transparent;\n",
              "      border-bottom-color: var(--fill-color);\n",
              "      border-left-color: var(--fill-color);\n",
              "    }\n",
              "    20% {\n",
              "      border-color: transparent;\n",
              "      border-left-color: var(--fill-color);\n",
              "      border-top-color: var(--fill-color);\n",
              "    }\n",
              "    30% {\n",
              "      border-color: transparent;\n",
              "      border-left-color: var(--fill-color);\n",
              "      border-top-color: var(--fill-color);\n",
              "      border-right-color: var(--fill-color);\n",
              "    }\n",
              "    40% {\n",
              "      border-color: transparent;\n",
              "      border-right-color: var(--fill-color);\n",
              "      border-top-color: var(--fill-color);\n",
              "    }\n",
              "    60% {\n",
              "      border-color: transparent;\n",
              "      border-right-color: var(--fill-color);\n",
              "    }\n",
              "    80% {\n",
              "      border-color: transparent;\n",
              "      border-right-color: var(--fill-color);\n",
              "      border-bottom-color: var(--fill-color);\n",
              "    }\n",
              "    90% {\n",
              "      border-color: transparent;\n",
              "      border-bottom-color: var(--fill-color);\n",
              "    }\n",
              "  }\n",
              "</style>\n",
              "\n",
              "  <script>\n",
              "    async function quickchart(key) {\n",
              "      const quickchartButtonEl =\n",
              "        document.querySelector('#' + key + ' button');\n",
              "      quickchartButtonEl.disabled = true;  // To prevent multiple clicks.\n",
              "      quickchartButtonEl.classList.add('colab-df-spinner');\n",
              "      try {\n",
              "        const charts = await google.colab.kernel.invokeFunction(\n",
              "            'suggestCharts', [key], {});\n",
              "      } catch (error) {\n",
              "        console.error('Error during call to suggestCharts:', error);\n",
              "      }\n",
              "      quickchartButtonEl.classList.remove('colab-df-spinner');\n",
              "      quickchartButtonEl.classList.add('colab-df-quickchart-complete');\n",
              "    }\n",
              "    (() => {\n",
              "      let quickchartButtonEl =\n",
              "        document.querySelector('#df-d81902ff-29ab-4d12-8a21-eb2d3e950ef2 button');\n",
              "      quickchartButtonEl.style.display =\n",
              "        google.colab.kernel.accessAllowed ? 'block' : 'none';\n",
              "    })();\n",
              "  </script>\n",
              "</div>\n",
              "    </div>\n",
              "  </div>\n"
            ]
          },
          "metadata": {},
          "execution_count": 7
        }
      ]
    },
    {
      "cell_type": "code",
      "source": [
        "# https://huggingface.co/humarin/chatgpt_paraphraser_on_T5_base\n",
        "# in colab check if GPU environmet is checked\n",
        "\n",
        "from transformers import AutoTokenizer, AutoModelForSeq2SeqLM\n",
        "\n",
        "device = \"cuda\"\n",
        "\n",
        "tokenizer = AutoTokenizer.from_pretrained(\"humarin/chatgpt_paraphraser_on_T5_base\")\n",
        "\n",
        "model = AutoModelForSeq2SeqLM.from_pretrained(\"humarin/chatgpt_paraphraser_on_T5_base\").to(device)\n",
        "\n",
        "def paraphrase(\n",
        "    question,\n",
        "    num_beams=5,\n",
        "    num_beam_groups=5,\n",
        "    num_return_sequences=5,\n",
        "    repetition_penalty=10.0,\n",
        "    diversity_penalty=3.0,\n",
        "    no_repeat_ngram_size=2,\n",
        "    temperature=0.7,\n",
        "    max_length=128\n",
        "):\n",
        "    input_ids = tokenizer(\n",
        "        f'paraphrase: {question}',\n",
        "        return_tensors=\"pt\", padding=\"longest\",\n",
        "        max_length=max_length,\n",
        "        truncation=True,\n",
        "    ).input_ids.to(device)\n",
        "\n",
        "    outputs = model.generate(\n",
        "        input_ids, temperature=temperature, repetition_penalty=repetition_penalty,\n",
        "        num_return_sequences=num_return_sequences, no_repeat_ngram_size=no_repeat_ngram_size,\n",
        "        num_beams=num_beams, num_beam_groups=num_beam_groups,\n",
        "        max_length=max_length, diversity_penalty=diversity_penalty\n",
        "    )\n",
        "\n",
        "    res = tokenizer.batch_decode(outputs, skip_special_tokens=True)\n",
        "\n",
        "    return res"
      ],
      "metadata": {
        "id": "Tezpa9hcH-ed"
      },
      "execution_count": 19,
      "outputs": []
    },
    {
      "cell_type": "code",
      "source": [
        "paraphrase(df['text_en'][1],\n",
        "           num_return_sequences=3,\n",
        "           no_repeat_ngram_size=3)"
      ],
      "metadata": {
        "colab": {
          "base_uri": "https://localhost:8080/"
        },
        "id": "OjLY_E_mNfnc",
        "outputId": "90714ff3-98d7-4df8-9603-f74c4d77b5e6"
      },
      "execution_count": 20,
      "outputs": [
        {
          "output_type": "execute_result",
          "data": {
            "text/plain": [
              "['I am fascinated by the natural world, particularly animals and plants. I enjoy traveling and exploring new places, as well as dining out at restaurants serving sushi and other Asian cuisines.',\n",
              " 'The pursuit of nature, animals, and plants fascinates me, which is why I enjoy traveling to places that are surrounded by them. I have a passion for exploring the outdoors and experiencing new places, as well as dining out at restaurants serving sushi and other Asian culinary specialties.',\n",
              " 'My fascination lies in exploring the natural world, encountering nature, and observing plants and animals, which is why I enjoy visiting places with great excitement. I relish traveling and engaging new experiences, as well as enjoying Japanese-style sushi and other Asian culinary treats.']"
            ]
          },
          "metadata": {},
          "execution_count": 20
        }
      ]
    },
    {
      "cell_type": "code",
      "source": [
        "paraphrases_en = [paraphrase(text, num_return_sequences=3, no_repeat_ngram_size=3) for text in df['text_en']]\n",
        "\n",
        "paraphrases_en[1]"
      ],
      "metadata": {
        "colab": {
          "base_uri": "https://localhost:8080/"
        },
        "id": "A-rpTHXgKCwv",
        "outputId": "e5a4df16-a8ee-4b7c-8408-b264a185887a"
      },
      "execution_count": 21,
      "outputs": [
        {
          "output_type": "execute_result",
          "data": {
            "text/plain": [
              "['I am fascinated by the natural world, particularly animals and plants. I enjoy traveling and exploring new places, as well as dining out at restaurants serving sushi and other Asian cuisines.',\n",
              " 'The pursuit of nature, animals, and plants fascinates me, which is why I enjoy traveling to places that are surrounded by them. I have a passion for exploring the outdoors and experiencing new places, as well as dining out at restaurants serving sushi and other Asian culinary specialties.',\n",
              " 'My fascination lies in exploring the natural world, encountering nature, and observing plants and animals, which is why I enjoy visiting places with great excitement. I relish traveling and engaging new experiences, as well as enjoying Japanese-style sushi and other Asian culinary treats.']"
            ]
          },
          "metadata": {},
          "execution_count": 21
        }
      ]
    },
    {
      "cell_type": "code",
      "source": [
        "paraphrases_pl = []\n",
        "\n",
        "for paraph_texts_en in paraphrases_en:\n",
        "  paraph_texts_pl = [translator.translate(sentence, src='en', dest='pl').text for sentence in paraph_texts_en]\n",
        "  paraphrases_pl.append(paraph_texts_pl)\n",
        "\n",
        "paraphrases_pl[1]"
      ],
      "metadata": {
        "colab": {
          "base_uri": "https://localhost:8080/"
        },
        "id": "9mAvuA57LRCQ",
        "outputId": "ab3c86a9-aee6-4eb0-93c2-51dce0a81644"
      },
      "execution_count": 23,
      "outputs": [
        {
          "output_type": "execute_result",
          "data": {
            "text/plain": [
              "['Fascynuje mnie świat przyrody, zwłaszcza zwierzęta i rośliny.Lubię podróżować i odkrywać nowe miejsca, a także jeść w restauracjach serwujących sushi i inne kuchnie azjatyckie.',\n",
              " 'Fascynuje mnie dążenie do przyrody, zwierząt i roślin, dlatego lubię podróżować do miejsc, które są ich otoczone.Mam pasję do odkrywania na świeżym powietrzu i doświadczania nowych miejsc, a także jedzących w restauracjach serwujących sushi i innych azjatyckich specjalności kulinarnych.',\n",
              " 'Moja fascynacja polega na odkrywaniu świata przyrody, spotykaniu natury i obserwowaniu roślin i zwierząt, dlatego lubię odwiedzać miejsca z wielkim podnieceniem.Podobno podróżowanie i angażowanie nowych doświadczeń, a także cieszę się sushi w stylu japońskim i innych azjatyckich smakołyków kulinarnych.']"
            ]
          },
          "metadata": {},
          "execution_count": 23
        }
      ]
    },
    {
      "cell_type": "code",
      "source": [
        "import random\n",
        "import re\n",
        "\n",
        "def shuffle_sentences(text):\n",
        "    sentences = text.split('.')\n",
        "    random.shuffle(sentences)\n",
        "    shuffled_text = '.'.join(sentences)\n",
        "    return shuffled_text\n"
      ],
      "metadata": {
        "id": "xdG7LMgaPSeR"
      },
      "execution_count": 36,
      "outputs": []
    },
    {
      "cell_type": "code",
      "source": [
        "paraphrases_pl_shfl = []\n",
        "\n",
        "for paraph_texts_pl in paraphrases_pl:\n",
        "  paraph_texts_pl_shfl = [shuffle_sentences(text) for text in paraph_texts_pl]\n",
        "  paraphrases_pl_shfl.append(paraph_texts_pl_shfl)\n",
        "\n",
        "paraphrases_pl_shfl[1]"
      ],
      "metadata": {
        "colab": {
          "base_uri": "https://localhost:8080/"
        },
        "id": "KxyoRLamRG3l",
        "outputId": "ed817272-8920-4d6c-b8f9-0bbc0fc34788"
      },
      "execution_count": 37,
      "outputs": [
        {
          "output_type": "execute_result",
          "data": {
            "text/plain": [
              "['.Fascynuje mnie świat przyrody, zwłaszcza zwierzęta i rośliny.Lubię podróżować i odkrywać nowe miejsca, a także jeść w restauracjach serwujących sushi i inne kuchnie azjatyckie',\n",
              " 'Fascynuje mnie dążenie do przyrody, zwierząt i roślin, dlatego lubię podróżować do miejsc, które są ich otoczone..Mam pasję do odkrywania na świeżym powietrzu i doświadczania nowych miejsc, a także jedzących w restauracjach serwujących sushi i innych azjatyckich specjalności kulinarnych',\n",
              " 'Podobno podróżowanie i angażowanie nowych doświadczeń, a także cieszę się sushi w stylu japońskim i innych azjatyckich smakołyków kulinarnych.Moja fascynacja polega na odkrywaniu świata przyrody, spotykaniu natury i obserwowaniu roślin i zwierząt, dlatego lubię odwiedzać miejsca z wielkim podnieceniem.']"
            ]
          },
          "metadata": {},
          "execution_count": 37
        }
      ]
    },
    {
      "cell_type": "code",
      "source": [
        "df_row = df.iloc[1]\n",
        "df_row['text'] = 'ala ma kota'"
      ],
      "metadata": {
        "colab": {
          "base_uri": "https://localhost:8080/"
        },
        "id": "WZQheIwfSNQ8",
        "outputId": "ef50c994-03bd-4f16-a33c-b9ede8b7b788"
      },
      "execution_count": 43,
      "outputs": [
        {
          "output_type": "stream",
          "name": "stderr",
          "text": [
            "<ipython-input-43-189419c0fdb1>:2: SettingWithCopyWarning: \n",
            "A value is trying to be set on a copy of a slice from a DataFrame\n",
            "\n",
            "See the caveats in the documentation: https://pandas.pydata.org/pandas-docs/stable/user_guide/indexing.html#returning-a-view-versus-a-copy\n",
            "  df_row['text'] = 'ala ma kota'\n"
          ]
        }
      ]
    },
    {
      "cell_type": "code",
      "source": [
        "type(df_row)"
      ],
      "metadata": {
        "colab": {
          "base_uri": "https://localhost:8080/"
        },
        "id": "r2wtZMccTK2q",
        "outputId": "d565030e-0764-476d-fdc4-ccb64772d690"
      },
      "execution_count": 46,
      "outputs": [
        {
          "output_type": "execute_result",
          "data": {
            "text/plain": [
              "pandas.core.series.Series"
            ]
          },
          "metadata": {},
          "execution_count": 46
        }
      ]
    },
    {
      "cell_type": "code",
      "source": [
        "oversampled_df_arr = []\n",
        "\n",
        "for i in range(len(df)):\n",
        "  for j in range(3):\n",
        "    df_row = df.iloc[i]\n",
        "    df_row['text'] = paraphrases_pl_shfl[i][j]\n",
        "    oversampled_df_arr.append(df_row)\n",
        "\n",
        "oversampled_df = pd.DataFrame(oversampled_df_arr)\n",
        "oversampled_df = oversampled_df.reset_index(drop=True)\n",
        "oversampled_df.head(5)"
      ],
      "metadata": {
        "id": "O-2oBNuDTgMk"
      },
      "execution_count": null,
      "outputs": []
    },
    {
      "cell_type": "code",
      "source": [
        "random.shuffle(oversampled_df_arr)\n",
        "oversampled_df = pd.DataFrame(oversampled_df_arr)\n",
        "oversampled_df = oversampled_df.reset_index(drop=True)\n",
        "oversampled_df.head(5)"
      ],
      "metadata": {
        "id": "vuwtb0cxUBgN"
      },
      "execution_count": null,
      "outputs": []
    },
    {
      "cell_type": "code",
      "source": [
        "oversampled_df = oversampled_df.drop(['text_en'], axis=1)\n",
        "oversampled_df"
      ],
      "metadata": {
        "id": "fOkNAHDiWMI2"
      },
      "execution_count": null,
      "outputs": []
    },
    {
      "cell_type": "code",
      "source": [
        "oversampled_df.to_csv('wibit_form_oversampled.csv')"
      ],
      "metadata": {
        "id": "JoN7AZhMWrNz"
      },
      "execution_count": 57,
      "outputs": []
    },
    {
      "cell_type": "code",
      "source": [],
      "metadata": {
        "id": "63IkCcnoXjkK"
      },
      "execution_count": null,
      "outputs": []
    }
  ]
}