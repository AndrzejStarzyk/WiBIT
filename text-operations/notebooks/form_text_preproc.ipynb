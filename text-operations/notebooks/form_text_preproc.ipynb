{
 "nbformat": 4,
 "nbformat_minor": 0,
 "metadata": {
  "colab": {
   "provenance": [],
   "gpuType": "T4"
  },
  "kernelspec": {
   "name": "python3",
   "display_name": "Python 3"
  },
  "language_info": {
   "name": "python"
  },
  "accelerator": "GPU"
 },
 "cells": [
  {
   "cell_type": "code",
   "execution_count": null,
   "metadata": {
    "id": "F3qvmR3kjSQ7"
   },
   "outputs": [],
   "source": [
    "import pandas as pd\n",
    "\n",
    "categories_dict = {'Koła widokowe': 'ferris_wheels',\n",
    "                  'Areny sportów zimowych': 'winter_sports',\n",
    "                  'Świątynie hinduizmu': 'hindu_temples',\n",
    "                  'Obiekty archeologiczne': 'archaeology',\n",
    "                  'Kopce/kurchany': 'tumuluses',\n",
    "                  'Muzea biograficzne': 'biographical_museums',\n",
    "                  'Muzea modowe': 'fashion_museums',\n",
    "                  'Parki rozrywki': 'amusement_parks',\n",
    "                  'Parki wodne': 'water_parks',\n",
    "                  'Parki miniatur': 'miniature_parks',\n",
    "                  'Baseny, termy i sauny': 'baths_and_saunas',\n",
    "                  'Ścianki wspinaczkowe': 'climbing',\n",
    "                  'Stadiony': 'stadiums',\n",
    "                  'Źródła': 'natural_springs',\n",
    "                  'Rzeki, kanały, wodospady': 'water',\n",
    "                  'Rezerwaty przyrody': 'nature_reserves',\n",
    "                  'Plaże': 'beaches',\n",
    "                  'Stacje kolejowe': 'railway_stations',\n",
    "                  'Zapory': 'dams',\n",
    "                  'Mennice': 'mints',\n",
    "                  'Kopalnie': 'mineshafts',\n",
    "                  'Muzea nauki i techniki': 'science_museums',\n",
    "                  'Kościoły': 'churches',\n",
    "                  'Katedry': 'cathedrals',\n",
    "                  'Klasztory': 'monasteries',\n",
    "                  'Synagogi': 'synagogues',\n",
    "                  'Meczety': 'mosques',\n",
    "                  'Zamki': 'castles',\n",
    "                  'Wieże obronne': 'fortified_towers',\n",
    "                  'Bunkry': 'bunkers',\n",
    "                  'Muzea militarne': 'military_museums',\n",
    "                  'Pola bitew': 'battlefields',\n",
    "                  'Cmentarze wojenne': 'war_graves',\n",
    "                  'Cmentarze': 'cemeteries',\n",
    "                  'Mauzolea': 'mausoleums',\n",
    "                  'Krypty': 'crypts',\n",
    "                  'Murale': 'wall_painting',\n",
    "                  'Fontanny': 'fountains',\n",
    "                  'Rzeźby': 'sculptures',\n",
    "                  'Zieleń miejska': 'gardens_and_parks',\n",
    "                  'Muzea archeologiczne': 'archaeological_museums',\n",
    "                  'Galerie sztuki': 'art_galleries',\n",
    "                  'Muzea historyczne': 'history_museums',\n",
    "                  'Muzea lokalne': 'local_museums',\n",
    "                  'Muzea narodowe': 'national_museums',\n",
    "                  'Planetaria': 'planetariums',\n",
    "                  'Zoo': 'zoos',\n",
    "                  'Akwaria': 'aquariums',\n",
    "                  'Drapacze chmur': 'skyscrapers',\n",
    "                  'Wieże (zegarowe, widokowe)': 'towers',\n",
    "                  'Budynki historyczne': 'historic_architecture',\n",
    "                  'Mosty': 'bridges',\n",
    "                  'Pomniki': 'monuments'}\n",
    "\n",
    "def read_form_result(csv_path):\n",
    "  df = pd.read_csv(csv_path)\n",
    "  df = df.drop(df.columns[-6:], axis=1)\n",
    "  df = df.drop(df.columns[0], axis=1)\n",
    "  cols = df.columns\n",
    "\n",
    "  new_col_names = ['text', 'date']\n",
    "  for col in cols[3:]:\n",
    "    new_col_names_cat = [col.split('[')[-1][:-1] for col in cols[2:]]\n",
    "\n",
    "  new_col_names += new_col_names_cat\n",
    "  df.columns = [categories_dict[cat] if cat in categories_dict else cat for cat in new_col_names]\n",
    "\n",
    "  return df"
   ]
  },
  {
   "cell_type": "code",
   "source": [
    "df = read_form_result('./wibit_form.csv')\n",
    "df"
   ],
   "metadata": {
    "id": "X_fLWEOYjxoz"
   },
   "execution_count": null,
   "outputs": []
  },
  {
   "cell_type": "code",
   "source": [
    "! pip install stop_words"
   ],
   "metadata": {
    "colab": {
     "base_uri": "https://localhost:8080/"
    },
    "id": "65L4sJhkndUT",
    "outputId": "575e183a-fdaf-4e17-d8fe-62c232fa671b"
   },
   "execution_count": null,
   "outputs": []
  },
  {
   "cell_type": "code",
   "source": [
    "import re\n",
    "from string import punctuation\n",
    "import nltk\n",
    "import spacy\n",
    "nltk.download('stopwords')\n",
    "from nltk.corpus import stopwords\n",
    "from stop_words import get_stop_words\n",
    "\n",
    "stopwords_pl = get_stop_words(\"pl\")"
   ],
   "metadata": {
    "colab": {
     "base_uri": "https://localhost:8080/"
    },
    "id": "3f9lnxCej39G",
    "outputId": "bc7f808c-af36-417e-8e87-8382834a8ff5"
   },
   "execution_count": null,
   "outputs": []
  },
  {
   "cell_type": "code",
   "source": [
    "def preprocess_text(text):\n",
    "    translator = str.maketrans(\"\", \"\", punctuation)\n",
    "    new_text = text.translate(translator)\n",
    "    new_text = re.sub(r'\\d+', '', new_text)\n",
    "    new_text = new_text.lower()\n",
    "    new_text = re.sub(r'\\s+', ' ', new_text)\n",
    "    tokens = new_text.split(' ')\n",
    "\n",
    "    filtered_tokens = [token for token in tokens if token not in stopwords_pl]\n",
    "    filtered_tokens = [token for token in filtered_tokens if token!= '']\n",
    "    processed_text = \" \".join(filtered_tokens)\n",
    "\n",
    "    return processed_text"
   ],
   "metadata": {
    "id": "_q3oGCWg79fH"
   },
   "execution_count": null,
   "outputs": []
  },
  {
   "cell_type": "code",
   "source": [
    "preprocess_text(df['text'][1])"
   ],
   "metadata": {
    "colab": {
     "base_uri": "https://localhost:8080/",
     "height": 54
    },
    "id": "fqA0dLq-mW2k",
    "outputId": "5bc2ac1d-f655-4232-bb8b-f21ab129db0c"
   },
   "execution_count": null,
   "outputs": []
  },
  {
   "cell_type": "code",
   "source": [
    "stopwords_pl"
   ],
   "metadata": {
    "id": "cXQn7tEAmikW"
   },
   "execution_count": null,
   "outputs": []
  },
  {
   "cell_type": "code",
   "source": [
    "! python -m spacy download pl_core_news_sm"
   ],
   "metadata": {
    "id": "Dboe5FT56C44"
   },
   "execution_count": null,
   "outputs": []
  },
  {
   "cell_type": "code",
   "source": [
    "import torch\n",
    "import spacy\n",
    "\n",
    "spcay_nlp = spacy.load(\"pl_core_news_sm\")"
   ],
   "metadata": {
    "id": "gnGJ0z-Gmypl"
   },
   "execution_count": null,
   "outputs": []
  },
  {
   "cell_type": "code",
   "source": [
    "pre_prep_texts = pd.Series([preprocess_text(df['text'][i]) for i in range(len(df))])\n",
    "pre_prep_texts[:3]"
   ],
   "metadata": {
    "colab": {
     "base_uri": "https://localhost:8080/"
    },
    "id": "JocfgexH7N0v",
    "outputId": "35e27766-2fa5-42c5-ae3e-9b9cf0096047"
   },
   "execution_count": null,
   "outputs": []
  },
  {
   "cell_type": "code",
   "source": [
    "texts_spacy = pre_prep_texts.map(spcay_nlp)\n",
    "\n",
    "lemmatized_texts = texts_spacy.map(lambda doc: [t.lemma_ for t in doc])\n",
    "lemmatized_texts[:3]"
   ],
   "metadata": {
    "colab": {
     "base_uri": "https://localhost:8080/"
    },
    "id": "65oga6xx8zwu",
    "outputId": "1cdb5785-b244-4fe5-d43e-0704511881e3"
   },
   "execution_count": null,
   "outputs": []
  },
  {
   "cell_type": "code",
   "source": [
    "lemmatized_texts[1]"
   ],
   "metadata": {
    "colab": {
     "base_uri": "https://localhost:8080/"
    },
    "id": "2wLyQLi_9Dyp",
    "outputId": "34e44550-e5e3-4029-99b0-420d506926fa"
   },
   "execution_count": null,
   "outputs": []
  },
  {
   "cell_type": "code",
   "source": [
    "spacy_vectors = texts_spacy.map(lambda doc: doc.vector)\n",
    "spacy_vectors[:3]"
   ],
   "metadata": {
    "colab": {
     "base_uri": "https://localhost:8080/"
    },
    "id": "lGOZ4RuK9Nsi",
    "outputId": "52302c44-cfaa-4434-9cec-dd1999ceccfe"
   },
   "execution_count": null,
   "outputs": []
  },
  {
   "cell_type": "code",
   "source": [
    "len(spacy_vectors[0])"
   ],
   "metadata": {
    "colab": {
     "base_uri": "https://localhost:8080/"
    },
    "id": "oY0oS7lC-CP1",
    "outputId": "b0c0a404-1458-443d-e653-e014e274a6a2"
   },
   "execution_count": null,
   "outputs": []
  },
  {
   "cell_type": "code",
   "source": [
    "len(spacy_vectors[1])"
   ],
   "metadata": {
    "colab": {
     "base_uri": "https://localhost:8080/"
    },
    "id": "DHXG94mP-FQ2",
    "outputId": "36d028aa-cbcd-468e-d7c3-7a2a0be4d31d"
   },
   "execution_count": null,
   "outputs": []
  },
  {
   "cell_type": "code",
   "source": [
    "spacy_vectors[1]"
   ],
   "metadata": {
    "colab": {
     "base_uri": "https://localhost:8080/"
    },
    "id": "emdSW7B6-HLB",
    "outputId": "fd283400-fa65-4f6c-d552-ad6a2e147b38"
   },
   "execution_count": null,
   "outputs": []
  },
  {
   "cell_type": "code",
   "source": [
    "# spacy returns 96 element vectors of texts - might be useful in future tasks"
   ],
   "metadata": {
    "id": "VpmQrHMEX5Pw"
   },
   "execution_count": null,
   "outputs": []
  },
  {
   "cell_type": "code",
   "source": [
    "! pip install googletrans==4.0.0-rc1"
   ],
   "metadata": {
    "id": "d9zN5UqA-goc"
   },
   "execution_count": null,
   "outputs": []
  },
  {
   "cell_type": "code",
   "source": [
    "from googletrans import Translator\n",
    "\n",
    "translator = Translator()\n",
    "\n",
    "df['text_en'] = [translator.translate(sentence, src='pl', dest='en').text for sentence in df['text']]"
   ],
   "metadata": {
    "id": "GRhil6jZHBP2"
   },
   "execution_count": null,
   "outputs": []
  },
  {
   "cell_type": "code",
   "source": [
    "df[['text', 'text_en']].head(5)"
   ],
   "metadata": {
    "colab": {
     "base_uri": "https://localhost:8080/",
     "height": 206
    },
    "id": "tvsj4XfbHOe4",
    "outputId": "50b3f46b-c3a3-49b2-d3de-fdca9a9f53b5"
   },
   "execution_count": null,
   "outputs": []
  },
  {
   "cell_type": "code",
   "source": [
    "# https://huggingface.co/humarin/chatgpt_paraphraser_on_T5_base\n",
    "# in colab check if GPU environmet is checked\n",
    "\n",
    "from transformers import AutoTokenizer, AutoModelForSeq2SeqLM\n",
    "\n",
    "device = \"cuda\"\n",
    "\n",
    "tokenizer = AutoTokenizer.from_pretrained(\"humarin/chatgpt_paraphraser_on_T5_base\")\n",
    "\n",
    "model = AutoModelForSeq2SeqLM.from_pretrained(\"humarin/chatgpt_paraphraser_on_T5_base\").to(device)\n",
    "\n",
    "def paraphrase(\n",
    "    question,\n",
    "    num_beams=5,\n",
    "    num_beam_groups=5,\n",
    "    num_return_sequences=5,\n",
    "    repetition_penalty=10.0,\n",
    "    diversity_penalty=3.0,\n",
    "    no_repeat_ngram_size=2,\n",
    "    temperature=0.7,\n",
    "    max_length=128\n",
    "):\n",
    "    input_ids = tokenizer(\n",
    "        f'paraphrase: {question}',\n",
    "        return_tensors=\"pt\", padding=\"longest\",\n",
    "        max_length=max_length,\n",
    "        truncation=True,\n",
    "    ).input_ids.to(device)\n",
    "\n",
    "    outputs = model.generate(\n",
    "        input_ids, temperature=temperature, repetition_penalty=repetition_penalty,\n",
    "        num_return_sequences=num_return_sequences, no_repeat_ngram_size=no_repeat_ngram_size,\n",
    "        num_beams=num_beams, num_beam_groups=num_beam_groups,\n",
    "        max_length=max_length, diversity_penalty=diversity_penalty\n",
    "    )\n",
    "\n",
    "    res = tokenizer.batch_decode(outputs, skip_special_tokens=True)\n",
    "\n",
    "    return res"
   ],
   "metadata": {
    "id": "Tezpa9hcH-ed"
   },
   "execution_count": null,
   "outputs": []
  },
  {
   "cell_type": "code",
   "source": [
    "paraphrase(df['text_en'][1],\n",
    "           num_return_sequences=3,\n",
    "           no_repeat_ngram_size=3)"
   ],
   "metadata": {
    "colab": {
     "base_uri": "https://localhost:8080/"
    },
    "id": "OjLY_E_mNfnc",
    "outputId": "90714ff3-98d7-4df8-9603-f74c4d77b5e6"
   },
   "execution_count": null,
   "outputs": []
  },
  {
   "cell_type": "code",
   "source": [
    "paraphrases_en = [paraphrase(text, num_return_sequences=3, no_repeat_ngram_size=3) for text in df['text_en']]\n",
    "\n",
    "paraphrases_en[1]"
   ],
   "metadata": {
    "colab": {
     "base_uri": "https://localhost:8080/"
    },
    "id": "A-rpTHXgKCwv",
    "outputId": "e5a4df16-a8ee-4b7c-8408-b264a185887a"
   },
   "execution_count": null,
   "outputs": []
  },
  {
   "cell_type": "code",
   "source": [
    "paraphrases_pl = []\n",
    "\n",
    "for paraph_texts_en in paraphrases_en:\n",
    "  paraph_texts_pl = [translator.translate(sentence, src='en', dest='pl').text for sentence in paraph_texts_en]\n",
    "  paraphrases_pl.append(paraph_texts_pl)\n",
    "\n",
    "paraphrases_pl[1]"
   ],
   "metadata": {
    "colab": {
     "base_uri": "https://localhost:8080/"
    },
    "id": "9mAvuA57LRCQ",
    "outputId": "ab3c86a9-aee6-4eb0-93c2-51dce0a81644"
   },
   "execution_count": null,
   "outputs": []
  },
  {
   "cell_type": "code",
   "source": [
    "import random\n",
    "import re\n",
    "\n",
    "def shuffle_sentences(text):\n",
    "    sentences = text.split('.')\n",
    "    random.shuffle(sentences)\n",
    "    shuffled_text = '.'.join(sentences)\n",
    "    return shuffled_text\n"
   ],
   "metadata": {
    "id": "xdG7LMgaPSeR"
   },
   "execution_count": null,
   "outputs": []
  },
  {
   "cell_type": "code",
   "source": [
    "paraphrases_pl_shfl = []\n",
    "\n",
    "for paraph_texts_pl in paraphrases_pl:\n",
    "  paraph_texts_pl_shfl = [shuffle_sentences(text) for text in paraph_texts_pl]\n",
    "  paraphrases_pl_shfl.append(paraph_texts_pl_shfl)\n",
    "\n",
    "paraphrases_pl_shfl[1]"
   ],
   "metadata": {
    "colab": {
     "base_uri": "https://localhost:8080/"
    },
    "id": "KxyoRLamRG3l",
    "outputId": "ed817272-8920-4d6c-b8f9-0bbc0fc34788"
   },
   "execution_count": null,
   "outputs": []
  },
  {
   "cell_type": "code",
   "source": [
    "df_row = df.iloc[1]\n",
    "df_row['text'] = 'ala ma kota'"
   ],
   "metadata": {
    "colab": {
     "base_uri": "https://localhost:8080/"
    },
    "id": "WZQheIwfSNQ8",
    "outputId": "ef50c994-03bd-4f16-a33c-b9ede8b7b788"
   },
   "execution_count": null,
   "outputs": []
  },
  {
   "cell_type": "code",
   "source": [
    "type(df_row)"
   ],
   "metadata": {
    "colab": {
     "base_uri": "https://localhost:8080/"
    },
    "id": "r2wtZMccTK2q",
    "outputId": "d565030e-0764-476d-fdc4-ccb64772d690"
   },
   "execution_count": null,
   "outputs": []
  },
  {
   "cell_type": "code",
   "source": [
    "oversampled_df_arr = []\n",
    "\n",
    "for i in range(len(df)):\n",
    "  for j in range(3):\n",
    "    df_row = df.iloc[i]\n",
    "    df_row['text'] = paraphrases_pl_shfl[i][j]\n",
    "    oversampled_df_arr.append(df_row)\n",
    "\n",
    "oversampled_df = pd.DataFrame(oversampled_df_arr)\n",
    "oversampled_df = oversampled_df.reset_index(drop=True)\n",
    "oversampled_df.head(5)"
   ],
   "metadata": {
    "id": "O-2oBNuDTgMk"
   },
   "execution_count": null,
   "outputs": []
  },
  {
   "cell_type": "code",
   "source": [
    "random.shuffle(oversampled_df_arr)\n",
    "oversampled_df = pd.DataFrame(oversampled_df_arr)\n",
    "oversampled_df = oversampled_df.reset_index(drop=True)\n",
    "oversampled_df.head(5)"
   ],
   "metadata": {
    "id": "vuwtb0cxUBgN"
   },
   "execution_count": null,
   "outputs": []
  },
  {
   "cell_type": "code",
   "source": [
    "oversampled_df = oversampled_df.drop(['text_en'], axis=1)\n",
    "oversampled_df"
   ],
   "metadata": {
    "id": "fOkNAHDiWMI2"
   },
   "execution_count": null,
   "outputs": []
  },
  {
   "cell_type": "code",
   "source": [
    "oversampled_df.to_csv('wibit_form_oversampled.csv')"
   ],
   "metadata": {
    "id": "JoN7AZhMWrNz"
   },
   "execution_count": null,
   "outputs": []
  },
  {
   "cell_type": "code",
   "source": [],
   "metadata": {
    "id": "63IkCcnoXjkK"
   },
   "execution_count": null,
   "outputs": []
  }
 ]
}
