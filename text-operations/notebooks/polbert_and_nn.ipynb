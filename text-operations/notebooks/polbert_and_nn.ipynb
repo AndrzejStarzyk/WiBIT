{
 "nbformat": 4,
 "nbformat_minor": 0,
 "metadata": {
  "colab": {
   "provenance": [],
   "gpuType": "T4"
  },
  "kernelspec": {
   "name": "python3",
   "display_name": "Python 3"
  },
  "language_info": {
   "name": "python"
  },
  "accelerator": "GPU",
  "widgets": {
   "application/vnd.jupyter.widget-state+json": {
    "aea83a19f007486ab24065c30d73673c": {
     "model_module": "@jupyter-widgets/controls",
     "model_name": "HBoxModel",
     "model_module_version": "1.5.0",
     "state": {
      "_dom_classes": [],
      "_model_module": "@jupyter-widgets/controls",
      "_model_module_version": "1.5.0",
      "_model_name": "HBoxModel",
      "_view_count": null,
      "_view_module": "@jupyter-widgets/controls",
      "_view_module_version": "1.5.0",
      "_view_name": "HBoxView",
      "box_style": "",
      "children": [
       "IPY_MODEL_724222790f024bb489ab1b2d07bd37fb",
       "IPY_MODEL_ec72f325c42f4170a8c9cbd1cecabbc5",
       "IPY_MODEL_99706fa109b645a792d091c06b565e44"
      ],
      "layout": "IPY_MODEL_6cecfda3662744a7b325068f92efeec2"
     }
    },
    "724222790f024bb489ab1b2d07bd37fb": {
     "model_module": "@jupyter-widgets/controls",
     "model_name": "HTMLModel",
     "model_module_version": "1.5.0",
     "state": {
      "_dom_classes": [],
      "_model_module": "@jupyter-widgets/controls",
      "_model_module_version": "1.5.0",
      "_model_name": "HTMLModel",
      "_view_count": null,
      "_view_module": "@jupyter-widgets/controls",
      "_view_module_version": "1.5.0",
      "_view_name": "HTMLView",
      "description": "",
      "description_tooltip": null,
      "layout": "IPY_MODEL_713420a9840748b39c1986bb0b09a685",
      "placeholder": "​",
      "style": "IPY_MODEL_98b8219334714249b1bd666c7a21a8e1",
      "value": "config.json: 100%"
     }
    },
    "ec72f325c42f4170a8c9cbd1cecabbc5": {
     "model_module": "@jupyter-widgets/controls",
     "model_name": "FloatProgressModel",
     "model_module_version": "1.5.0",
     "state": {
      "_dom_classes": [],
      "_model_module": "@jupyter-widgets/controls",
      "_model_module_version": "1.5.0",
      "_model_name": "FloatProgressModel",
      "_view_count": null,
      "_view_module": "@jupyter-widgets/controls",
      "_view_module_version": "1.5.0",
      "_view_name": "ProgressView",
      "bar_style": "success",
      "description": "",
      "description_tooltip": null,
      "layout": "IPY_MODEL_c8c3946a3f9c4f0db0bcb8888dfb4161",
      "max": 459,
      "min": 0,
      "orientation": "horizontal",
      "style": "IPY_MODEL_5f7e5202f9954a59b3910e2e4ad7d4d8",
      "value": 459
     }
    },
    "99706fa109b645a792d091c06b565e44": {
     "model_module": "@jupyter-widgets/controls",
     "model_name": "HTMLModel",
     "model_module_version": "1.5.0",
     "state": {
      "_dom_classes": [],
      "_model_module": "@jupyter-widgets/controls",
      "_model_module_version": "1.5.0",
      "_model_name": "HTMLModel",
      "_view_count": null,
      "_view_module": "@jupyter-widgets/controls",
      "_view_module_version": "1.5.0",
      "_view_name": "HTMLView",
      "description": "",
      "description_tooltip": null,
      "layout": "IPY_MODEL_3ca7716cd0a1424aa9fde5233f8e7267",
      "placeholder": "​",
      "style": "IPY_MODEL_76985de51e114317a072c970bdc34be5",
      "value": " 459/459 [00:00&lt;00:00, 27.3kB/s]"
     }
    },
    "6cecfda3662744a7b325068f92efeec2": {
     "model_module": "@jupyter-widgets/base",
     "model_name": "LayoutModel",
     "model_module_version": "1.2.0",
     "state": {
      "_model_module": "@jupyter-widgets/base",
      "_model_module_version": "1.2.0",
      "_model_name": "LayoutModel",
      "_view_count": null,
      "_view_module": "@jupyter-widgets/base",
      "_view_module_version": "1.2.0",
      "_view_name": "LayoutView",
      "align_content": null,
      "align_items": null,
      "align_self": null,
      "border": null,
      "bottom": null,
      "display": null,
      "flex": null,
      "flex_flow": null,
      "grid_area": null,
      "grid_auto_columns": null,
      "grid_auto_flow": null,
      "grid_auto_rows": null,
      "grid_column": null,
      "grid_gap": null,
      "grid_row": null,
      "grid_template_areas": null,
      "grid_template_columns": null,
      "grid_template_rows": null,
      "height": null,
      "justify_content": null,
      "justify_items": null,
      "left": null,
      "margin": null,
      "max_height": null,
      "max_width": null,
      "min_height": null,
      "min_width": null,
      "object_fit": null,
      "object_position": null,
      "order": null,
      "overflow": null,
      "overflow_x": null,
      "overflow_y": null,
      "padding": null,
      "right": null,
      "top": null,
      "visibility": null,
      "width": null
     }
    },
    "713420a9840748b39c1986bb0b09a685": {
     "model_module": "@jupyter-widgets/base",
     "model_name": "LayoutModel",
     "model_module_version": "1.2.0",
     "state": {
      "_model_module": "@jupyter-widgets/base",
      "_model_module_version": "1.2.0",
      "_model_name": "LayoutModel",
      "_view_count": null,
      "_view_module": "@jupyter-widgets/base",
      "_view_module_version": "1.2.0",
      "_view_name": "LayoutView",
      "align_content": null,
      "align_items": null,
      "align_self": null,
      "border": null,
      "bottom": null,
      "display": null,
      "flex": null,
      "flex_flow": null,
      "grid_area": null,
      "grid_auto_columns": null,
      "grid_auto_flow": null,
      "grid_auto_rows": null,
      "grid_column": null,
      "grid_gap": null,
      "grid_row": null,
      "grid_template_areas": null,
      "grid_template_columns": null,
      "grid_template_rows": null,
      "height": null,
      "justify_content": null,
      "justify_items": null,
      "left": null,
      "margin": null,
      "max_height": null,
      "max_width": null,
      "min_height": null,
      "min_width": null,
      "object_fit": null,
      "object_position": null,
      "order": null,
      "overflow": null,
      "overflow_x": null,
      "overflow_y": null,
      "padding": null,
      "right": null,
      "top": null,
      "visibility": null,
      "width": null
     }
    },
    "98b8219334714249b1bd666c7a21a8e1": {
     "model_module": "@jupyter-widgets/controls",
     "model_name": "DescriptionStyleModel",
     "model_module_version": "1.5.0",
     "state": {
      "_model_module": "@jupyter-widgets/controls",
      "_model_module_version": "1.5.0",
      "_model_name": "DescriptionStyleModel",
      "_view_count": null,
      "_view_module": "@jupyter-widgets/base",
      "_view_module_version": "1.2.0",
      "_view_name": "StyleView",
      "description_width": ""
     }
    },
    "c8c3946a3f9c4f0db0bcb8888dfb4161": {
     "model_module": "@jupyter-widgets/base",
     "model_name": "LayoutModel",
     "model_module_version": "1.2.0",
     "state": {
      "_model_module": "@jupyter-widgets/base",
      "_model_module_version": "1.2.0",
      "_model_name": "LayoutModel",
      "_view_count": null,
      "_view_module": "@jupyter-widgets/base",
      "_view_module_version": "1.2.0",
      "_view_name": "LayoutView",
      "align_content": null,
      "align_items": null,
      "align_self": null,
      "border": null,
      "bottom": null,
      "display": null,
      "flex": null,
      "flex_flow": null,
      "grid_area": null,
      "grid_auto_columns": null,
      "grid_auto_flow": null,
      "grid_auto_rows": null,
      "grid_column": null,
      "grid_gap": null,
      "grid_row": null,
      "grid_template_areas": null,
      "grid_template_columns": null,
      "grid_template_rows": null,
      "height": null,
      "justify_content": null,
      "justify_items": null,
      "left": null,
      "margin": null,
      "max_height": null,
      "max_width": null,
      "min_height": null,
      "min_width": null,
      "object_fit": null,
      "object_position": null,
      "order": null,
      "overflow": null,
      "overflow_x": null,
      "overflow_y": null,
      "padding": null,
      "right": null,
      "top": null,
      "visibility": null,
      "width": null
     }
    },
    "5f7e5202f9954a59b3910e2e4ad7d4d8": {
     "model_module": "@jupyter-widgets/controls",
     "model_name": "ProgressStyleModel",
     "model_module_version": "1.5.0",
     "state": {
      "_model_module": "@jupyter-widgets/controls",
      "_model_module_version": "1.5.0",
      "_model_name": "ProgressStyleModel",
      "_view_count": null,
      "_view_module": "@jupyter-widgets/base",
      "_view_module_version": "1.2.0",
      "_view_name": "StyleView",
      "bar_color": null,
      "description_width": ""
     }
    },
    "3ca7716cd0a1424aa9fde5233f8e7267": {
     "model_module": "@jupyter-widgets/base",
     "model_name": "LayoutModel",
     "model_module_version": "1.2.0",
     "state": {
      "_model_module": "@jupyter-widgets/base",
      "_model_module_version": "1.2.0",
      "_model_name": "LayoutModel",
      "_view_count": null,
      "_view_module": "@jupyter-widgets/base",
      "_view_module_version": "1.2.0",
      "_view_name": "LayoutView",
      "align_content": null,
      "align_items": null,
      "align_self": null,
      "border": null,
      "bottom": null,
      "display": null,
      "flex": null,
      "flex_flow": null,
      "grid_area": null,
      "grid_auto_columns": null,
      "grid_auto_flow": null,
      "grid_auto_rows": null,
      "grid_column": null,
      "grid_gap": null,
      "grid_row": null,
      "grid_template_areas": null,
      "grid_template_columns": null,
      "grid_template_rows": null,
      "height": null,
      "justify_content": null,
      "justify_items": null,
      "left": null,
      "margin": null,
      "max_height": null,
      "max_width": null,
      "min_height": null,
      "min_width": null,
      "object_fit": null,
      "object_position": null,
      "order": null,
      "overflow": null,
      "overflow_x": null,
      "overflow_y": null,
      "padding": null,
      "right": null,
      "top": null,
      "visibility": null,
      "width": null
     }
    },
    "76985de51e114317a072c970bdc34be5": {
     "model_module": "@jupyter-widgets/controls",
     "model_name": "DescriptionStyleModel",
     "model_module_version": "1.5.0",
     "state": {
      "_model_module": "@jupyter-widgets/controls",
      "_model_module_version": "1.5.0",
      "_model_name": "DescriptionStyleModel",
      "_view_count": null,
      "_view_module": "@jupyter-widgets/base",
      "_view_module_version": "1.2.0",
      "_view_name": "StyleView",
      "description_width": ""
     }
    },
    "058eac52c1dc4a7a8f531a6e9ecd40e4": {
     "model_module": "@jupyter-widgets/controls",
     "model_name": "HBoxModel",
     "model_module_version": "1.5.0",
     "state": {
      "_dom_classes": [],
      "_model_module": "@jupyter-widgets/controls",
      "_model_module_version": "1.5.0",
      "_model_name": "HBoxModel",
      "_view_count": null,
      "_view_module": "@jupyter-widgets/controls",
      "_view_module_version": "1.5.0",
      "_view_name": "HBoxView",
      "box_style": "",
      "children": [
       "IPY_MODEL_9c798edeb5a043c583c8b143d9979674",
       "IPY_MODEL_beb22ed72d9b40f1acc8a1d06530ce2e",
       "IPY_MODEL_b108054442754c899b83ca46bf85747f"
      ],
      "layout": "IPY_MODEL_f6c47618c927487fa5190f97da977e5f"
     }
    },
    "9c798edeb5a043c583c8b143d9979674": {
     "model_module": "@jupyter-widgets/controls",
     "model_name": "HTMLModel",
     "model_module_version": "1.5.0",
     "state": {
      "_dom_classes": [],
      "_model_module": "@jupyter-widgets/controls",
      "_model_module_version": "1.5.0",
      "_model_name": "HTMLModel",
      "_view_count": null,
      "_view_module": "@jupyter-widgets/controls",
      "_view_module_version": "1.5.0",
      "_view_name": "HTMLView",
      "description": "",
      "description_tooltip": null,
      "layout": "IPY_MODEL_c5629457c7ec441d83cf7a8da2ccbc54",
      "placeholder": "​",
      "style": "IPY_MODEL_baf2af507d8445dd937d943b774beef2",
      "value": "pytorch_model.bin: 100%"
     }
    },
    "beb22ed72d9b40f1acc8a1d06530ce2e": {
     "model_module": "@jupyter-widgets/controls",
     "model_name": "FloatProgressModel",
     "model_module_version": "1.5.0",
     "state": {
      "_dom_classes": [],
      "_model_module": "@jupyter-widgets/controls",
      "_model_module_version": "1.5.0",
      "_model_name": "FloatProgressModel",
      "_view_count": null,
      "_view_module": "@jupyter-widgets/controls",
      "_view_module_version": "1.5.0",
      "_view_name": "ProgressView",
      "bar_style": "success",
      "description": "",
      "description_tooltip": null,
      "layout": "IPY_MODEL_baed53f2984043e2a936c43b16760947",
      "max": 531146786,
      "min": 0,
      "orientation": "horizontal",
      "style": "IPY_MODEL_259a826ed9c2490585308288fca177f1",
      "value": 531146786
     }
    },
    "b108054442754c899b83ca46bf85747f": {
     "model_module": "@jupyter-widgets/controls",
     "model_name": "HTMLModel",
     "model_module_version": "1.5.0",
     "state": {
      "_dom_classes": [],
      "_model_module": "@jupyter-widgets/controls",
      "_model_module_version": "1.5.0",
      "_model_name": "HTMLModel",
      "_view_count": null,
      "_view_module": "@jupyter-widgets/controls",
      "_view_module_version": "1.5.0",
      "_view_name": "HTMLView",
      "description": "",
      "description_tooltip": null,
      "layout": "IPY_MODEL_e5da954d8f48412d9c9e8efe6a673e3f",
      "placeholder": "​",
      "style": "IPY_MODEL_04c822e5b59342ca992060201351aee9",
      "value": " 531M/531M [00:32&lt;00:00, 17.6MB/s]"
     }
    },
    "f6c47618c927487fa5190f97da977e5f": {
     "model_module": "@jupyter-widgets/base",
     "model_name": "LayoutModel",
     "model_module_version": "1.2.0",
     "state": {
      "_model_module": "@jupyter-widgets/base",
      "_model_module_version": "1.2.0",
      "_model_name": "LayoutModel",
      "_view_count": null,
      "_view_module": "@jupyter-widgets/base",
      "_view_module_version": "1.2.0",
      "_view_name": "LayoutView",
      "align_content": null,
      "align_items": null,
      "align_self": null,
      "border": null,
      "bottom": null,
      "display": null,
      "flex": null,
      "flex_flow": null,
      "grid_area": null,
      "grid_auto_columns": null,
      "grid_auto_flow": null,
      "grid_auto_rows": null,
      "grid_column": null,
      "grid_gap": null,
      "grid_row": null,
      "grid_template_areas": null,
      "grid_template_columns": null,
      "grid_template_rows": null,
      "height": null,
      "justify_content": null,
      "justify_items": null,
      "left": null,
      "margin": null,
      "max_height": null,
      "max_width": null,
      "min_height": null,
      "min_width": null,
      "object_fit": null,
      "object_position": null,
      "order": null,
      "overflow": null,
      "overflow_x": null,
      "overflow_y": null,
      "padding": null,
      "right": null,
      "top": null,
      "visibility": null,
      "width": null
     }
    },
    "c5629457c7ec441d83cf7a8da2ccbc54": {
     "model_module": "@jupyter-widgets/base",
     "model_name": "LayoutModel",
     "model_module_version": "1.2.0",
     "state": {
      "_model_module": "@jupyter-widgets/base",
      "_model_module_version": "1.2.0",
      "_model_name": "LayoutModel",
      "_view_count": null,
      "_view_module": "@jupyter-widgets/base",
      "_view_module_version": "1.2.0",
      "_view_name": "LayoutView",
      "align_content": null,
      "align_items": null,
      "align_self": null,
      "border": null,
      "bottom": null,
      "display": null,
      "flex": null,
      "flex_flow": null,
      "grid_area": null,
      "grid_auto_columns": null,
      "grid_auto_flow": null,
      "grid_auto_rows": null,
      "grid_column": null,
      "grid_gap": null,
      "grid_row": null,
      "grid_template_areas": null,
      "grid_template_columns": null,
      "grid_template_rows": null,
      "height": null,
      "justify_content": null,
      "justify_items": null,
      "left": null,
      "margin": null,
      "max_height": null,
      "max_width": null,
      "min_height": null,
      "min_width": null,
      "object_fit": null,
      "object_position": null,
      "order": null,
      "overflow": null,
      "overflow_x": null,
      "overflow_y": null,
      "padding": null,
      "right": null,
      "top": null,
      "visibility": null,
      "width": null
     }
    },
    "baf2af507d8445dd937d943b774beef2": {
     "model_module": "@jupyter-widgets/controls",
     "model_name": "DescriptionStyleModel",
     "model_module_version": "1.5.0",
     "state": {
      "_model_module": "@jupyter-widgets/controls",
      "_model_module_version": "1.5.0",
      "_model_name": "DescriptionStyleModel",
      "_view_count": null,
      "_view_module": "@jupyter-widgets/base",
      "_view_module_version": "1.2.0",
      "_view_name": "StyleView",
      "description_width": ""
     }
    },
    "baed53f2984043e2a936c43b16760947": {
     "model_module": "@jupyter-widgets/base",
     "model_name": "LayoutModel",
     "model_module_version": "1.2.0",
     "state": {
      "_model_module": "@jupyter-widgets/base",
      "_model_module_version": "1.2.0",
      "_model_name": "LayoutModel",
      "_view_count": null,
      "_view_module": "@jupyter-widgets/base",
      "_view_module_version": "1.2.0",
      "_view_name": "LayoutView",
      "align_content": null,
      "align_items": null,
      "align_self": null,
      "border": null,
      "bottom": null,
      "display": null,
      "flex": null,
      "flex_flow": null,
      "grid_area": null,
      "grid_auto_columns": null,
      "grid_auto_flow": null,
      "grid_auto_rows": null,
      "grid_column": null,
      "grid_gap": null,
      "grid_row": null,
      "grid_template_areas": null,
      "grid_template_columns": null,
      "grid_template_rows": null,
      "height": null,
      "justify_content": null,
      "justify_items": null,
      "left": null,
      "margin": null,
      "max_height": null,
      "max_width": null,
      "min_height": null,
      "min_width": null,
      "object_fit": null,
      "object_position": null,
      "order": null,
      "overflow": null,
      "overflow_x": null,
      "overflow_y": null,
      "padding": null,
      "right": null,
      "top": null,
      "visibility": null,
      "width": null
     }
    },
    "259a826ed9c2490585308288fca177f1": {
     "model_module": "@jupyter-widgets/controls",
     "model_name": "ProgressStyleModel",
     "model_module_version": "1.5.0",
     "state": {
      "_model_module": "@jupyter-widgets/controls",
      "_model_module_version": "1.5.0",
      "_model_name": "ProgressStyleModel",
      "_view_count": null,
      "_view_module": "@jupyter-widgets/base",
      "_view_module_version": "1.2.0",
      "_view_name": "StyleView",
      "bar_color": null,
      "description_width": ""
     }
    },
    "e5da954d8f48412d9c9e8efe6a673e3f": {
     "model_module": "@jupyter-widgets/base",
     "model_name": "LayoutModel",
     "model_module_version": "1.2.0",
     "state": {
      "_model_module": "@jupyter-widgets/base",
      "_model_module_version": "1.2.0",
      "_model_name": "LayoutModel",
      "_view_count": null,
      "_view_module": "@jupyter-widgets/base",
      "_view_module_version": "1.2.0",
      "_view_name": "LayoutView",
      "align_content": null,
      "align_items": null,
      "align_self": null,
      "border": null,
      "bottom": null,
      "display": null,
      "flex": null,
      "flex_flow": null,
      "grid_area": null,
      "grid_auto_columns": null,
      "grid_auto_flow": null,
      "grid_auto_rows": null,
      "grid_column": null,
      "grid_gap": null,
      "grid_row": null,
      "grid_template_areas": null,
      "grid_template_columns": null,
      "grid_template_rows": null,
      "height": null,
      "justify_content": null,
      "justify_items": null,
      "left": null,
      "margin": null,
      "max_height": null,
      "max_width": null,
      "min_height": null,
      "min_width": null,
      "object_fit": null,
      "object_position": null,
      "order": null,
      "overflow": null,
      "overflow_x": null,
      "overflow_y": null,
      "padding": null,
      "right": null,
      "top": null,
      "visibility": null,
      "width": null
     }
    },
    "04c822e5b59342ca992060201351aee9": {
     "model_module": "@jupyter-widgets/controls",
     "model_name": "DescriptionStyleModel",
     "model_module_version": "1.5.0",
     "state": {
      "_model_module": "@jupyter-widgets/controls",
      "_model_module_version": "1.5.0",
      "_model_name": "DescriptionStyleModel",
      "_view_count": null,
      "_view_module": "@jupyter-widgets/base",
      "_view_module_version": "1.2.0",
      "_view_name": "StyleView",
      "description_width": ""
     }
    },
    "28bacf7403e84943bf7963b387517a0c": {
     "model_module": "@jupyter-widgets/controls",
     "model_name": "HBoxModel",
     "model_module_version": "1.5.0",
     "state": {
      "_dom_classes": [],
      "_model_module": "@jupyter-widgets/controls",
      "_model_module_version": "1.5.0",
      "_model_name": "HBoxModel",
      "_view_count": null,
      "_view_module": "@jupyter-widgets/controls",
      "_view_module_version": "1.5.0",
      "_view_name": "HBoxView",
      "box_style": "",
      "children": [
       "IPY_MODEL_b89bd12b058046e58b4d306dd03a8a2c",
       "IPY_MODEL_0c84183ccc304e4b88ecdc4dfa5570eb",
       "IPY_MODEL_b4b1fbd7e3ea4faaa3c8521e2a23ad59"
      ],
      "layout": "IPY_MODEL_bfaff4d8078241f39a765962fc9f9329"
     }
    },
    "b89bd12b058046e58b4d306dd03a8a2c": {
     "model_module": "@jupyter-widgets/controls",
     "model_name": "HTMLModel",
     "model_module_version": "1.5.0",
     "state": {
      "_dom_classes": [],
      "_model_module": "@jupyter-widgets/controls",
      "_model_module_version": "1.5.0",
      "_model_name": "HTMLModel",
      "_view_count": null,
      "_view_module": "@jupyter-widgets/controls",
      "_view_module_version": "1.5.0",
      "_view_name": "HTMLView",
      "description": "",
      "description_tooltip": null,
      "layout": "IPY_MODEL_81bada3baeb44ae2bce9968f06649ae0",
      "placeholder": "​",
      "style": "IPY_MODEL_4597d2f082e7472282166614ab6df3db",
      "value": "tokenizer_config.json: 100%"
     }
    },
    "0c84183ccc304e4b88ecdc4dfa5570eb": {
     "model_module": "@jupyter-widgets/controls",
     "model_name": "FloatProgressModel",
     "model_module_version": "1.5.0",
     "state": {
      "_dom_classes": [],
      "_model_module": "@jupyter-widgets/controls",
      "_model_module_version": "1.5.0",
      "_model_name": "FloatProgressModel",
      "_view_count": null,
      "_view_module": "@jupyter-widgets/controls",
      "_view_module_version": "1.5.0",
      "_view_name": "ProgressView",
      "bar_style": "success",
      "description": "",
      "description_tooltip": null,
      "layout": "IPY_MODEL_8f7e73530387453ca0138289d2ca1da6",
      "max": 30,
      "min": 0,
      "orientation": "horizontal",
      "style": "IPY_MODEL_4d0de89f227f4a68bdcd9c59316e0b0f",
      "value": 30
     }
    },
    "b4b1fbd7e3ea4faaa3c8521e2a23ad59": {
     "model_module": "@jupyter-widgets/controls",
     "model_name": "HTMLModel",
     "model_module_version": "1.5.0",
     "state": {
      "_dom_classes": [],
      "_model_module": "@jupyter-widgets/controls",
      "_model_module_version": "1.5.0",
      "_model_name": "HTMLModel",
      "_view_count": null,
      "_view_module": "@jupyter-widgets/controls",
      "_view_module_version": "1.5.0",
      "_view_name": "HTMLView",
      "description": "",
      "description_tooltip": null,
      "layout": "IPY_MODEL_615fb42f78c14b1f9381f340bb97bd51",
      "placeholder": "​",
      "style": "IPY_MODEL_3f348a30399b4ac1b37ee4ea52644332",
      "value": " 30.0/30.0 [00:00&lt;00:00, 1.18kB/s]"
     }
    },
    "bfaff4d8078241f39a765962fc9f9329": {
     "model_module": "@jupyter-widgets/base",
     "model_name": "LayoutModel",
     "model_module_version": "1.2.0",
     "state": {
      "_model_module": "@jupyter-widgets/base",
      "_model_module_version": "1.2.0",
      "_model_name": "LayoutModel",
      "_view_count": null,
      "_view_module": "@jupyter-widgets/base",
      "_view_module_version": "1.2.0",
      "_view_name": "LayoutView",
      "align_content": null,
      "align_items": null,
      "align_self": null,
      "border": null,
      "bottom": null,
      "display": null,
      "flex": null,
      "flex_flow": null,
      "grid_area": null,
      "grid_auto_columns": null,
      "grid_auto_flow": null,
      "grid_auto_rows": null,
      "grid_column": null,
      "grid_gap": null,
      "grid_row": null,
      "grid_template_areas": null,
      "grid_template_columns": null,
      "grid_template_rows": null,
      "height": null,
      "justify_content": null,
      "justify_items": null,
      "left": null,
      "margin": null,
      "max_height": null,
      "max_width": null,
      "min_height": null,
      "min_width": null,
      "object_fit": null,
      "object_position": null,
      "order": null,
      "overflow": null,
      "overflow_x": null,
      "overflow_y": null,
      "padding": null,
      "right": null,
      "top": null,
      "visibility": null,
      "width": null
     }
    },
    "81bada3baeb44ae2bce9968f06649ae0": {
     "model_module": "@jupyter-widgets/base",
     "model_name": "LayoutModel",
     "model_module_version": "1.2.0",
     "state": {
      "_model_module": "@jupyter-widgets/base",
      "_model_module_version": "1.2.0",
      "_model_name": "LayoutModel",
      "_view_count": null,
      "_view_module": "@jupyter-widgets/base",
      "_view_module_version": "1.2.0",
      "_view_name": "LayoutView",
      "align_content": null,
      "align_items": null,
      "align_self": null,
      "border": null,
      "bottom": null,
      "display": null,
      "flex": null,
      "flex_flow": null,
      "grid_area": null,
      "grid_auto_columns": null,
      "grid_auto_flow": null,
      "grid_auto_rows": null,
      "grid_column": null,
      "grid_gap": null,
      "grid_row": null,
      "grid_template_areas": null,
      "grid_template_columns": null,
      "grid_template_rows": null,
      "height": null,
      "justify_content": null,
      "justify_items": null,
      "left": null,
      "margin": null,
      "max_height": null,
      "max_width": null,
      "min_height": null,
      "min_width": null,
      "object_fit": null,
      "object_position": null,
      "order": null,
      "overflow": null,
      "overflow_x": null,
      "overflow_y": null,
      "padding": null,
      "right": null,
      "top": null,
      "visibility": null,
      "width": null
     }
    },
    "4597d2f082e7472282166614ab6df3db": {
     "model_module": "@jupyter-widgets/controls",
     "model_name": "DescriptionStyleModel",
     "model_module_version": "1.5.0",
     "state": {
      "_model_module": "@jupyter-widgets/controls",
      "_model_module_version": "1.5.0",
      "_model_name": "DescriptionStyleModel",
      "_view_count": null,
      "_view_module": "@jupyter-widgets/base",
      "_view_module_version": "1.2.0",
      "_view_name": "StyleView",
      "description_width": ""
     }
    },
    "8f7e73530387453ca0138289d2ca1da6": {
     "model_module": "@jupyter-widgets/base",
     "model_name": "LayoutModel",
     "model_module_version": "1.2.0",
     "state": {
      "_model_module": "@jupyter-widgets/base",
      "_model_module_version": "1.2.0",
      "_model_name": "LayoutModel",
      "_view_count": null,
      "_view_module": "@jupyter-widgets/base",
      "_view_module_version": "1.2.0",
      "_view_name": "LayoutView",
      "align_content": null,
      "align_items": null,
      "align_self": null,
      "border": null,
      "bottom": null,
      "display": null,
      "flex": null,
      "flex_flow": null,
      "grid_area": null,
      "grid_auto_columns": null,
      "grid_auto_flow": null,
      "grid_auto_rows": null,
      "grid_column": null,
      "grid_gap": null,
      "grid_row": null,
      "grid_template_areas": null,
      "grid_template_columns": null,
      "grid_template_rows": null,
      "height": null,
      "justify_content": null,
      "justify_items": null,
      "left": null,
      "margin": null,
      "max_height": null,
      "max_width": null,
      "min_height": null,
      "min_width": null,
      "object_fit": null,
      "object_position": null,
      "order": null,
      "overflow": null,
      "overflow_x": null,
      "overflow_y": null,
      "padding": null,
      "right": null,
      "top": null,
      "visibility": null,
      "width": null
     }
    },
    "4d0de89f227f4a68bdcd9c59316e0b0f": {
     "model_module": "@jupyter-widgets/controls",
     "model_name": "ProgressStyleModel",
     "model_module_version": "1.5.0",
     "state": {
      "_model_module": "@jupyter-widgets/controls",
      "_model_module_version": "1.5.0",
      "_model_name": "ProgressStyleModel",
      "_view_count": null,
      "_view_module": "@jupyter-widgets/base",
      "_view_module_version": "1.2.0",
      "_view_name": "StyleView",
      "bar_color": null,
      "description_width": ""
     }
    },
    "615fb42f78c14b1f9381f340bb97bd51": {
     "model_module": "@jupyter-widgets/base",
     "model_name": "LayoutModel",
     "model_module_version": "1.2.0",
     "state": {
      "_model_module": "@jupyter-widgets/base",
      "_model_module_version": "1.2.0",
      "_model_name": "LayoutModel",
      "_view_count": null,
      "_view_module": "@jupyter-widgets/base",
      "_view_module_version": "1.2.0",
      "_view_name": "LayoutView",
      "align_content": null,
      "align_items": null,
      "align_self": null,
      "border": null,
      "bottom": null,
      "display": null,
      "flex": null,
      "flex_flow": null,
      "grid_area": null,
      "grid_auto_columns": null,
      "grid_auto_flow": null,
      "grid_auto_rows": null,
      "grid_column": null,
      "grid_gap": null,
      "grid_row": null,
      "grid_template_areas": null,
      "grid_template_columns": null,
      "grid_template_rows": null,
      "height": null,
      "justify_content": null,
      "justify_items": null,
      "left": null,
      "margin": null,
      "max_height": null,
      "max_width": null,
      "min_height": null,
      "min_width": null,
      "object_fit": null,
      "object_position": null,
      "order": null,
      "overflow": null,
      "overflow_x": null,
      "overflow_y": null,
      "padding": null,
      "right": null,
      "top": null,
      "visibility": null,
      "width": null
     }
    },
    "3f348a30399b4ac1b37ee4ea52644332": {
     "model_module": "@jupyter-widgets/controls",
     "model_name": "DescriptionStyleModel",
     "model_module_version": "1.5.0",
     "state": {
      "_model_module": "@jupyter-widgets/controls",
      "_model_module_version": "1.5.0",
      "_model_name": "DescriptionStyleModel",
      "_view_count": null,
      "_view_module": "@jupyter-widgets/base",
      "_view_module_version": "1.2.0",
      "_view_name": "StyleView",
      "description_width": ""
     }
    },
    "169ee32131ec478aafdacabfdc28c259": {
     "model_module": "@jupyter-widgets/controls",
     "model_name": "HBoxModel",
     "model_module_version": "1.5.0",
     "state": {
      "_dom_classes": [],
      "_model_module": "@jupyter-widgets/controls",
      "_model_module_version": "1.5.0",
      "_model_name": "HBoxModel",
      "_view_count": null,
      "_view_module": "@jupyter-widgets/controls",
      "_view_module_version": "1.5.0",
      "_view_name": "HBoxView",
      "box_style": "",
      "children": [
       "IPY_MODEL_5c6c8feb26ea4a619543f8f26bc66f0e",
       "IPY_MODEL_28508951fde842828addaf040e4d352b",
       "IPY_MODEL_e3ec0d0818744f09a19ac447df048a38"
      ],
      "layout": "IPY_MODEL_2a23aed615554f73a098aab1b6a9e617"
     }
    },
    "5c6c8feb26ea4a619543f8f26bc66f0e": {
     "model_module": "@jupyter-widgets/controls",
     "model_name": "HTMLModel",
     "model_module_version": "1.5.0",
     "state": {
      "_dom_classes": [],
      "_model_module": "@jupyter-widgets/controls",
      "_model_module_version": "1.5.0",
      "_model_name": "HTMLModel",
      "_view_count": null,
      "_view_module": "@jupyter-widgets/controls",
      "_view_module_version": "1.5.0",
      "_view_name": "HTMLView",
      "description": "",
      "description_tooltip": null,
      "layout": "IPY_MODEL_77d3631c617b4632b0c8e6dadcf333d0",
      "placeholder": "​",
      "style": "IPY_MODEL_0df5698e97ed488993265391f832e019",
      "value": "vocab.txt: 100%"
     }
    },
    "28508951fde842828addaf040e4d352b": {
     "model_module": "@jupyter-widgets/controls",
     "model_name": "FloatProgressModel",
     "model_module_version": "1.5.0",
     "state": {
      "_dom_classes": [],
      "_model_module": "@jupyter-widgets/controls",
      "_model_module_version": "1.5.0",
      "_model_name": "FloatProgressModel",
      "_view_count": null,
      "_view_module": "@jupyter-widgets/controls",
      "_view_module_version": "1.5.0",
      "_view_name": "ProgressView",
      "bar_style": "success",
      "description": "",
      "description_tooltip": null,
      "layout": "IPY_MODEL_0fd32654970f4307b412d55183ef74f1",
      "max": 489360,
      "min": 0,
      "orientation": "horizontal",
      "style": "IPY_MODEL_d5ed67157e534ac3998ae639f6526bb0",
      "value": 489360
     }
    },
    "e3ec0d0818744f09a19ac447df048a38": {
     "model_module": "@jupyter-widgets/controls",
     "model_name": "HTMLModel",
     "model_module_version": "1.5.0",
     "state": {
      "_dom_classes": [],
      "_model_module": "@jupyter-widgets/controls",
      "_model_module_version": "1.5.0",
      "_model_name": "HTMLModel",
      "_view_count": null,
      "_view_module": "@jupyter-widgets/controls",
      "_view_module_version": "1.5.0",
      "_view_name": "HTMLView",
      "description": "",
      "description_tooltip": null,
      "layout": "IPY_MODEL_13ecd1bf043c4e50af1d76935867b4e3",
      "placeholder": "​",
      "style": "IPY_MODEL_97c1a82278f04e7f97f5add96a0a3fad",
      "value": " 489k/489k [00:00&lt;00:00, 15.3MB/s]"
     }
    },
    "2a23aed615554f73a098aab1b6a9e617": {
     "model_module": "@jupyter-widgets/base",
     "model_name": "LayoutModel",
     "model_module_version": "1.2.0",
     "state": {
      "_model_module": "@jupyter-widgets/base",
      "_model_module_version": "1.2.0",
      "_model_name": "LayoutModel",
      "_view_count": null,
      "_view_module": "@jupyter-widgets/base",
      "_view_module_version": "1.2.0",
      "_view_name": "LayoutView",
      "align_content": null,
      "align_items": null,
      "align_self": null,
      "border": null,
      "bottom": null,
      "display": null,
      "flex": null,
      "flex_flow": null,
      "grid_area": null,
      "grid_auto_columns": null,
      "grid_auto_flow": null,
      "grid_auto_rows": null,
      "grid_column": null,
      "grid_gap": null,
      "grid_row": null,
      "grid_template_areas": null,
      "grid_template_columns": null,
      "grid_template_rows": null,
      "height": null,
      "justify_content": null,
      "justify_items": null,
      "left": null,
      "margin": null,
      "max_height": null,
      "max_width": null,
      "min_height": null,
      "min_width": null,
      "object_fit": null,
      "object_position": null,
      "order": null,
      "overflow": null,
      "overflow_x": null,
      "overflow_y": null,
      "padding": null,
      "right": null,
      "top": null,
      "visibility": null,
      "width": null
     }
    },
    "77d3631c617b4632b0c8e6dadcf333d0": {
     "model_module": "@jupyter-widgets/base",
     "model_name": "LayoutModel",
     "model_module_version": "1.2.0",
     "state": {
      "_model_module": "@jupyter-widgets/base",
      "_model_module_version": "1.2.0",
      "_model_name": "LayoutModel",
      "_view_count": null,
      "_view_module": "@jupyter-widgets/base",
      "_view_module_version": "1.2.0",
      "_view_name": "LayoutView",
      "align_content": null,
      "align_items": null,
      "align_self": null,
      "border": null,
      "bottom": null,
      "display": null,
      "flex": null,
      "flex_flow": null,
      "grid_area": null,
      "grid_auto_columns": null,
      "grid_auto_flow": null,
      "grid_auto_rows": null,
      "grid_column": null,
      "grid_gap": null,
      "grid_row": null,
      "grid_template_areas": null,
      "grid_template_columns": null,
      "grid_template_rows": null,
      "height": null,
      "justify_content": null,
      "justify_items": null,
      "left": null,
      "margin": null,
      "max_height": null,
      "max_width": null,
      "min_height": null,
      "min_width": null,
      "object_fit": null,
      "object_position": null,
      "order": null,
      "overflow": null,
      "overflow_x": null,
      "overflow_y": null,
      "padding": null,
      "right": null,
      "top": null,
      "visibility": null,
      "width": null
     }
    },
    "0df5698e97ed488993265391f832e019": {
     "model_module": "@jupyter-widgets/controls",
     "model_name": "DescriptionStyleModel",
     "model_module_version": "1.5.0",
     "state": {
      "_model_module": "@jupyter-widgets/controls",
      "_model_module_version": "1.5.0",
      "_model_name": "DescriptionStyleModel",
      "_view_count": null,
      "_view_module": "@jupyter-widgets/base",
      "_view_module_version": "1.2.0",
      "_view_name": "StyleView",
      "description_width": ""
     }
    },
    "0fd32654970f4307b412d55183ef74f1": {
     "model_module": "@jupyter-widgets/base",
     "model_name": "LayoutModel",
     "model_module_version": "1.2.0",
     "state": {
      "_model_module": "@jupyter-widgets/base",
      "_model_module_version": "1.2.0",
      "_model_name": "LayoutModel",
      "_view_count": null,
      "_view_module": "@jupyter-widgets/base",
      "_view_module_version": "1.2.0",
      "_view_name": "LayoutView",
      "align_content": null,
      "align_items": null,
      "align_self": null,
      "border": null,
      "bottom": null,
      "display": null,
      "flex": null,
      "flex_flow": null,
      "grid_area": null,
      "grid_auto_columns": null,
      "grid_auto_flow": null,
      "grid_auto_rows": null,
      "grid_column": null,
      "grid_gap": null,
      "grid_row": null,
      "grid_template_areas": null,
      "grid_template_columns": null,
      "grid_template_rows": null,
      "height": null,
      "justify_content": null,
      "justify_items": null,
      "left": null,
      "margin": null,
      "max_height": null,
      "max_width": null,
      "min_height": null,
      "min_width": null,
      "object_fit": null,
      "object_position": null,
      "order": null,
      "overflow": null,
      "overflow_x": null,
      "overflow_y": null,
      "padding": null,
      "right": null,
      "top": null,
      "visibility": null,
      "width": null
     }
    },
    "d5ed67157e534ac3998ae639f6526bb0": {
     "model_module": "@jupyter-widgets/controls",
     "model_name": "ProgressStyleModel",
     "model_module_version": "1.5.0",
     "state": {
      "_model_module": "@jupyter-widgets/controls",
      "_model_module_version": "1.5.0",
      "_model_name": "ProgressStyleModel",
      "_view_count": null,
      "_view_module": "@jupyter-widgets/base",
      "_view_module_version": "1.2.0",
      "_view_name": "StyleView",
      "bar_color": null,
      "description_width": ""
     }
    },
    "13ecd1bf043c4e50af1d76935867b4e3": {
     "model_module": "@jupyter-widgets/base",
     "model_name": "LayoutModel",
     "model_module_version": "1.2.0",
     "state": {
      "_model_module": "@jupyter-widgets/base",
      "_model_module_version": "1.2.0",
      "_model_name": "LayoutModel",
      "_view_count": null,
      "_view_module": "@jupyter-widgets/base",
      "_view_module_version": "1.2.0",
      "_view_name": "LayoutView",
      "align_content": null,
      "align_items": null,
      "align_self": null,
      "border": null,
      "bottom": null,
      "display": null,
      "flex": null,
      "flex_flow": null,
      "grid_area": null,
      "grid_auto_columns": null,
      "grid_auto_flow": null,
      "grid_auto_rows": null,
      "grid_column": null,
      "grid_gap": null,
      "grid_row": null,
      "grid_template_areas": null,
      "grid_template_columns": null,
      "grid_template_rows": null,
      "height": null,
      "justify_content": null,
      "justify_items": null,
      "left": null,
      "margin": null,
      "max_height": null,
      "max_width": null,
      "min_height": null,
      "min_width": null,
      "object_fit": null,
      "object_position": null,
      "order": null,
      "overflow": null,
      "overflow_x": null,
      "overflow_y": null,
      "padding": null,
      "right": null,
      "top": null,
      "visibility": null,
      "width": null
     }
    },
    "97c1a82278f04e7f97f5add96a0a3fad": {
     "model_module": "@jupyter-widgets/controls",
     "model_name": "DescriptionStyleModel",
     "model_module_version": "1.5.0",
     "state": {
      "_model_module": "@jupyter-widgets/controls",
      "_model_module_version": "1.5.0",
      "_model_name": "DescriptionStyleModel",
      "_view_count": null,
      "_view_module": "@jupyter-widgets/base",
      "_view_module_version": "1.2.0",
      "_view_name": "StyleView",
      "description_width": ""
     }
    },
    "a121c31927ec4f3c948ddb21bdf9c1d3": {
     "model_module": "@jupyter-widgets/controls",
     "model_name": "HBoxModel",
     "model_module_version": "1.5.0",
     "state": {
      "_dom_classes": [],
      "_model_module": "@jupyter-widgets/controls",
      "_model_module_version": "1.5.0",
      "_model_name": "HBoxModel",
      "_view_count": null,
      "_view_module": "@jupyter-widgets/controls",
      "_view_module_version": "1.5.0",
      "_view_name": "HBoxView",
      "box_style": "",
      "children": [
       "IPY_MODEL_89f8f5bc098f477cae45ce48b0be0d33",
       "IPY_MODEL_8636be1dcc70419b8a9d7804164d415c",
       "IPY_MODEL_26a0a56893f84e8fbb0cdc4ef3c01653"
      ],
      "layout": "IPY_MODEL_5d2d938ecb5c4f62b0665fb56a08fe51"
     }
    },
    "89f8f5bc098f477cae45ce48b0be0d33": {
     "model_module": "@jupyter-widgets/controls",
     "model_name": "HTMLModel",
     "model_module_version": "1.5.0",
     "state": {
      "_dom_classes": [],
      "_model_module": "@jupyter-widgets/controls",
      "_model_module_version": "1.5.0",
      "_model_name": "HTMLModel",
      "_view_count": null,
      "_view_module": "@jupyter-widgets/controls",
      "_view_module_version": "1.5.0",
      "_view_name": "HTMLView",
      "description": "",
      "description_tooltip": null,
      "layout": "IPY_MODEL_87f8d44f5e084840ac33cb58ca44a2a3",
      "placeholder": "​",
      "style": "IPY_MODEL_9406e03cc9404ae197751b8194f9cfc0",
      "value": "special_tokens_map.json: 100%"
     }
    },
    "8636be1dcc70419b8a9d7804164d415c": {
     "model_module": "@jupyter-widgets/controls",
     "model_name": "FloatProgressModel",
     "model_module_version": "1.5.0",
     "state": {
      "_dom_classes": [],
      "_model_module": "@jupyter-widgets/controls",
      "_model_module_version": "1.5.0",
      "_model_name": "FloatProgressModel",
      "_view_count": null,
      "_view_module": "@jupyter-widgets/controls",
      "_view_module_version": "1.5.0",
      "_view_name": "ProgressView",
      "bar_style": "success",
      "description": "",
      "description_tooltip": null,
      "layout": "IPY_MODEL_4cf0024058324b5ab2e6cfad3bf24782",
      "max": 112,
      "min": 0,
      "orientation": "horizontal",
      "style": "IPY_MODEL_abe2b77b6c244d9aa89387285dffd153",
      "value": 112
     }
    },
    "26a0a56893f84e8fbb0cdc4ef3c01653": {
     "model_module": "@jupyter-widgets/controls",
     "model_name": "HTMLModel",
     "model_module_version": "1.5.0",
     "state": {
      "_dom_classes": [],
      "_model_module": "@jupyter-widgets/controls",
      "_model_module_version": "1.5.0",
      "_model_name": "HTMLModel",
      "_view_count": null,
      "_view_module": "@jupyter-widgets/controls",
      "_view_module_version": "1.5.0",
      "_view_name": "HTMLView",
      "description": "",
      "description_tooltip": null,
      "layout": "IPY_MODEL_47a5ac0e77fd464daf28f3e7476310bb",
      "placeholder": "​",
      "style": "IPY_MODEL_84117692270c447d8e15651612c0dd07",
      "value": " 112/112 [00:00&lt;00:00, 7.60kB/s]"
     }
    },
    "5d2d938ecb5c4f62b0665fb56a08fe51": {
     "model_module": "@jupyter-widgets/base",
     "model_name": "LayoutModel",
     "model_module_version": "1.2.0",
     "state": {
      "_model_module": "@jupyter-widgets/base",
      "_model_module_version": "1.2.0",
      "_model_name": "LayoutModel",
      "_view_count": null,
      "_view_module": "@jupyter-widgets/base",
      "_view_module_version": "1.2.0",
      "_view_name": "LayoutView",
      "align_content": null,
      "align_items": null,
      "align_self": null,
      "border": null,
      "bottom": null,
      "display": null,
      "flex": null,
      "flex_flow": null,
      "grid_area": null,
      "grid_auto_columns": null,
      "grid_auto_flow": null,
      "grid_auto_rows": null,
      "grid_column": null,
      "grid_gap": null,
      "grid_row": null,
      "grid_template_areas": null,
      "grid_template_columns": null,
      "grid_template_rows": null,
      "height": null,
      "justify_content": null,
      "justify_items": null,
      "left": null,
      "margin": null,
      "max_height": null,
      "max_width": null,
      "min_height": null,
      "min_width": null,
      "object_fit": null,
      "object_position": null,
      "order": null,
      "overflow": null,
      "overflow_x": null,
      "overflow_y": null,
      "padding": null,
      "right": null,
      "top": null,
      "visibility": null,
      "width": null
     }
    },
    "87f8d44f5e084840ac33cb58ca44a2a3": {
     "model_module": "@jupyter-widgets/base",
     "model_name": "LayoutModel",
     "model_module_version": "1.2.0",
     "state": {
      "_model_module": "@jupyter-widgets/base",
      "_model_module_version": "1.2.0",
      "_model_name": "LayoutModel",
      "_view_count": null,
      "_view_module": "@jupyter-widgets/base",
      "_view_module_version": "1.2.0",
      "_view_name": "LayoutView",
      "align_content": null,
      "align_items": null,
      "align_self": null,
      "border": null,
      "bottom": null,
      "display": null,
      "flex": null,
      "flex_flow": null,
      "grid_area": null,
      "grid_auto_columns": null,
      "grid_auto_flow": null,
      "grid_auto_rows": null,
      "grid_column": null,
      "grid_gap": null,
      "grid_row": null,
      "grid_template_areas": null,
      "grid_template_columns": null,
      "grid_template_rows": null,
      "height": null,
      "justify_content": null,
      "justify_items": null,
      "left": null,
      "margin": null,
      "max_height": null,
      "max_width": null,
      "min_height": null,
      "min_width": null,
      "object_fit": null,
      "object_position": null,
      "order": null,
      "overflow": null,
      "overflow_x": null,
      "overflow_y": null,
      "padding": null,
      "right": null,
      "top": null,
      "visibility": null,
      "width": null
     }
    },
    "9406e03cc9404ae197751b8194f9cfc0": {
     "model_module": "@jupyter-widgets/controls",
     "model_name": "DescriptionStyleModel",
     "model_module_version": "1.5.0",
     "state": {
      "_model_module": "@jupyter-widgets/controls",
      "_model_module_version": "1.5.0",
      "_model_name": "DescriptionStyleModel",
      "_view_count": null,
      "_view_module": "@jupyter-widgets/base",
      "_view_module_version": "1.2.0",
      "_view_name": "StyleView",
      "description_width": ""
     }
    },
    "4cf0024058324b5ab2e6cfad3bf24782": {
     "model_module": "@jupyter-widgets/base",
     "model_name": "LayoutModel",
     "model_module_version": "1.2.0",
     "state": {
      "_model_module": "@jupyter-widgets/base",
      "_model_module_version": "1.2.0",
      "_model_name": "LayoutModel",
      "_view_count": null,
      "_view_module": "@jupyter-widgets/base",
      "_view_module_version": "1.2.0",
      "_view_name": "LayoutView",
      "align_content": null,
      "align_items": null,
      "align_self": null,
      "border": null,
      "bottom": null,
      "display": null,
      "flex": null,
      "flex_flow": null,
      "grid_area": null,
      "grid_auto_columns": null,
      "grid_auto_flow": null,
      "grid_auto_rows": null,
      "grid_column": null,
      "grid_gap": null,
      "grid_row": null,
      "grid_template_areas": null,
      "grid_template_columns": null,
      "grid_template_rows": null,
      "height": null,
      "justify_content": null,
      "justify_items": null,
      "left": null,
      "margin": null,
      "max_height": null,
      "max_width": null,
      "min_height": null,
      "min_width": null,
      "object_fit": null,
      "object_position": null,
      "order": null,
      "overflow": null,
      "overflow_x": null,
      "overflow_y": null,
      "padding": null,
      "right": null,
      "top": null,
      "visibility": null,
      "width": null
     }
    },
    "abe2b77b6c244d9aa89387285dffd153": {
     "model_module": "@jupyter-widgets/controls",
     "model_name": "ProgressStyleModel",
     "model_module_version": "1.5.0",
     "state": {
      "_model_module": "@jupyter-widgets/controls",
      "_model_module_version": "1.5.0",
      "_model_name": "ProgressStyleModel",
      "_view_count": null,
      "_view_module": "@jupyter-widgets/base",
      "_view_module_version": "1.2.0",
      "_view_name": "StyleView",
      "bar_color": null,
      "description_width": ""
     }
    },
    "47a5ac0e77fd464daf28f3e7476310bb": {
     "model_module": "@jupyter-widgets/base",
     "model_name": "LayoutModel",
     "model_module_version": "1.2.0",
     "state": {
      "_model_module": "@jupyter-widgets/base",
      "_model_module_version": "1.2.0",
      "_model_name": "LayoutModel",
      "_view_count": null,
      "_view_module": "@jupyter-widgets/base",
      "_view_module_version": "1.2.0",
      "_view_name": "LayoutView",
      "align_content": null,
      "align_items": null,
      "align_self": null,
      "border": null,
      "bottom": null,
      "display": null,
      "flex": null,
      "flex_flow": null,
      "grid_area": null,
      "grid_auto_columns": null,
      "grid_auto_flow": null,
      "grid_auto_rows": null,
      "grid_column": null,
      "grid_gap": null,
      "grid_row": null,
      "grid_template_areas": null,
      "grid_template_columns": null,
      "grid_template_rows": null,
      "height": null,
      "justify_content": null,
      "justify_items": null,
      "left": null,
      "margin": null,
      "max_height": null,
      "max_width": null,
      "min_height": null,
      "min_width": null,
      "object_fit": null,
      "object_position": null,
      "order": null,
      "overflow": null,
      "overflow_x": null,
      "overflow_y": null,
      "padding": null,
      "right": null,
      "top": null,
      "visibility": null,
      "width": null
     }
    },
    "84117692270c447d8e15651612c0dd07": {
     "model_module": "@jupyter-widgets/controls",
     "model_name": "DescriptionStyleModel",
     "model_module_version": "1.5.0",
     "state": {
      "_model_module": "@jupyter-widgets/controls",
      "_model_module_version": "1.5.0",
      "_model_name": "DescriptionStyleModel",
      "_view_count": null,
      "_view_module": "@jupyter-widgets/base",
      "_view_module_version": "1.2.0",
      "_view_name": "StyleView",
      "description_width": ""
     }
    }
   }
  }
 },
 "cells": [
  {
   "cell_type": "markdown",
   "source": [
    "# Predictions with vectors given by PolBert Transformer model from HuggingFace"
   ],
   "metadata": {
    "id": "Jk46y22C0Oa2"
   }
  },
  {
   "cell_type": "code",
   "source": [
    "import pandas as pd"
   ],
   "metadata": {
    "id": "HVJeTx5zefux"
   },
   "execution_count": null,
   "outputs": []
  },
  {
   "cell_type": "code",
   "execution_count": null,
   "metadata": {
    "colab": {
     "base_uri": "https://localhost:8080/",
     "height": 177,
     "referenced_widgets": [
      "aea83a19f007486ab24065c30d73673c",
      "724222790f024bb489ab1b2d07bd37fb",
      "ec72f325c42f4170a8c9cbd1cecabbc5",
      "99706fa109b645a792d091c06b565e44",
      "6cecfda3662744a7b325068f92efeec2",
      "713420a9840748b39c1986bb0b09a685",
      "98b8219334714249b1bd666c7a21a8e1",
      "c8c3946a3f9c4f0db0bcb8888dfb4161",
      "5f7e5202f9954a59b3910e2e4ad7d4d8",
      "3ca7716cd0a1424aa9fde5233f8e7267",
      "76985de51e114317a072c970bdc34be5",
      "058eac52c1dc4a7a8f531a6e9ecd40e4",
      "9c798edeb5a043c583c8b143d9979674",
      "beb22ed72d9b40f1acc8a1d06530ce2e",
      "b108054442754c899b83ca46bf85747f",
      "f6c47618c927487fa5190f97da977e5f",
      "c5629457c7ec441d83cf7a8da2ccbc54",
      "baf2af507d8445dd937d943b774beef2",
      "baed53f2984043e2a936c43b16760947",
      "259a826ed9c2490585308288fca177f1",
      "e5da954d8f48412d9c9e8efe6a673e3f",
      "04c822e5b59342ca992060201351aee9",
      "28bacf7403e84943bf7963b387517a0c",
      "b89bd12b058046e58b4d306dd03a8a2c",
      "0c84183ccc304e4b88ecdc4dfa5570eb",
      "b4b1fbd7e3ea4faaa3c8521e2a23ad59",
      "bfaff4d8078241f39a765962fc9f9329",
      "81bada3baeb44ae2bce9968f06649ae0",
      "4597d2f082e7472282166614ab6df3db",
      "8f7e73530387453ca0138289d2ca1da6",
      "4d0de89f227f4a68bdcd9c59316e0b0f",
      "615fb42f78c14b1f9381f340bb97bd51",
      "3f348a30399b4ac1b37ee4ea52644332",
      "169ee32131ec478aafdacabfdc28c259",
      "5c6c8feb26ea4a619543f8f26bc66f0e",
      "28508951fde842828addaf040e4d352b",
      "e3ec0d0818744f09a19ac447df048a38",
      "2a23aed615554f73a098aab1b6a9e617",
      "77d3631c617b4632b0c8e6dadcf333d0",
      "0df5698e97ed488993265391f832e019",
      "0fd32654970f4307b412d55183ef74f1",
      "d5ed67157e534ac3998ae639f6526bb0",
      "13ecd1bf043c4e50af1d76935867b4e3",
      "97c1a82278f04e7f97f5add96a0a3fad",
      "a121c31927ec4f3c948ddb21bdf9c1d3",
      "89f8f5bc098f477cae45ce48b0be0d33",
      "8636be1dcc70419b8a9d7804164d415c",
      "26a0a56893f84e8fbb0cdc4ef3c01653",
      "5d2d938ecb5c4f62b0665fb56a08fe51",
      "87f8d44f5e084840ac33cb58ca44a2a3",
      "9406e03cc9404ae197751b8194f9cfc0",
      "4cf0024058324b5ab2e6cfad3bf24782",
      "abe2b77b6c244d9aa89387285dffd153",
      "47a5ac0e77fd464daf28f3e7476310bb",
      "84117692270c447d8e15651612c0dd07"
     ]
    },
    "id": "YUrE15xUZgCt",
    "outputId": "32491a0a-fafa-4be6-95cc-9056f5cc88c2"
   },
   "outputs": [],
   "source": [
    "from transformers import AutoModel, AutoTokenizer\n",
    "import torch\n",
    "\n",
    "# https://huggingface.co/dkleczek/bert-base-polish-uncased-v1\n",
    "\n",
    "model_name = \"dkleczek/bert-base-polish-cased-v1\"  # polbert\n",
    "model = AutoModel.from_pretrained(model_name)\n",
    "tokenizer = AutoTokenizer.from_pretrained(model_name)\n"
   ]
  },
  {
   "cell_type": "code",
   "source": [
    "sentences = [\"To jest przykładowe zdanie.\", \"Za siedmioma górami, za siedmioma lasami mieszkał Tomisław Apoloniusz Curuś Bachleda Farell, jak ten piecyk z dmuchawą\"]\n",
    "\n",
    "tokenized_input = tokenizer(sentences, return_tensors=\"pt\", padding=True, truncation=True, max_length=256)\n",
    "\n",
    "with torch.no_grad():\n",
    "    outputs = model(**tokenized_input)\n",
    "\n",
    "sentence_embeddings = outputs.last_hidden_state.mean(dim=1)  # mean across tokens\n",
    "\n",
    "sentence_embeddings = sentence_embeddings.numpy()\n",
    "\n",
    "for i, sentence_embedding in enumerate(sentence_embeddings):\n",
    "    print(f\"Sentence {i + 1} embedding: {sentence_embedding}\")\n",
    "\n",
    "len(sentence_embeddings[0])"
   ],
   "metadata": {
    "id": "L8CUae9lZhQW",
    "colab": {
     "base_uri": "https://localhost:8080/"
    },
    "outputId": "37dae29f-5e12-49d2-f0a2-6b83807de154"
   },
   "execution_count": null,
   "outputs": []
  },
  {
   "cell_type": "code",
   "source": [
    "df = pd.read_csv('oversample_stemmed_train_df.csv')\n",
    "df.head(3)"
   ],
   "metadata": {
    "colab": {
     "base_uri": "https://localhost:8080/",
     "height": 366
    },
    "id": "EZMj9FFqaDcn",
    "outputId": "abe5acbd-62df-415c-c0f6-dd25c9df8125"
   },
   "execution_count": null,
   "outputs": []
  },
  {
   "cell_type": "code",
   "source": [
    "texts = df['text']\n",
    "prep_texts = df['prep_text']\n",
    "df = df.drop(['text', 'prep_text'], axis=1)\n",
    "df"
   ],
   "metadata": {
    "colab": {
     "base_uri": "https://localhost:8080/",
     "height": 444
    },
    "id": "tve_mj61gdgn",
    "outputId": "98c7dcf2-a8cb-49dc-9d74-144ff81ec8a8"
   },
   "execution_count": null,
   "outputs": []
  },
  {
   "cell_type": "code",
   "source": [
    "def convert_to_binary(df, cols):\n",
    "  means = df[cols].mean(axis=1)\n",
    "  pref_df = pd.DataFrame()\n",
    "\n",
    "  for col in cols:\n",
    "    pref_df[col] = df[col] >= means\n",
    "\n",
    "  return pref_df.astype(int)"
   ],
   "metadata": {
    "id": "Pkm_mkMBvVAK"
   },
   "execution_count": null,
   "outputs": []
  },
  {
   "cell_type": "code",
   "source": [
    "y_train = convert_to_binary(df, df.columns)"
   ],
   "metadata": {
    "id": "KIyriLuasZH_"
   },
   "execution_count": null,
   "outputs": []
  },
  {
   "cell_type": "code",
   "source": [
    "list(texts)[:3]"
   ],
   "metadata": {
    "colab": {
     "base_uri": "https://localhost:8080/"
    },
    "id": "faYR7KIyl0_0",
    "outputId": "9668789a-5e81-45ac-963c-fe529c58ed09"
   },
   "execution_count": null,
   "outputs": []
  },
  {
   "cell_type": "code",
   "source": [
    "device = torch.device(\"cuda\" if torch.cuda.is_available() else \"cpu\")\n",
    "model = model.to(device)\n",
    "\n",
    "X_parts = {}\n",
    "\n",
    "for i in range(5):\n",
    "  tokenized_input = tokenizer(list(texts[i*460 : (i+1)*460]), return_tensors=\"pt\", padding=True, truncation=True, max_length=256).to(device)\n",
    "\n",
    "  with torch.no_grad():\n",
    "      outputs = model(**tokenized_input)\n",
    "\n",
    "  sentence_embeddings = outputs.last_hidden_state.mean(dim=1)\n",
    "  sentence_embeddings = sentence_embeddings.cpu().numpy()\n",
    "\n",
    "  X_parts['part_' + str(i)] = pd.DataFrame(sentence_embeddings)\n"
   ],
   "metadata": {
    "id": "RWH0WTIsgvwc"
   },
   "execution_count": null,
   "outputs": []
  },
  {
   "cell_type": "code",
   "source": [
    "X_base = pd.concat(list(X_parts.values()), ignore_index=True)"
   ],
   "metadata": {
    "id": "fOIu06mFoQ9J"
   },
   "execution_count": null,
   "outputs": []
  },
  {
   "cell_type": "code",
   "source": [
    "X_base.head(3)"
   ],
   "metadata": {
    "colab": {
     "base_uri": "https://localhost:8080/",
     "height": 193
    },
    "id": "YWOkg5Nklyo2",
    "outputId": "3fae9023-1bc6-4424-c621-82c24fbb0930"
   },
   "execution_count": null,
   "outputs": []
  },
  {
   "cell_type": "code",
   "source": [
    "X_base.shape"
   ],
   "metadata": {
    "colab": {
     "base_uri": "https://localhost:8080/"
    },
    "id": "oDAZ93MqmHGT",
    "outputId": "8815547a-015f-4204-d00f-39d31e30ee1b"
   },
   "execution_count": null,
   "outputs": []
  },
  {
   "cell_type": "code",
   "source": [
    "import tensorflow as tf\n",
    "from tensorflow.keras.models import Sequential\n",
    "from tensorflow.keras.layers import Dense, Dropout\n",
    "from tensorflow.keras.optimizers import Adam\n",
    "\n",
    "tf.random.set_seed(2023)\n",
    "\n",
    "\n",
    "INPUT_SHAPE = X_base.shape[1]\n",
    "\n",
    "\n",
    "model_base = Sequential([\n",
    "    Dense(512, activation='relu', input_shape=(INPUT_SHAPE,)),\n",
    "    Dropout(0.3),\n",
    "    Dense(256, activation='relu'),\n",
    "    Dense(128, activation='relu'),\n",
    "    Dropout(0.2),\n",
    "    Dense(64, activation='relu'),\n",
    "    Dense(32, activation='relu'),\n",
    "    Dropout(0.2),\n",
    "    Dense(53, activation='sigmoid')\n",
    "])\n",
    "\n",
    "\n",
    "model_base.compile(optimizer=Adam(learning_rate=0.001), loss='binary_crossentropy', metrics=['accuracy'])\n",
    "\n",
    "model_base.summary()"
   ],
   "metadata": {
    "colab": {
     "base_uri": "https://localhost:8080/"
    },
    "id": "4nUG_Ptan0SX",
    "outputId": "56438dbf-0913-4f23-9f58-41eeeb24fe27"
   },
   "execution_count": null,
   "outputs": []
  },
  {
   "cell_type": "code",
   "source": [
    "result = model_base.fit(X_base, y_train, epochs=50, batch_size=32, validation_split=0.15)"
   ],
   "metadata": {
    "colab": {
     "base_uri": "https://localhost:8080/"
    },
    "id": "YztR3OkMsLym",
    "outputId": "7d985306-8f26-4a10-95f5-037d55a21155"
   },
   "execution_count": null,
   "outputs": []
  },
  {
   "cell_type": "code",
   "source": [
    "test_df = pd.read_csv('test_df.csv')\n",
    "\n",
    "test_texts = test_df['text']\n",
    "test_df = test_df.drop(['text', 'date'], axis=1)\n",
    "test_df.head(3)"
   ],
   "metadata": {
    "colab": {
     "base_uri": "https://localhost:8080/",
     "height": 193
    },
    "id": "QHOmerFkslfq",
    "outputId": "ed3034a8-06ca-4070-c2a5-917e2a2fc882"
   },
   "execution_count": null,
   "outputs": []
  },
  {
   "cell_type": "code",
   "source": [
    "device = torch.device(\"cuda\" if torch.cuda.is_available() else \"cpu\")\n",
    "model = model.to(device)\n",
    "\n",
    "tokenized_input = tokenizer(list(test_texts), return_tensors=\"pt\", padding=True, truncation=True, max_length=256).to(device)\n",
    "\n",
    "with torch.no_grad():\n",
    "    outputs = model(**tokenized_input)\n",
    "\n",
    "sentence_embeddings = outputs.last_hidden_state.mean(dim=1)\n",
    "sentence_embeddings = sentence_embeddings.cpu().numpy()\n",
    "\n",
    "X_test = pd.DataFrame(sentence_embeddings)"
   ],
   "metadata": {
    "id": "38kazEDXwcx_"
   },
   "execution_count": null,
   "outputs": []
  },
  {
   "cell_type": "code",
   "source": [
    "X_test.head(3)"
   ],
   "metadata": {
    "colab": {
     "base_uri": "https://localhost:8080/",
     "height": 193
    },
    "id": "N-62JHBQxTBI",
    "outputId": "a7ea4349-07ea-4478-d8ea-643bb366c75a"
   },
   "execution_count": null,
   "outputs": []
  },
  {
   "cell_type": "code",
   "source": [
    "cols = test_df.columns"
   ],
   "metadata": {
    "id": "tncxYINVzWWP"
   },
   "execution_count": null,
   "outputs": []
  },
  {
   "cell_type": "code",
   "source": [
    "y_test = convert_to_binary(test_df, test_df.columns)"
   ],
   "metadata": {
    "id": "eflj8C-WyxV-"
   },
   "execution_count": null,
   "outputs": []
  },
  {
   "cell_type": "code",
   "source": [
    "def get_attr_from_vector(vector, threshold=0.5):\n",
    "  return [1 if elem >= threshold else 0 for elem in vector]"
   ],
   "metadata": {
    "id": "OpCWAXVfzep1"
   },
   "execution_count": null,
   "outputs": []
  },
  {
   "cell_type": "code",
   "source": [
    "y_pred = model_base.predict(X_test)\n",
    "y_pred_cat = pd.DataFrame([get_attr_from_vector(vector) for vector in y_pred])\n",
    "y_pred_cat.columns = cols\n",
    "y_pred_cat.head(3)"
   ],
   "metadata": {
    "colab": {
     "base_uri": "https://localhost:8080/",
     "height": 210
    },
    "id": "QxH7OrSVyqiM",
    "outputId": "ac1aff52-98cc-4d78-9c8b-cf8eef35a08f"
   },
   "execution_count": null,
   "outputs": []
  },
  {
   "cell_type": "code",
   "source": [
    "from sklearn.metrics import accuracy_score, recall_score, precision_score\n",
    "\n",
    "total_ac = 0\n",
    "total_rec = 0\n",
    "total_prec = 0\n",
    "\n",
    "size = 26\n",
    "\n",
    "for i in range(size):\n",
    "  tmp_pred = y_pred_cat.iloc[i]\n",
    "  tmp_true = y_test.iloc[i]\n",
    "\n",
    "  ac_score = accuracy_score(tmp_pred, tmp_true)\n",
    "  rec_score = recall_score(tmp_pred, tmp_true)\n",
    "  prec_score = precision_score(tmp_pred, tmp_true)\n",
    "\n",
    "  total_ac += ac_score\n",
    "  total_rec += rec_score\n",
    "  total_prec += prec_score\n",
    "\n",
    "  bert_bigger_nn_base_accuracy = total_ac/size\n",
    "  bert_bigger_nn_base_recall = total_rec/size\n",
    "  bert_bigger_nn_base_precision = total_prec/size\n",
    "\n",
    "  print(f\"{i} - Accuracy: {ac_score} | Recall: {rec_score} | Precision: {prec_score}\")\n",
    "\n",
    "\n",
    "print(f\"\\nMean - Accuracy: {total_ac/size } | Recall: {total_rec/size} | Precision: {total_prec/size}\")"
   ],
   "metadata": {
    "colab": {
     "base_uri": "https://localhost:8080/"
    },
    "id": "1qixjKeYzJsX",
    "outputId": "cedac9ec-afd8-4c74-ddaf-b03ffb2ed608"
   },
   "execution_count": null,
   "outputs": []
  },
  {
   "cell_type": "code",
   "source": [
    "total_ac = 0\n",
    "\n",
    "for col in cols:\n",
    "  ac_score = accuracy_score(y_pred_cat[col], y_test[col])\n",
    "  total_ac += ac_score\n",
    "  print(f\"Accuracy of predicting {col}: {ac_score}\")\n",
    "\n",
    "bert_bigger_nn_accuracy_base = total_ac/len(cols)\n",
    "\n",
    "print(f\"\\nMean accuracy in test dataset: {total_ac/len(cols)}\")"
   ],
   "metadata": {
    "colab": {
     "base_uri": "https://localhost:8080/"
    },
    "id": "2y37fhSqzrV_",
    "outputId": "1fbfef00-9caf-4701-fa1c-15b2a45e4fce"
   },
   "execution_count": null,
   "outputs": []
  },
  {
   "cell_type": "markdown",
   "source": [
    "# Same with preprocessed texts"
   ],
   "metadata": {
    "id": "M5HFaVQP0Cis"
   }
  },
  {
   "cell_type": "code",
   "source": [
    "device = torch.device(\"cuda\" if torch.cuda.is_available() else \"cpu\")\n",
    "model = model.to(device)\n",
    "\n",
    "X_parts = {}\n",
    "\n",
    "for i in range(5):\n",
    "  tokenized_input = tokenizer(list(prep_texts[i*460 : (i+1)*460]), return_tensors=\"pt\", padding=True, truncation=True, max_length=256).to(device)\n",
    "\n",
    "  with torch.no_grad():\n",
    "      outputs = model(**tokenized_input)\n",
    "\n",
    "  sentence_embeddings = outputs.last_hidden_state.mean(dim=1)\n",
    "  sentence_embeddings = sentence_embeddings.cpu().numpy()\n",
    "\n",
    "  X_parts['part_' + str(i)] = pd.DataFrame(sentence_embeddings)\n",
    "\n",
    "X_prep = pd.concat(list(X_parts.values()), ignore_index=True)\n",
    "X_prep.head(5)"
   ],
   "metadata": {
    "colab": {
     "base_uri": "https://localhost:8080/",
     "height": 256
    },
    "id": "_foCSWQlz2-c",
    "outputId": "d9e12984-ddbe-4b9e-81ab-2bd2216bad4b"
   },
   "execution_count": null,
   "outputs": []
  },
  {
   "cell_type": "code",
   "source": [
    "import tensorflow as tf\n",
    "from tensorflow.keras.models import Sequential\n",
    "from tensorflow.keras.layers import Dense, Dropout\n",
    "from tensorflow.keras.optimizers import Adam\n",
    "\n",
    "tf.random.set_seed(2023)\n",
    "\n",
    "INPUT_SHAPE = X_prep.shape[1]\n",
    "\n",
    "model_prep = Sequential([\n",
    "    Dense(512, activation='relu', input_shape=(INPUT_SHAPE,)),\n",
    "    Dropout(0.3),\n",
    "    Dense(256, activation='relu'),\n",
    "    Dense(128, activation='relu'),\n",
    "    Dropout(0.2),\n",
    "    Dense(64, activation='relu'),\n",
    "    Dense(32, activation='relu'),\n",
    "    Dropout(0.2),\n",
    "    Dense(53, activation='sigmoid')\n",
    "])\n",
    "\n",
    "\n",
    "model_prep.compile(optimizer=Adam(learning_rate=0.001), loss='binary_crossentropy', metrics=['accuracy'])\n",
    "\n",
    "model_prep.summary()"
   ],
   "metadata": {
    "colab": {
     "base_uri": "https://localhost:8080/"
    },
    "id": "7u0bC9SW0hGA",
    "outputId": "4f0f1538-a3b0-4a9a-e42f-1b997a7c49f8"
   },
   "execution_count": null,
   "outputs": []
  },
  {
   "cell_type": "code",
   "source": [
    "! pip install stop_words\n",
    "! pip install pyMorfologik"
   ],
   "metadata": {
    "id": "XP69VWS83aaQ",
    "colab": {
     "base_uri": "https://localhost:8080/"
    },
    "outputId": "749aee9d-6ed5-4559-9811-0f662e155a73"
   },
   "execution_count": null,
   "outputs": []
  },
  {
   "cell_type": "code",
   "source": [
    "import re\n",
    "from string import punctuation\n",
    "from stop_words import get_stop_words\n",
    "from pyMorfologik import Morfologik\n",
    "from pyMorfologik.parsing import ListParser\n",
    "import string\n",
    "\n",
    "\n",
    "parser = ListParser()\n",
    "stemmer = Morfologik()\n",
    "\n",
    "stopwords_pl = get_stop_words(\"pl\")\n",
    "\n",
    "\n",
    "def preprocess_text(text):\n",
    "    translator = str.maketrans(string.punctuation, ' ' * len(string.punctuation))\n",
    "    new_text = text.translate(translator)\n",
    "    new_text = re.sub(r'\\d+', '', new_text)\n",
    "    new_text = re.sub(r'\\s+', ' ', new_text)\n",
    "    new_text = new_text.strip()\n",
    "    new_text = new_text.lower()\n",
    "\n",
    "    stems = stemmer.stem([new_text], parser)\n",
    "    tokens = [(list(stems[i][1].keys())[0] if len(list(stems[i][1].keys())) > 0 else stems[i][0]) for i in range(len(stems))]\n",
    "\n",
    "    filtered_tokens = [token for token in tokens if token not in stopwords_pl]\n",
    "    filtered_tokens = [token for token in filtered_tokens if token!= '']\n",
    "    processed_text = \" \".join(filtered_tokens)\n",
    "\n",
    "    return processed_text"
   ],
   "metadata": {
    "id": "nYTZMU9J3hV_"
   },
   "execution_count": null,
   "outputs": []
  },
  {
   "cell_type": "code",
   "source": [
    "test_texts_prep = [preprocess_text(text) for text in test_texts]"
   ],
   "metadata": {
    "id": "6YXmVZQf3nC_"
   },
   "execution_count": null,
   "outputs": []
  },
  {
   "cell_type": "code",
   "source": [
    "test_texts_prep[:3]"
   ],
   "metadata": {
    "colab": {
     "base_uri": "https://localhost:8080/"
    },
    "id": "8myVri5-3udl",
    "outputId": "87ad6eee-a6f4-4a54-9e04-13db82360baa"
   },
   "execution_count": null,
   "outputs": []
  },
  {
   "cell_type": "code",
   "source": [
    "tokenized_input = tokenizer(test_texts_prep, return_tensors=\"pt\", padding=True, truncation=True, max_length=256).to(device)\n",
    "\n",
    "with torch.no_grad():\n",
    "    outputs = model(**tokenized_input)\n",
    "\n",
    "sentence_embeddings = outputs.last_hidden_state.mean(dim=1)\n",
    "sentence_embeddings = sentence_embeddings.cpu().numpy()\n",
    "\n",
    "X_test_prep = pd.DataFrame(sentence_embeddings)"
   ],
   "metadata": {
    "id": "eIoBWOHm4CrY"
   },
   "execution_count": null,
   "outputs": []
  },
  {
   "cell_type": "code",
   "source": [
    "X_test_prep.head(3)"
   ],
   "metadata": {
    "colab": {
     "base_uri": "https://localhost:8080/",
     "height": 193
    },
    "id": "MwL3EKHO4RhB",
    "outputId": "4e5cf601-9bf2-4e6f-ad02-4c1368b1077e"
   },
   "execution_count": null,
   "outputs": []
  },
  {
   "cell_type": "code",
   "source": [
    "result = model_prep.fit(X_prep, y_train, epochs=50, batch_size=32, validation_split=0.15)"
   ],
   "metadata": {
    "colab": {
     "base_uri": "https://localhost:8080/"
    },
    "id": "MsE_Z6814pBy",
    "outputId": "0348dc07-30d0-44b5-fa82-6adabdad5f05"
   },
   "execution_count": null,
   "outputs": []
  },
  {
   "cell_type": "code",
   "source": [
    "y_pred = model_prep.predict(X_test_prep)\n",
    "y_pred_cat = pd.DataFrame([get_attr_from_vector(vector) for vector in y_pred])\n",
    "y_pred_cat.columns = cols\n",
    "y_pred_cat.head(3)"
   ],
   "metadata": {
    "colab": {
     "base_uri": "https://localhost:8080/",
     "height": 210
    },
    "id": "fSqtfAeQ5Ei3",
    "outputId": "27292c6d-6728-4e35-d03c-d8e9e895222a"
   },
   "execution_count": null,
   "outputs": []
  },
  {
   "cell_type": "code",
   "source": [
    "from sklearn.metrics import accuracy_score, recall_score, precision_score\n",
    "\n",
    "total_ac = 0\n",
    "total_rec = 0\n",
    "total_prec = 0\n",
    "\n",
    "size = 26\n",
    "\n",
    "for i in range(size):\n",
    "  tmp_pred = y_pred_cat.iloc[i]\n",
    "  tmp_true = y_test.iloc[i]\n",
    "\n",
    "  ac_score = accuracy_score(tmp_pred, tmp_true)\n",
    "  rec_score = recall_score(tmp_pred, tmp_true)\n",
    "  prec_score = precision_score(tmp_pred, tmp_true)\n",
    "\n",
    "  total_ac += ac_score\n",
    "  total_rec += rec_score\n",
    "  total_prec += prec_score\n",
    "\n",
    "  bert_bigger_nn_prep_accuracy = total_ac/size\n",
    "  bert_bigger_nn_prep_recall = total_rec/size\n",
    "  bert_bigger_nn_prep_precision = total_prec/size\n",
    "\n",
    "  print(f\"{i} - Accuracy: {ac_score} | Recall: {rec_score} | Precision: {prec_score}\")\n",
    "\n",
    "\n",
    "print(f\"\\nMean - Accuracy: {total_ac/size } | Recall: {total_rec/size} | Precision: {total_prec/size}\")"
   ],
   "metadata": {
    "colab": {
     "base_uri": "https://localhost:8080/"
    },
    "id": "RWqfyMR15GCU",
    "outputId": "0cb08354-0487-46fa-85c2-89249de0cd3e"
   },
   "execution_count": null,
   "outputs": []
  },
  {
   "cell_type": "code",
   "source": [
    "total_ac = 0\n",
    "\n",
    "for col in cols:\n",
    "  ac_score = accuracy_score(y_pred_cat[col], y_test[col])\n",
    "  total_ac += ac_score\n",
    "  print(f\"Accuracy of predicting {col}: {ac_score}\")\n",
    "\n",
    "bert_bigger_nn_accuracy_prep = total_ac/len(cols)\n",
    "\n",
    "print(f\"\\nMean accuracy in test dataset: {total_ac/len(cols)}\")"
   ],
   "metadata": {
    "colab": {
     "base_uri": "https://localhost:8080/"
    },
    "id": "zt-M155h5RBH",
    "outputId": "c5654dd8-44d5-410c-c630-934a6ec22608"
   },
   "execution_count": null,
   "outputs": []
  },
  {
   "cell_type": "code",
   "source": [
    "# from first_models notebook\n",
    "\n",
    "tested_options_acc = {'doc2vec_simple_nn_accuracy': 0.6690856313497823,\n",
    "                      'tfidf_simple_nn_accuracy': 0.7097242380261248,\n",
    "                      'tfidf_bigger_nn_accuracy': 0.7097242380261248,\n",
    "                      'tfidf_gb_accuracy': 0.6850507982583457}\n",
    "\n",
    "tested_options_acc['bert_bigger_nn_base_accuracy'] = bert_bigger_nn_base_accuracy\n",
    "tested_options_acc['bert_bigger_nn_prep_accuracy'] = bert_bigger_nn_prep_accuracy"
   ],
   "metadata": {
    "id": "Ca1xkTm85jb7"
   },
   "execution_count": null,
   "outputs": []
  },
  {
   "cell_type": "code",
   "source": [
    "tested_options_acc"
   ],
   "metadata": {
    "colab": {
     "base_uri": "https://localhost:8080/"
    },
    "id": "lNNuluID5_Bk",
    "outputId": "fd1a2f72-1355-40e0-8640-0743fb97600d"
   },
   "execution_count": null,
   "outputs": []
  },
  {
   "cell_type": "code",
   "source": [
    "import matplotlib.pyplot as plt\n",
    "plt.style.use('ggplot')\n",
    "\n",
    "keys = ['doc2vec,\\nmała sieć\\nneuronowa', 'TF-IDF,\\nmała sieć\\nneuronowa', 'TF-IDF,\\nwiększa sieć\\nneuronowa',\n",
    "        'TF-IDF,\\nGradientBoosting\\nwiele klasyfikatorów\\n', 'Polbert,\\nbez wstępnego\\nprzetworzenia,\\nwiększa sieć\\nneuronowa',\n",
    "        'Polbert,\\nze wstępnym\\nprzetworzeniem,\\nwiększa sieć\\nneuronowa']\n",
    "\n",
    "values = [val*100 for val in list(tested_options_acc.values())]\n",
    "\n",
    "\n",
    "plt.figure(figsize=(14, 6))\n",
    "bars = plt.bar(keys, values, color=['gray' for _ in range(4)]+['teal' for _ in range(2)])\n",
    "\n",
    "for bar in bars:\n",
    "    yval = bar.get_height()\n",
    "    plt.text(bar.get_x() + bar.get_width()/2, yval + 0.5, round(yval, 2), ha='center', va='bottom')\n",
    "\n",
    "plt.xlabel('Model')\n",
    "plt.ylabel('Dokładność (Accuracy) na zbiorze testowym [%]')\n",
    "plt.title('Dokładność (Accuracy) predykcji dokonanych za pomocą różnych modeli,\\nwraz z modelem Polbert wykorzystującym architekturę transformer')\n",
    "\n",
    "plt.tight_layout(pad=1)\n",
    "plt.savefig('ml_classifier_accuracy_polbert.png')\n",
    "plt.show()"
   ],
   "metadata": {
    "colab": {
     "base_uri": "https://localhost:8080/",
     "height": 609
    },
    "id": "klLgQByx5g03",
    "outputId": "30513df6-8d55-4670-95fc-78758331de60"
   },
   "execution_count": null,
   "outputs": []
  },
  {
   "cell_type": "code",
   "source": [
    "tested_options_rec = {'doc2vec_simple_nn_recall': 0.7346125849668288,\n",
    "                      'tfidf_simple_nn_recall': 0.7766475638498401,\n",
    "                      'tfidf_bigger_nn_recall': 0.7787785121376258,\n",
    "                      'tfidf_gb_recall': 0.7372439629118616}\n",
    "\n",
    "tested_options_rec['bert_bigger_nn_base_recall'] = bert_bigger_nn_base_recall\n",
    "tested_options_rec['bert_bigger_nn_prep_recall'] = bert_bigger_nn_prep_recall\n",
    "\n",
    "tested_options_rec"
   ],
   "metadata": {
    "id": "uRfBUviF6_fc",
    "colab": {
     "base_uri": "https://localhost:8080/"
    },
    "outputId": "df959749-435c-45e7-d97a-c58afdeeaff8"
   },
   "execution_count": null,
   "outputs": []
  },
  {
   "cell_type": "code",
   "source": [
    "values = [val*100 for val in list(tested_options_rec.values())]\n",
    "\n",
    "\n",
    "plt.figure(figsize=(14, 6))\n",
    "bars = plt.bar(keys, values, color=['gray' for _ in range(4)]+['teal' for _ in range(2)])\n",
    "\n",
    "for bar in bars:\n",
    "    yval = bar.get_height()\n",
    "    plt.text(bar.get_x() + bar.get_width()/2, yval + 0.5, round(yval, 2), ha='center', va='bottom')\n",
    "\n",
    "plt.xlabel('Model')\n",
    "plt.ylabel('Czułość (Recall) na zbiorze testowym [%]')\n",
    "plt.title('Czułość (Recall) predykcji dokonanych za pomocą różnych modeli')\n",
    "\n",
    "plt.tight_layout(pad=1)\n",
    "plt.savefig('ml_classifier_recall_polbert.png')\n",
    "plt.show()"
   ],
   "metadata": {
    "colab": {
     "base_uri": "https://localhost:8080/",
     "height": 609
    },
    "id": "0LO-9DsANBdi",
    "outputId": "47d9eb58-6dd0-4d0a-d6bd-b1ac5c9e75eb"
   },
   "execution_count": null,
   "outputs": []
  },
  {
   "cell_type": "code",
   "source": [
    "tested_options_prec = {'doc2vec_simple_nn_precision': 0.5523979500769713,\n",
    "                        'tfidf_simple_nn_precision': 0.6287660676456441,\n",
    "                        'tfidf_bigger_nn_precision': 0.6074554151256809,\n",
    "                        'tfidf_gb_precision': 0.5966024220044214}\n",
    "\n",
    "tested_options_prec['bert_bigger_nn_base_precision'] = bert_bigger_nn_base_precision\n",
    "tested_options_prec['bert_bigger_nn_prep_precision'] = bert_bigger_nn_prep_precision\n",
    "\n",
    "tested_options_prec"
   ],
   "metadata": {
    "colab": {
     "base_uri": "https://localhost:8080/"
    },
    "id": "LI72R8YINnkQ",
    "outputId": "1f5d33b9-1439-4041-ecb0-09c707185f71"
   },
   "execution_count": null,
   "outputs": []
  },
  {
   "cell_type": "code",
   "source": [
    "values = [val*100 for val in list(tested_options_prec.values())]\n",
    "\n",
    "\n",
    "plt.figure(figsize=(14, 6))\n",
    "bars = plt.bar(keys, values, color=['gray' for _ in range(4)]+['teal' for _ in range(2)])\n",
    "\n",
    "for bar in bars:\n",
    "    yval = bar.get_height()\n",
    "    plt.text(bar.get_x() + bar.get_width()/2, yval + 0.5, round(yval, 2), ha='center', va='bottom')\n",
    "\n",
    "plt.xlabel('Model')\n",
    "plt.ylabel('Precyzja (Precision) na zbiorze testowym [%]')\n",
    "plt.title('Precyzja (Precision) predykcji dokonanych za pomocą różnych modeli')\n",
    "\n",
    "plt.tight_layout(pad=1)\n",
    "plt.savefig('ml_classifier_precision_polbert.png')\n",
    "plt.show()"
   ],
   "metadata": {
    "colab": {
     "base_uri": "https://localhost:8080/",
     "height": 609
    },
    "id": "bK_v5973N4-S",
    "outputId": "8a794369-ff94-453a-9eac-404d3930eaa8"
   },
   "execution_count": null,
   "outputs": []
  },
  {
   "cell_type": "code",
   "source": [],
   "metadata": {
    "id": "N_AlSpLvOG-J"
   },
   "execution_count": null,
   "outputs": []
  }
 ]
}
