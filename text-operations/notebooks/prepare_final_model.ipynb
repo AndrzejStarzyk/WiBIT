{
 "nbformat": 4,
 "nbformat_minor": 0,
 "metadata": {
  "colab": {
   "provenance": [],
   "gpuType": "T4"
  },
  "kernelspec": {
   "name": "python3",
   "display_name": "Python 3"
  },
  "language_info": {
   "name": "python"
  },
  "accelerator": "GPU"
 },
 "cells": [
  {
   "cell_type": "markdown",
   "source": [
    "##DOC2VEC\n"
   ],
   "metadata": {
    "id": "IK_PJYDREtuS"
   }
  },
  {
   "cell_type": "code",
   "execution_count": null,
   "metadata": {
    "id": "kW22s51XZkeK"
   },
   "outputs": [],
   "source": [
    "import pandas as pd\n",
    "import tensorflow as tf\n",
    "import sklearn\n",
    "import numpy as np\n",
    "\n",
    "\n",
    "np.random.seed(2023)\n",
    "tf.random.set_seed(2023)"
   ]
  },
  {
   "cell_type": "code",
   "source": [
    "df = pd.read_csv('oversample_stemmed_train_df.csv')\n",
    "df.head(3)"
   ],
   "metadata": {
    "colab": {
     "base_uri": "https://localhost:8080/",
     "height": 366
    },
    "id": "kx3hbiqoZmcP",
    "outputId": "d2ae9c4c-3def-437d-deed-48f293f91041"
   },
   "execution_count": null,
   "outputs": []
  },
  {
   "cell_type": "code",
   "source": [
    "texts = df['prep_text']\n",
    "texts"
   ],
   "metadata": {
    "colab": {
     "base_uri": "https://localhost:8080/"
    },
    "id": "9ZvBv0jiaEih",
    "outputId": "0393c280-acc1-463e-f8b9-8fcb0814cc70"
   },
   "execution_count": null,
   "outputs": []
  },
  {
   "cell_type": "code",
   "source": [
    "df = df.drop(['text', 'prep_text'], axis=1)\n",
    "df"
   ],
   "metadata": {
    "colab": {
     "base_uri": "https://localhost:8080/",
     "height": 443
    },
    "id": "6_8HmA1tagfP",
    "outputId": "9586099d-aa73-4726-9dc3-09a491d6a9d5"
   },
   "execution_count": null,
   "outputs": []
  },
  {
   "cell_type": "code",
   "source": [
    "df.columns"
   ],
   "metadata": {
    "colab": {
     "base_uri": "https://localhost:8080/"
    },
    "id": "9nBx0lk2au1u",
    "outputId": "d5ff99ee-677e-4065-e103-9ac25ba7b6fd"
   },
   "execution_count": null,
   "outputs": []
  },
  {
   "cell_type": "code",
   "source": [
    "df['mean'] = df.mean(axis=1)\n",
    "df['mean']"
   ],
   "metadata": {
    "colab": {
     "base_uri": "https://localhost:8080/"
    },
    "id": "Sid1cxCdazb0",
    "outputId": "be7e9b57-0a2d-41f1-ba12-f90907eb95c6"
   },
   "execution_count": null,
   "outputs": []
  },
  {
   "cell_type": "code",
   "source": [
    "df.head(2)"
   ],
   "metadata": {
    "colab": {
     "base_uri": "https://localhost:8080/",
     "height": 161
    },
    "id": "6swbRaAbb_2L",
    "outputId": "ee83b6f5-2b47-40ed-bc0b-0699241c97d6"
   },
   "execution_count": null,
   "outputs": []
  },
  {
   "cell_type": "code",
   "source": [
    "cols = list(df.columns)\n",
    "cols.remove('mean')"
   ],
   "metadata": {
    "id": "qtoU9ZuscbsB"
   },
   "execution_count": null,
   "outputs": []
  },
  {
   "cell_type": "code",
   "source": [
    "pref_df = pd.DataFrame()\n",
    "\n",
    "for col in cols:\n",
    "  pref_df[col] = df[col] >= df['mean']\n",
    "\n",
    "pref_df.astype(int)"
   ],
   "metadata": {
    "colab": {
     "base_uri": "https://localhost:8080/",
     "height": 443
    },
    "id": "-WJ5b7FpbApu",
    "outputId": "582a22a0-f699-46dc-e1b0-41ee18cf7f8b"
   },
   "execution_count": null,
   "outputs": []
  },
  {
   "cell_type": "code",
   "source": [
    "test_df = pd.read_csv('test_df.csv')\n",
    "test_df.head(3)"
   ],
   "metadata": {
    "colab": {
     "base_uri": "https://localhost:8080/",
     "height": 436
    },
    "id": "PpJY82ZocNex",
    "outputId": "cfcb5d08-c910-400a-cc21-f4a1da410252"
   },
   "execution_count": null,
   "outputs": []
  },
  {
   "cell_type": "code",
   "source": [
    "! pip install stop_words"
   ],
   "metadata": {
    "id": "Zj7yynfaC8Af",
    "colab": {
     "base_uri": "https://localhost:8080/"
    },
    "outputId": "91dd39f5-ec1d-4edc-a7e2-4438b4df08eb"
   },
   "execution_count": null,
   "outputs": []
  },
  {
   "cell_type": "code",
   "source": [
    "! pip install pyMorfologik"
   ],
   "metadata": {
    "id": "fAH4FFDXC9vm",
    "colab": {
     "base_uri": "https://localhost:8080/"
    },
    "outputId": "1429badd-9b08-4ef1-e126-2d1a71889479"
   },
   "execution_count": null,
   "outputs": []
  },
  {
   "cell_type": "code",
   "source": [
    "import re\n",
    "from string import punctuation\n",
    "import nltk\n",
    "import spacy\n",
    "from stop_words import get_stop_words\n",
    "from pyMorfologik import Morfologik\n",
    "from pyMorfologik.parsing import ListParser\n",
    "import string\n",
    "\n",
    "\n",
    "parser = ListParser()\n",
    "stemmer = Morfologik()\n",
    "\n",
    "stopwords_pl = get_stop_words(\"pl\")\n",
    "\n",
    "\n",
    "def preprocess_text(text):\n",
    "    translator = str.maketrans(string.punctuation, ' ' * len(string.punctuation))\n",
    "    new_text = text.translate(translator)\n",
    "    new_text = re.sub(r'\\d+', '', new_text)\n",
    "    new_text = re.sub(r'\\s+', ' ', new_text)\n",
    "    new_text = new_text.strip()\n",
    "    new_text = new_text.lower()\n",
    "\n",
    "    stems = stemmer.stem([new_text], parser)\n",
    "    tokens = [(list(stems[i][1].keys())[0] if len(list(stems[i][1].keys())) > 0 else stems[i][0]) for i in range(len(stems))]\n",
    "\n",
    "    filtered_tokens = [token for token in tokens if token not in stopwords_pl]\n",
    "    filtered_tokens = [token for token in filtered_tokens if token!= '']\n",
    "    processed_text = \" \".join(filtered_tokens)\n",
    "\n",
    "    return processed_text\n"
   ],
   "metadata": {
    "id": "u7Ci-7aBDDTZ"
   },
   "execution_count": null,
   "outputs": []
  },
  {
   "cell_type": "code",
   "source": [
    "test_texts = [preprocess_text(text) for text in test_df['text']]\n",
    "test_texts[:3]"
   ],
   "metadata": {
    "colab": {
     "base_uri": "https://localhost:8080/"
    },
    "id": "MTMIJD78DKBf",
    "outputId": "bad289b7-e3b5-44a6-ca9d-269bfb170441"
   },
   "execution_count": null,
   "outputs": []
  },
  {
   "cell_type": "code",
   "source": [
    "y_test = test_df.drop(['text', 'date'], axis=1)\n",
    "y_test.head(3)"
   ],
   "metadata": {
    "colab": {
     "base_uri": "https://localhost:8080/",
     "height": 193
    },
    "id": "ovZxgWWMDdqK",
    "outputId": "ca62ba75-6add-43ff-abad-9e89f173a799"
   },
   "execution_count": null,
   "outputs": []
  },
  {
   "cell_type": "code",
   "source": [
    "y_test['mean'] = y_test.mean(axis=1)"
   ],
   "metadata": {
    "id": "pVRS1g80FsMz"
   },
   "execution_count": null,
   "outputs": []
  },
  {
   "cell_type": "code",
   "source": [
    "y_test_scaled = pd.DataFrame()\n",
    "\n",
    "for col in cols:\n",
    "  y_test_scaled[col] = y_test[col] >= y_test['mean']\n",
    "\n",
    "y_test_scaled = y_test_scaled.astype(int)\n",
    "y_test_scaled.head(3)"
   ],
   "metadata": {
    "colab": {
     "base_uri": "https://localhost:8080/",
     "height": 193
    },
    "id": "IEML5kU4Fxgy",
    "outputId": "e091ccc9-af13-4d5f-d4b7-d13bb80a3ffa"
   },
   "execution_count": null,
   "outputs": []
  },
  {
   "cell_type": "markdown",
   "source": [
    "## TF-IDF"
   ],
   "metadata": {
    "id": "csKmtOqAEoNp"
   }
  },
  {
   "cell_type": "code",
   "source": [
    "import joblib\n",
    "\n",
    "loaded_vectorizer = joblib.load('tfidf_vectorizer_wibit.joblib')\n",
    "vectors = loaded_vectorizer.transform(texts)\n"
   ],
   "metadata": {
    "id": "-eB4DOSPcR9J"
   },
   "execution_count": null,
   "outputs": []
  },
  {
   "cell_type": "code",
   "source": [
    "print(vectors[0])"
   ],
   "metadata": {
    "colab": {
     "base_uri": "https://localhost:8080/"
    },
    "id": "pCh4qkq2poSp",
    "outputId": "36df84ba-9834-4725-b594-557830479e92"
   },
   "execution_count": null,
   "outputs": []
  },
  {
   "cell_type": "code",
   "source": [
    "vectors.shape"
   ],
   "metadata": {
    "colab": {
     "base_uri": "https://localhost:8080/"
    },
    "id": "vG3SpL-zpu59",
    "outputId": "f23d78a2-64df-43b4-e7b7-3eba2dcd3cfc"
   },
   "execution_count": null,
   "outputs": []
  },
  {
   "cell_type": "code",
   "source": [
    "vectors.toarray()"
   ],
   "metadata": {
    "colab": {
     "base_uri": "https://localhost:8080/"
    },
    "id": "Arh99y5tq0uc",
    "outputId": "158adb72-e239-4203-b2ee-aeba6fe3ea20"
   },
   "execution_count": null,
   "outputs": []
  },
  {
   "cell_type": "code",
   "source": [
    "X = vectors.toarray()"
   ],
   "metadata": {
    "id": "xgBtwea-qSoY"
   },
   "execution_count": null,
   "outputs": []
  },
  {
   "cell_type": "code",
   "source": [
    "y = pref_df.astype(int)\n",
    "y.head(3)"
   ],
   "metadata": {
    "colab": {
     "base_uri": "https://localhost:8080/",
     "height": 193
    },
    "id": "yTolWSbSsD0i",
    "outputId": "b9259783-b601-426f-8734-a426405b8cf3"
   },
   "execution_count": null,
   "outputs": []
  },
  {
   "cell_type": "code",
   "source": [
    "import tensorflow as tf\n",
    "from tensorflow.keras.models import Sequential\n",
    "from tensorflow.keras.layers import Dropout, Dense\n",
    "from tensorflow.keras.optimizers import Adam\n",
    "\n",
    "\n",
    "INPUT_SHAPE = 2696\n",
    "\n",
    "model = Sequential([\n",
    "    Dense(1024, activation='relu', input_shape=(INPUT_SHAPE,)),\n",
    "    Dropout(0.3),\n",
    "    Dense(512, activation='relu'),\n",
    "    Dense(256, activation='relu'),\n",
    "    Dense(128, activation='relu'),\n",
    "    Dropout(0.2),\n",
    "    Dense(64, activation='relu'),\n",
    "    Dense(32, activation='relu'),\n",
    "    Dropout(0.2),\n",
    "    Dense(53, activation='sigmoid')\n",
    "])\n",
    "\n",
    "\n",
    "model.compile(optimizer=Adam(learning_rate=0.001), loss='binary_crossentropy', metrics=['accuracy'])\n",
    "\n",
    "model.summary()"
   ],
   "metadata": {
    "colab": {
     "base_uri": "https://localhost:8080/"
    },
    "id": "tllUjPi8VaxY",
    "outputId": "d7984bbc-5a8b-45a1-94d4-659b461dd995"
   },
   "execution_count": null,
   "outputs": []
  },
  {
   "cell_type": "code",
   "source": [
    "result = model.fit(X, y, epochs=20, batch_size=32)"
   ],
   "metadata": {
    "colab": {
     "base_uri": "https://localhost:8080/"
    },
    "id": "dvpdF7eqW8PH",
    "outputId": "59377e82-348e-4d29-efbd-a2fa5367a388"
   },
   "execution_count": null,
   "outputs": []
  },
  {
   "cell_type": "code",
   "source": [
    "from keras.models import save_model, load_model\n",
    "\n",
    "model.save('tfidf_bigger_nn')\n",
    "# model.save('tfidf_bigger_nn.keras')"
   ],
   "metadata": {
    "id": "BoSKB8arK8Ws"
   },
   "execution_count": null,
   "outputs": []
  },
  {
   "cell_type": "code",
   "source": [
    "# code below allows to make zip from model and download it easily"
   ],
   "metadata": {
    "id": "Qg_rw3Xsrcqe"
   },
   "execution_count": null,
   "outputs": []
  },
  {
   "cell_type": "code",
   "source": [
    " ! zip -r tfidf_bigger_nn.zip tfidf_bigger_nn/"
   ],
   "metadata": {
    "colab": {
     "base_uri": "https://localhost:8080/"
    },
    "id": "XoMdedt4cXxS",
    "outputId": "5953c348-b392-4ea3-c4a1-223fd75506b0"
   },
   "execution_count": null,
   "outputs": []
  },
  {
   "cell_type": "code",
   "source": [
    "model = load_model('tfidf_bigger_nn')"
   ],
   "metadata": {
    "id": "gPTSx05ULhbe"
   },
   "execution_count": null,
   "outputs": []
  },
  {
   "cell_type": "code",
   "source": [
    "new_text = \"Bardzo lubię zwiedzać wszelkiego rodzaju zamki, lochy i krypty. Uwielbiam też różnego rodzaju opuszczone miejsca i ruiny. W wolnym czasie chętnie jeżdzę na rolkach i słucham popu. Posiłki najbardziej lubię jeść w swoim domu, ale czasami jadam też w kfc. Interesuję się piłką nożna i lekkoatletyką\"\n",
    "test_texts = [new_text]\n",
    "X_test = loaded_vectorizer.transform(test_texts)\n",
    "X_test = X_test.toarray()"
   ],
   "metadata": {
    "id": "o5ihmXjbMI1L"
   },
   "execution_count": null,
   "outputs": []
  },
  {
   "cell_type": "code",
   "source": [
    "y_pred = model.predict(X_test)\n",
    "y_pred"
   ],
   "metadata": {
    "colab": {
     "base_uri": "https://localhost:8080/"
    },
    "id": "IOvRF60uLsBO",
    "outputId": "cbaf6f8c-157f-4524-d044-d6d09106e32e"
   },
   "execution_count": null,
   "outputs": []
  },
  {
   "cell_type": "code",
   "source": [
    "def get_attr_from_vector(vector, threshold=0.5):\n",
    "  return [1 if elem >= threshold else 0 for elem in vector]"
   ],
   "metadata": {
    "id": "RT4jsSwQsU6T"
   },
   "execution_count": null,
   "outputs": []
  },
  {
   "cell_type": "code",
   "source": [
    "print(get_attr_from_vector(y_pred[0], threshold=0.5))"
   ],
   "metadata": {
    "colab": {
     "base_uri": "https://localhost:8080/"
    },
    "id": "vz2G2F8jNCpk",
    "outputId": "887bf275-6e50-44ad-a8c3-86685d04925b"
   },
   "execution_count": null,
   "outputs": []
  },
  {
   "cell_type": "code",
   "source": [
    "y_pred = model.predict(X_test)\n",
    "y_pred_cat = pd.DataFrame([get_attr_from_vector(vector, threshold=0.5) for vector in y_pred])\n",
    "y_pred_cat.columns = cols\n",
    "y_pred_cat.head(3)"
   ],
   "metadata": {
    "colab": {
     "base_uri": "https://localhost:8080/",
     "height": 147
    },
    "id": "Urm5WcDiXd3q",
    "outputId": "b9c4b62f-3713-454d-eddc-1f58381d5d88"
   },
   "execution_count": null,
   "outputs": []
  }
 ]
}
