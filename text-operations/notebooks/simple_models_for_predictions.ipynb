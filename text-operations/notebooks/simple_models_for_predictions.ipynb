{
 "nbformat": 4,
 "nbformat_minor": 0,
 "metadata": {
  "colab": {
   "provenance": [],
   "gpuType": "T4"
  },
  "kernelspec": {
   "name": "python3",
   "display_name": "Python 3"
  },
  "language_info": {
   "name": "python"
  },
  "accelerator": "GPU"
 },
 "cells": [
  {
   "cell_type": "markdown",
   "source": [
    "##DOC2VEC\n"
   ],
   "metadata": {
    "id": "IK_PJYDREtuS"
   }
  },
  {
   "cell_type": "code",
   "execution_count": null,
   "metadata": {
    "id": "kW22s51XZkeK"
   },
   "outputs": [],
   "source": [
    "import pandas as pd\n",
    "import tensorflow as tf\n",
    "import sklearn\n",
    "import numpy as np\n",
    "\n",
    "\n",
    "np.random.seed(2023)\n",
    "tf.random.set_seed(2023)"
   ]
  },
  {
   "cell_type": "code",
   "source": [
    "df = pd.read_csv('oversample_stemmed_train_df.csv')\n",
    "df.head(3)"
   ],
   "metadata": {
    "colab": {
     "base_uri": "https://localhost:8080/",
     "height": 366
    },
    "id": "kx3hbiqoZmcP",
    "outputId": "eb068672-0d1e-4574-ddf1-f6d88e5d1392"
   },
   "execution_count": null,
   "outputs": []
  },
  {
   "cell_type": "code",
   "source": [
    "texts = df['prep_text']\n",
    "texts"
   ],
   "metadata": {
    "colab": {
     "base_uri": "https://localhost:8080/"
    },
    "id": "9ZvBv0jiaEih",
    "outputId": "fa3441b4-ba24-4fad-ee31-cb9790a6d3a0"
   },
   "execution_count": null,
   "outputs": []
  },
  {
   "cell_type": "code",
   "source": [
    "df = df.drop(['text', 'prep_text'], axis=1)\n",
    "df"
   ],
   "metadata": {
    "colab": {
     "base_uri": "https://localhost:8080/",
     "height": 444
    },
    "id": "6_8HmA1tagfP",
    "outputId": "55140896-b13a-4afd-c6b7-fbea3d45dfbe"
   },
   "execution_count": null,
   "outputs": []
  },
  {
   "cell_type": "code",
   "source": [
    "df.columns"
   ],
   "metadata": {
    "colab": {
     "base_uri": "https://localhost:8080/"
    },
    "id": "9nBx0lk2au1u",
    "outputId": "4e485315-096f-4340-da9c-04e05de93b0d"
   },
   "execution_count": null,
   "outputs": []
  },
  {
   "cell_type": "code",
   "source": [
    "df['mean'] = df.mean(axis=1)\n",
    "df['mean']"
   ],
   "metadata": {
    "colab": {
     "base_uri": "https://localhost:8080/"
    },
    "id": "Sid1cxCdazb0",
    "outputId": "c2956d12-604b-458e-f66d-d1007aa53a7c"
   },
   "execution_count": null,
   "outputs": []
  },
  {
   "cell_type": "code",
   "source": [
    "df.head(2)"
   ],
   "metadata": {
    "colab": {
     "base_uri": "https://localhost:8080/",
     "height": 161
    },
    "id": "6swbRaAbb_2L",
    "outputId": "aa8ac0a9-1d20-4277-e4e7-579c0f66e84a"
   },
   "execution_count": null,
   "outputs": []
  },
  {
   "cell_type": "code",
   "source": [
    "cols = list(df.columns)\n",
    "cols.remove('mean')"
   ],
   "metadata": {
    "id": "qtoU9ZuscbsB"
   },
   "execution_count": null,
   "outputs": []
  },
  {
   "cell_type": "code",
   "source": [
    "pref_df = pd.DataFrame()\n",
    "\n",
    "for col in cols:\n",
    "  pref_df[col] = df[col] >= df['mean']\n",
    "\n",
    "pref_df.astype(int)"
   ],
   "metadata": {
    "colab": {
     "base_uri": "https://localhost:8080/",
     "height": 444
    },
    "id": "-WJ5b7FpbApu",
    "outputId": "95c3d544-6921-4d1e-cbcd-df7cdc9c9191"
   },
   "execution_count": null,
   "outputs": []
  },
  {
   "cell_type": "code",
   "source": [
    "print('Like PoI only if higher than mean.')\n",
    "print(f'mean liked: {sum(pref_df.sum(axis=1))/2300}')\n",
    "print(f'max liked: {max(pref_df.sum(axis=1))}')\n",
    "print(f'min liked: {min(pref_df.sum(axis=1))}')"
   ],
   "metadata": {
    "id": "6eyeSRZVqkKv",
    "colab": {
     "base_uri": "https://localhost:8080/"
    },
    "outputId": "2868cc52-9856-4ae3-968f-d4cc8a487312"
   },
   "execution_count": null,
   "outputs": []
  },
  {
   "cell_type": "code",
   "source": [
    "df['median'] = df.median(axis=1)\n",
    "df.head(2)"
   ],
   "metadata": {
    "colab": {
     "base_uri": "https://localhost:8080/",
     "height": 161
    },
    "id": "SvAf5da6b1_Q",
    "outputId": "c3bf300d-7cc2-48be-be55-25e14aa040d4"
   },
   "execution_count": null,
   "outputs": []
  },
  {
   "cell_type": "code",
   "source": [
    "from gensim.models.doc2vec import Doc2Vec, TaggedDocument\n",
    "\n",
    "doc2vec_model = Doc2Vec.load('doc2vec_model_wibit')\n",
    "\n",
    "text_vectors = [doc2vec_model.infer_vector(text.split(' ')) for text in texts]"
   ],
   "metadata": {
    "id": "xP2dGBvDYeME"
   },
   "execution_count": null,
   "outputs": []
  },
  {
   "cell_type": "code",
   "source": [
    "text_vectors[1]"
   ],
   "metadata": {
    "colab": {
     "base_uri": "https://localhost:8080/"
    },
    "id": "mFKqb1SqZD4J",
    "outputId": "579c78dd-3869-432c-ad54-ea676e60388c"
   },
   "execution_count": null,
   "outputs": []
  },
  {
   "cell_type": "code",
   "source": [
    "X = pd.DataFrame(text_vectors)\n",
    "X.head(3)"
   ],
   "metadata": {
    "colab": {
     "base_uri": "https://localhost:8080/",
     "height": 193
    },
    "id": "UJ5LQtW4Z276",
    "outputId": "ac7a8c83-ec38-4be2-fec0-845d29269ced"
   },
   "execution_count": null,
   "outputs": []
  },
  {
   "cell_type": "code",
   "source": [
    "y = pref_df.astype(int)\n",
    "y.head(3)"
   ],
   "metadata": {
    "colab": {
     "base_uri": "https://localhost:8080/",
     "height": 193
    },
    "id": "aTCUvorYaEH1",
    "outputId": "8d142814-b477-414e-b720-6b30718311e7"
   },
   "execution_count": null,
   "outputs": []
  },
  {
   "cell_type": "code",
   "source": [
    "import tensorflow as tf\n",
    "from tensorflow.keras.models import Sequential\n",
    "from tensorflow.keras.layers import Dense\n",
    "from tensorflow.keras.optimizers import Adam\n",
    "\n",
    "\n",
    "INPUT_SHAPE = 100\n",
    "\n",
    "\n",
    "model = Sequential([\n",
    "    Dense(96, activation='relu', input_shape=(INPUT_SHAPE,)),\n",
    "    Dense(64, activation='relu'),\n",
    "    Dense(32, activation='relu'),\n",
    "    Dense(53, activation='sigmoid')\n",
    "])\n",
    "\n",
    "\n",
    "model.compile(optimizer=Adam(learning_rate=0.01), loss='binary_crossentropy', metrics=['accuracy'])\n",
    "\n",
    "model.summary()"
   ],
   "metadata": {
    "colab": {
     "base_uri": "https://localhost:8080/"
    },
    "id": "LxGQbew0fV4U",
    "outputId": "7d56845f-ae3e-4732-f181-3127e45a4270"
   },
   "execution_count": null,
   "outputs": []
  },
  {
   "cell_type": "code",
   "source": [
    "result = model.fit(X, y, epochs=20, batch_size=32, validation_split=0.15)"
   ],
   "metadata": {
    "colab": {
     "base_uri": "https://localhost:8080/"
    },
    "id": "41LH0h35X5rQ",
    "outputId": "61ace66f-ced0-407f-8268-2004af0a7049"
   },
   "execution_count": null,
   "outputs": []
  },
  {
   "cell_type": "code",
   "source": [
    "pred_Y = model.predict([[0 for i in range(100)]])"
   ],
   "metadata": {
    "colab": {
     "base_uri": "https://localhost:8080/"
    },
    "id": "zjSx_ImkaQe3",
    "outputId": "3fde3d14-56ad-47ad-a8b0-daa02d7b5a41"
   },
   "execution_count": null,
   "outputs": []
  },
  {
   "cell_type": "code",
   "source": [
    "pred_Y[0]"
   ],
   "metadata": {
    "colab": {
     "base_uri": "https://localhost:8080/"
    },
    "id": "s_q-1rztb_Y9",
    "outputId": "9681bddb-05ae-4ee1-ab77-0f366840f5f5"
   },
   "execution_count": null,
   "outputs": []
  },
  {
   "cell_type": "code",
   "source": [
    "def get_attr_from_vector(vector, threshold=0.5):\n",
    "  return [1 if elem >= threshold else 0 for elem in vector]\n"
   ],
   "metadata": {
    "id": "f6hf8U7wEB-Y"
   },
   "execution_count": null,
   "outputs": []
  },
  {
   "cell_type": "code",
   "source": [
    "np.array(get_attr_from_vector(pred_Y[0]))"
   ],
   "metadata": {
    "colab": {
     "base_uri": "https://localhost:8080/"
    },
    "id": "o9puV95CEU_U",
    "outputId": "f3e51a74-6b23-42cf-f741-22e36238b46c"
   },
   "execution_count": null,
   "outputs": []
  },
  {
   "cell_type": "code",
   "source": [
    "test_df = pd.read_csv('test_df.csv')\n",
    "test_df.head(3)"
   ],
   "metadata": {
    "colab": {
     "base_uri": "https://localhost:8080/",
     "height": 436
    },
    "id": "PpJY82ZocNex",
    "outputId": "ba0b50c7-ade5-4029-95af-61b76722d69c"
   },
   "execution_count": null,
   "outputs": []
  },
  {
   "cell_type": "code",
   "source": [
    "! pip install stop_words pyMorfologik"
   ],
   "metadata": {
    "id": "Zj7yynfaC8Af",
    "colab": {
     "base_uri": "https://localhost:8080/"
    },
    "outputId": "ed5ec357-33fb-4a48-aecc-9e0a88ad4a11"
   },
   "execution_count": null,
   "outputs": []
  },
  {
   "cell_type": "code",
   "source": [
    "import re\n",
    "import string\n",
    "from stop_words import get_stop_words\n",
    "from pyMorfologik import Morfologik\n",
    "from pyMorfologik.parsing import ListParser\n",
    "\n",
    "\n",
    "parser = ListParser()\n",
    "stemmer = Morfologik()\n",
    "\n",
    "stopwords_pl = get_stop_words(\"pl\")\n",
    "\n",
    "\n",
    "def preprocess_text(text):\n",
    "    translator = str.maketrans(string.punctuation, ' ' * len(string.punctuation))\n",
    "    new_text = text.translate(translator)\n",
    "    new_text = re.sub(r'\\d+', '', new_text)\n",
    "    new_text = re.sub(r'\\s+', ' ', new_text)\n",
    "    new_text = new_text.strip()\n",
    "    new_text = new_text.lower()\n",
    "\n",
    "    stems = stemmer.stem([new_text], parser)\n",
    "    tokens = [(list(stems[i][1].keys())[0] if len(list(stems[i][1].keys())) > 0 else stems[i][0]) for i in range(len(stems))]\n",
    "\n",
    "    filtered_tokens = [token for token in tokens if token not in stopwords_pl]\n",
    "    filtered_tokens = [token for token in filtered_tokens if token!= '']\n",
    "    processed_text = \" \".join(filtered_tokens)\n",
    "\n",
    "    return processed_text\n"
   ],
   "metadata": {
    "id": "u7Ci-7aBDDTZ"
   },
   "execution_count": null,
   "outputs": []
  },
  {
   "cell_type": "code",
   "source": [
    "test_texts = [preprocess_text(text) for text in test_df['text']]\n",
    "test_texts[:3]"
   ],
   "metadata": {
    "colab": {
     "base_uri": "https://localhost:8080/"
    },
    "id": "MTMIJD78DKBf",
    "outputId": "b777af3b-c80f-4f51-9cc2-48a5d4ea2e69"
   },
   "execution_count": null,
   "outputs": []
  },
  {
   "cell_type": "code",
   "source": [
    "y_test = test_df.drop(['text', 'date'], axis=1)\n",
    "y_test.head(3)"
   ],
   "metadata": {
    "colab": {
     "base_uri": "https://localhost:8080/",
     "height": 193
    },
    "id": "ovZxgWWMDdqK",
    "outputId": "8a20d5e1-0ee0-4604-8b9a-8b96a9a2b017"
   },
   "execution_count": null,
   "outputs": []
  },
  {
   "cell_type": "code",
   "source": [
    "y_test['mean'] = y_test.mean(axis=1)"
   ],
   "metadata": {
    "id": "pVRS1g80FsMz"
   },
   "execution_count": null,
   "outputs": []
  },
  {
   "cell_type": "code",
   "source": [
    "y_test_scaled = pd.DataFrame()\n",
    "\n",
    "for col in cols:\n",
    "  y_test_scaled[col] = y_test[col] >= y_test['mean']\n",
    "\n",
    "y_test_scaled = y_test_scaled.astype(int)\n",
    "y_test_scaled.head(3)"
   ],
   "metadata": {
    "colab": {
     "base_uri": "https://localhost:8080/",
     "height": 193
    },
    "id": "IEML5kU4Fxgy",
    "outputId": "4a1a9ef8-bc05-45b0-ec1a-5879a3bea2ef"
   },
   "execution_count": null,
   "outputs": []
  },
  {
   "cell_type": "code",
   "source": [
    "X_test = pd.DataFrame([doc2vec_model.infer_vector(text.split(' ')) for text in test_texts])\n",
    "X_test.head(2)"
   ],
   "metadata": {
    "colab": {
     "base_uri": "https://localhost:8080/",
     "height": 161
    },
    "id": "jqIqte-nDwx5",
    "outputId": "859bb803-8e9d-46c6-d0b8-15be47ac6931"
   },
   "execution_count": null,
   "outputs": []
  },
  {
   "cell_type": "code",
   "source": [
    "y_pred = model.predict(X_test)"
   ],
   "metadata": {
    "colab": {
     "base_uri": "https://localhost:8080/"
    },
    "id": "7svsoYz5FHv2",
    "outputId": "eaa4fcb1-30cf-4e19-9e36-4f3ff643bf52"
   },
   "execution_count": null,
   "outputs": []
  },
  {
   "cell_type": "code",
   "source": [
    "y_pred_cat = pd.DataFrame([get_attr_from_vector(vector, threshold=0.5) for vector in y_pred])"
   ],
   "metadata": {
    "id": "y1V5uJEVFPWS"
   },
   "execution_count": null,
   "outputs": []
  },
  {
   "cell_type": "code",
   "source": [
    "y_pred_cat.columns = cols"
   ],
   "metadata": {
    "id": "o42AoZYtGJzZ"
   },
   "execution_count": null,
   "outputs": []
  },
  {
   "cell_type": "code",
   "source": [
    "y_pred_cat.head(3)"
   ],
   "metadata": {
    "colab": {
     "base_uri": "https://localhost:8080/",
     "height": 193
    },
    "id": "RAXoyBReFltJ",
    "outputId": "904007bd-842f-4925-c648-1cc6c0e8bdcc"
   },
   "execution_count": null,
   "outputs": []
  },
  {
   "cell_type": "code",
   "source": [
    "y_test_scaled.head(3)"
   ],
   "metadata": {
    "colab": {
     "base_uri": "https://localhost:8080/",
     "height": 193
    },
    "id": "IzLgHMFMGwQs",
    "outputId": "7952f754-580d-44de-956b-3b71f72457fd"
   },
   "execution_count": null,
   "outputs": []
  },
  {
   "cell_type": "code",
   "source": [
    "from sklearn.metrics import accuracy_score, recall_score, precision_score\n",
    "\n",
    "total_ac = 0\n",
    "total_rec = 0\n",
    "total_prec = 0\n",
    "\n",
    "size = 26\n",
    "\n",
    "for i in range(size):\n",
    "  tmp_pred = y_pred_cat.iloc[i]\n",
    "  tmp_true = y_test_scaled.iloc[i]\n",
    "\n",
    "  ac_score = accuracy_score(tmp_pred, tmp_true)\n",
    "  rec_score = recall_score(tmp_pred, tmp_true)\n",
    "  prec_score = precision_score(tmp_pred, tmp_true)\n",
    "\n",
    "  total_ac += ac_score\n",
    "  total_rec += rec_score\n",
    "  total_prec += prec_score\n",
    "\n",
    "  doc2vec_simple_nn_accuracy = total_ac/size\n",
    "  doc2vec_simple_nn_recall = total_rec/size\n",
    "  doc2vec_simple_nn_precision = total_prec/size\n",
    "\n",
    "  print(f\"{i} - Accuracy: {ac_score} | Recall: {rec_score} | Precision: {prec_score}\")\n",
    "\n",
    "\n",
    "print(f\"\\nMean - Accuracy: {total_ac/size } | Recall: {total_rec/size} | Precision: {total_prec/size}\")"
   ],
   "metadata": {
    "colab": {
     "base_uri": "https://localhost:8080/"
    },
    "id": "j4p1WgBfHOgh",
    "outputId": "a9d8a30f-21c1-465a-df7e-5c9120aa9595"
   },
   "execution_count": null,
   "outputs": []
  },
  {
   "cell_type": "code",
   "source": [
    "total_ac = 0\n",
    "\n",
    "for col in cols:\n",
    "  ac_score = accuracy_score(y_pred_cat[col], y_test_scaled[col])\n",
    "  total_ac += ac_score\n",
    "  print(f\"Accuracy of predicting {col}: {ac_score}\")\n",
    "\n",
    "print(f\"\\nMean accuracy in test dataset: {total_ac/len(cols)}\")"
   ],
   "metadata": {
    "colab": {
     "base_uri": "https://localhost:8080/"
    },
    "id": "vx1OAz4vvNhX",
    "outputId": "60fe4278-7a97-415e-e20b-1e275d695c81"
   },
   "execution_count": null,
   "outputs": []
  },
  {
   "cell_type": "markdown",
   "source": [
    "## TF-IDF"
   ],
   "metadata": {
    "id": "csKmtOqAEoNp"
   }
  },
  {
   "cell_type": "code",
   "source": [
    "import joblib\n",
    "\n",
    "loaded_vectorizer = joblib.load('tfidf_vectorizer_wibit.joblib')\n",
    "vectors = loaded_vectorizer.transform(texts)\n"
   ],
   "metadata": {
    "id": "-eB4DOSPcR9J"
   },
   "execution_count": null,
   "outputs": []
  },
  {
   "cell_type": "code",
   "source": [
    "print(vectors[0])"
   ],
   "metadata": {
    "colab": {
     "base_uri": "https://localhost:8080/"
    },
    "id": "pCh4qkq2poSp",
    "outputId": "bedf5300-ea7f-4846-c831-407d0e4ea010"
   },
   "execution_count": null,
   "outputs": []
  },
  {
   "cell_type": "code",
   "source": [
    "vectors.shape"
   ],
   "metadata": {
    "colab": {
     "base_uri": "https://localhost:8080/"
    },
    "id": "vG3SpL-zpu59",
    "outputId": "1cb1ae65-1051-4554-a81a-ee85129a69a2"
   },
   "execution_count": null,
   "outputs": []
  },
  {
   "cell_type": "code",
   "source": [
    "vectors.toarray()"
   ],
   "metadata": {
    "colab": {
     "base_uri": "https://localhost:8080/"
    },
    "id": "Arh99y5tq0uc",
    "outputId": "4a54ce1e-c28a-4ed3-c67c-a4581ba44a85"
   },
   "execution_count": null,
   "outputs": []
  },
  {
   "cell_type": "code",
   "source": [
    "X = vectors.toarray()"
   ],
   "metadata": {
    "id": "xgBtwea-qSoY"
   },
   "execution_count": null,
   "outputs": []
  },
  {
   "cell_type": "code",
   "source": [
    "INPUT_SHAPE = 2696\n",
    "\n",
    "model = Sequential([\n",
    "    Dense(512, activation='relu', input_shape=(INPUT_SHAPE,)),\n",
    "    Dense(256, activation='relu'),\n",
    "    Dense(128, activation='relu'),\n",
    "    Dense(64, activation='relu'),\n",
    "    Dense(53, activation='sigmoid')\n",
    "])\n",
    "\n",
    "\n",
    "model.compile(optimizer=Adam(learning_rate=0.001), loss='binary_crossentropy', metrics=['accuracy'])\n",
    "\n",
    "model.summary()"
   ],
   "metadata": {
    "colab": {
     "base_uri": "https://localhost:8080/"
    },
    "id": "y1MMdttFpzWu",
    "outputId": "d8834d7b-3022-4b23-9a20-236cd0e09f3e"
   },
   "execution_count": null,
   "outputs": []
  },
  {
   "cell_type": "code",
   "source": [
    "result = model.fit(X, y, epochs=20, batch_size=32, validation_split=0.15)"
   ],
   "metadata": {
    "colab": {
     "base_uri": "https://localhost:8080/"
    },
    "id": "fGJGRo7PqIyn",
    "outputId": "6923c008-c730-4978-ab26-2f38aff4268b"
   },
   "execution_count": null,
   "outputs": []
  },
  {
   "cell_type": "code",
   "source": [
    "X_test = loaded_vectorizer.transform(test_texts)\n",
    "X_test = X_test.toarray()\n",
    "X_test[:3]"
   ],
   "metadata": {
    "id": "Yp9dacebqOFj",
    "colab": {
     "base_uri": "https://localhost:8080/"
    },
    "outputId": "045feeca-4ddd-484f-958c-4e5af3d53ed5"
   },
   "execution_count": null,
   "outputs": []
  },
  {
   "cell_type": "code",
   "source": [
    "y_pred = model.predict(X_test)\n",
    "y_pred_cat = pd.DataFrame([get_attr_from_vector(vector, threshold=0.5) for vector in y_pred])\n",
    "y_pred_cat.columns = cols\n",
    "y_pred_cat.head(3)"
   ],
   "metadata": {
    "colab": {
     "base_uri": "https://localhost:8080/",
     "height": 210
    },
    "id": "2rQDiS_gUWDE",
    "outputId": "c2391375-259d-4d7f-e8e5-b04141cc2d8f"
   },
   "execution_count": null,
   "outputs": []
  },
  {
   "cell_type": "code",
   "source": [
    "from sklearn.metrics import accuracy_score, recall_score, precision_score\n",
    "\n",
    "total_ac = 0\n",
    "total_rec = 0\n",
    "total_prec = 0\n",
    "\n",
    "size = 26\n",
    "\n",
    "for i in range(size):\n",
    "  tmp_pred = y_pred_cat.iloc[i]\n",
    "  tmp_true = y_test_scaled.iloc[i]\n",
    "\n",
    "  ac_score = accuracy_score(tmp_pred, tmp_true)\n",
    "  rec_score = recall_score(tmp_pred, tmp_true)\n",
    "  prec_score = precision_score(tmp_pred, tmp_true)\n",
    "\n",
    "  total_ac += ac_score\n",
    "  total_rec += rec_score\n",
    "  total_prec += prec_score\n",
    "\n",
    "  tfidf_simple_nn_accuracy = total_ac/size\n",
    "  tfidf_simple_nn_recall = total_rec/size\n",
    "  tfidf_simple_nn_precision = total_prec/size\n",
    "\n",
    "  print(f\"{i} - Accuracy: {ac_score} | Recall: {rec_score} | Precision: {prec_score}\")\n",
    "\n",
    "\n",
    "print(f\"\\nMean - Accuracy: {total_ac/size } | Recall: {total_rec/size} | Precision: {total_prec/size}\")"
   ],
   "metadata": {
    "colab": {
     "base_uri": "https://localhost:8080/"
    },
    "id": "oCuNei7qUaeH",
    "outputId": "f599d9e7-575e-4a9b-a7f8-4b3bac9cc4d9"
   },
   "execution_count": null,
   "outputs": []
  },
  {
   "cell_type": "code",
   "source": [
    "total_ac = 0\n",
    "\n",
    "for col in cols:\n",
    "  ac_score = accuracy_score(y_pred_cat[col], y_test_scaled[col])\n",
    "  total_ac += ac_score\n",
    "  print(f\"Accuracy of predicting {col}: {ac_score}\")\n",
    "\n",
    "print(f\"\\nMean accuracy in test dataset: {total_ac/len(cols)}\")"
   ],
   "metadata": {
    "colab": {
     "base_uri": "https://localhost:8080/"
    },
    "id": "EKAs2PHBvKTH",
    "outputId": "b3cc2c6d-5764-4bb2-91c6-0d5735c60b3c"
   },
   "execution_count": null,
   "outputs": []
  },
  {
   "cell_type": "code",
   "source": [
    "import tensorflow as tf\n",
    "from tensorflow.keras.models import Sequential\n",
    "from tensorflow.keras.layers import Dropout, Dense\n",
    "from tensorflow.keras.optimizers import Adam\n",
    "\n",
    "\n",
    "INPUT_SHAPE = 2696\n",
    "\n",
    "model = Sequential([\n",
    "    Dense(1024, activation='relu', input_shape=(INPUT_SHAPE,)),\n",
    "    Dropout(0.3),\n",
    "    Dense(512, activation='relu'),\n",
    "    Dense(256, activation='relu'),\n",
    "    Dense(128, activation='relu'),\n",
    "    Dropout(0.2),\n",
    "    Dense(64, activation='relu'),\n",
    "    Dense(32, activation='relu'),\n",
    "    Dropout(0.2),\n",
    "    Dense(53, activation='sigmoid')\n",
    "])\n",
    "\n",
    "\n",
    "model.compile(optimizer=Adam(learning_rate=0.001), loss='binary_crossentropy', metrics=['accuracy'])\n",
    "\n",
    "model.summary()"
   ],
   "metadata": {
    "colab": {
     "base_uri": "https://localhost:8080/"
    },
    "id": "tllUjPi8VaxY",
    "outputId": "c52c3c2a-6f01-49f9-ba17-86a384922612"
   },
   "execution_count": null,
   "outputs": []
  },
  {
   "cell_type": "code",
   "source": [
    "result = model.fit(X, y, epochs=20, batch_size=32)"
   ],
   "metadata": {
    "colab": {
     "base_uri": "https://localhost:8080/"
    },
    "id": "dvpdF7eqW8PH",
    "outputId": "8970f75e-76d1-4252-c5c2-09b432615382"
   },
   "execution_count": null,
   "outputs": []
  },
  {
   "cell_type": "code",
   "source": [
    "# from tensorflow.keras.models import save_model, load_model\n",
    "\n",
    "# model.save('tfidf_bigger_nn')"
   ],
   "metadata": {
    "id": "BoSKB8arK8Ws"
   },
   "execution_count": null,
   "outputs": []
  },
  {
   "cell_type": "code",
   "source": [
    "# ! zip -r tfidf_bigger_nn.zip tfidf_bigger_nn/"
   ],
   "metadata": {
    "id": "XoMdedt4cXxS"
   },
   "execution_count": null,
   "outputs": []
  },
  {
   "cell_type": "code",
   "source": [
    "# model = load_model('tfidf_bigger_nn')"
   ],
   "metadata": {
    "id": "gPTSx05ULhbe"
   },
   "execution_count": null,
   "outputs": []
  },
  {
   "cell_type": "code",
   "source": [
    "y_pred = model.predict(X_test)\n",
    "y_pred"
   ],
   "metadata": {
    "colab": {
     "base_uri": "https://localhost:8080/"
    },
    "id": "IOvRF60uLsBO",
    "outputId": "2618e037-e447-4da7-eb2e-06f2c77aef0a"
   },
   "execution_count": null,
   "outputs": []
  },
  {
   "cell_type": "code",
   "source": [
    "print(get_attr_from_vector(y_pred[0], threshold=0.5))"
   ],
   "metadata": {
    "colab": {
     "base_uri": "https://localhost:8080/"
    },
    "id": "vz2G2F8jNCpk",
    "outputId": "3819c094-5bb3-4720-e9e0-4276194b099c"
   },
   "execution_count": null,
   "outputs": []
  },
  {
   "cell_type": "code",
   "source": [
    "y_pred = model.predict(X_test)\n",
    "y_pred_cat = pd.DataFrame([get_attr_from_vector(vector, threshold=0.5) for vector in y_pred])\n",
    "y_pred_cat.columns = cols\n",
    "y_pred_cat.head(3)"
   ],
   "metadata": {
    "colab": {
     "base_uri": "https://localhost:8080/",
     "height": 210
    },
    "id": "Urm5WcDiXd3q",
    "outputId": "ff1b727e-1280-4894-dd31-7e09b129f889"
   },
   "execution_count": null,
   "outputs": []
  },
  {
   "cell_type": "code",
   "source": [
    "from sklearn.metrics import accuracy_score, recall_score, precision_score\n",
    "\n",
    "total_ac = 0\n",
    "total_rec = 0\n",
    "total_prec = 0\n",
    "\n",
    "size = 26\n",
    "\n",
    "for i in range(size):\n",
    "  tmp_pred = y_pred_cat.iloc[i]\n",
    "  tmp_true = y_test_scaled.iloc[i]\n",
    "\n",
    "  ac_score = accuracy_score(tmp_pred, tmp_true)\n",
    "  rec_score = recall_score(tmp_pred, tmp_true)\n",
    "  prec_score = precision_score(tmp_pred, tmp_true)\n",
    "\n",
    "  total_ac += ac_score\n",
    "  total_rec += rec_score\n",
    "  total_prec += prec_score\n",
    "\n",
    "  tfidf_bigger_nn_accuracy = total_ac/size\n",
    "  tfidf_bigger_nn_recall = total_rec/size\n",
    "  tfidf_bigger_nn_precision = total_prec/size\n",
    "\n",
    "  print(f\"{i} - Accuracy: {ac_score} | Recall: {rec_score} | Precision: {prec_score}\")\n",
    "\n",
    "\n",
    "print(f\"\\nMean - Accuracy: {total_ac/size } | Recall: {total_rec/size} | Precision: {total_prec/size}\")"
   ],
   "metadata": {
    "colab": {
     "base_uri": "https://localhost:8080/"
    },
    "id": "BI_FrPG5Xs2q",
    "outputId": "e3c3187a-db90-4b92-e783-35f18d4295d8"
   },
   "execution_count": null,
   "outputs": []
  },
  {
   "cell_type": "code",
   "source": [
    "total_ac = 0\n",
    "\n",
    "for col in cols:\n",
    "  ac_score = accuracy_score(y_pred_cat[col], y_test_scaled[col])\n",
    "  total_ac += ac_score\n",
    "  print(f\"Accuracy of predicting {col}: {ac_score}\")\n",
    "\n",
    "print(f\"\\nMean accuracy in test dataset: {total_ac/len(cols)}\")"
   ],
   "metadata": {
    "colab": {
     "base_uri": "https://localhost:8080/"
    },
    "id": "qXHI-Qc8vFIJ",
    "outputId": "8d40fa21-db0c-46a4-b7f4-a160ea11e78f"
   },
   "execution_count": null,
   "outputs": []
  },
  {
   "cell_type": "code",
   "source": [
    "# new_text = \"Bardzo lubię zwiedzać wszelkiego rodzaju zamki, lochy i krypty. Uwielbiam też różnego rodzaju opuszczone miejsca i ruiny. W wolnym czasie chętnie jeżdzę na rolkach i słucham popu. Posiłki najbardziej lubię jeść w swoim domu, ale czasami jadam też w kfc. Interesuję się piłką nożna i lekkoatletyką\"\n",
    "# test_texts = [new_text]\n",
    "# X_test = loaded_vectorizer.transform(test_texts)\n",
    "# X_test = X_test.toarray()"
   ],
   "metadata": {
    "id": "o5ihmXjbMI1L"
   },
   "execution_count": null,
   "outputs": []
  },
  {
   "cell_type": "markdown",
   "source": [
    "## GradientBoosting"
   ],
   "metadata": {
    "id": "WNWQJt0bbBTD"
   }
  },
  {
   "cell_type": "code",
   "source": [
    "y"
   ],
   "metadata": {
    "colab": {
     "base_uri": "https://localhost:8080/",
     "height": 444
    },
    "id": "xUpNV83Nb27r",
    "outputId": "5632c4c0-6e46-4797-9752-97f6cc709ccb"
   },
   "execution_count": null,
   "outputs": []
  },
  {
   "cell_type": "code",
   "source": [
    "from sklearn.datasets import make_hastie_10_2\n",
    "from sklearn.ensemble import GradientBoostingClassifier\n",
    "\n",
    "# clf = GradientBoostingClassifier(n_estimators=100, learning_rate=0.5, max_depth=5, random_state=2023).fit(X, y['amusement_parks'])\n",
    "clf = GradientBoostingClassifier(n_estimators=100, learning_rate=0.1, max_depth=5, random_state=2023).fit(X, y['historic_architecture'])"
   ],
   "metadata": {
    "id": "XsJ57zIUbBD0"
   },
   "execution_count": null,
   "outputs": []
  },
  {
   "cell_type": "code",
   "source": [
    "y_amusements_park = clf.predict(X_test)"
   ],
   "metadata": {
    "id": "fgXaMa4wXu7U"
   },
   "execution_count": null,
   "outputs": []
  },
  {
   "cell_type": "code",
   "source": [
    "y_amusements_park"
   ],
   "metadata": {
    "colab": {
     "base_uri": "https://localhost:8080/"
    },
    "id": "eRE0zHV0cQsU",
    "outputId": "7f52b9a7-187b-459f-e075-2601ec856976"
   },
   "execution_count": null,
   "outputs": []
  },
  {
   "cell_type": "code",
   "source": [
    "y_pred_category = clf.predict(X_test)\n",
    "accuracy_score(y_pred_category, y_test_scaled['historic_architecture'])"
   ],
   "metadata": {
    "colab": {
     "base_uri": "https://localhost:8080/"
    },
    "id": "-7KJYnvYcRpA",
    "outputId": "d5b020e3-1fd2-4abd-c2f8-8451acd3c4b1"
   },
   "execution_count": null,
   "outputs": []
  },
  {
   "cell_type": "code",
   "source": [
    "poi_clf = {}\n",
    "\n",
    "for poi_type in cols:\n",
    "  clf = GradientBoostingClassifier(n_estimators=100, learning_rate=0.5, max_depth=5, random_state=2023).fit(X, y[poi_type])\n",
    "  poi_clf[poi_type] = clf"
   ],
   "metadata": {
    "id": "02v9PfnncjBx"
   },
   "execution_count": null,
   "outputs": []
  },
  {
   "cell_type": "code",
   "source": [
    "def predict_with_poi_clf(poi_clf, poi_categories, X):\n",
    "  results = {}\n",
    "  for category in poi_categories:\n",
    "    results[category] = poi_clf[category].predict(X)\n",
    "\n",
    "  return pd.DataFrame(results)"
   ],
   "metadata": {
    "id": "S8yXftcojA9R"
   },
   "execution_count": null,
   "outputs": []
  },
  {
   "cell_type": "code",
   "source": [
    "y_pred_cat = predict_with_poi_clf(poi_clf, cols, X_test)\n",
    "y_pred_cat.head(3)"
   ],
   "metadata": {
    "colab": {
     "base_uri": "https://localhost:8080/",
     "height": 193
    },
    "id": "PxryU3NnsbmI",
    "outputId": "4b4544f0-6b64-4328-d819-e4f5d7b87dcc"
   },
   "execution_count": null,
   "outputs": []
  },
  {
   "cell_type": "code",
   "source": [
    "from sklearn.metrics import accuracy_score, recall_score, precision_score\n",
    "\n",
    "total_ac = 0\n",
    "total_rec = 0\n",
    "total_prec = 0\n",
    "\n",
    "size = 26\n",
    "\n",
    "for i in range(size):\n",
    "  tmp_pred = y_pred_cat.iloc[i]\n",
    "  tmp_true = y_test_scaled.iloc[i]\n",
    "\n",
    "  ac_score = accuracy_score(tmp_pred, tmp_true)\n",
    "  rec_score = recall_score(tmp_pred, tmp_true)\n",
    "  prec_score = precision_score(tmp_pred, tmp_true)\n",
    "\n",
    "  total_ac += ac_score\n",
    "  total_rec += rec_score\n",
    "  total_prec += prec_score\n",
    "\n",
    "  tfidf_gb_accuracy = total_ac/size\n",
    "  tfidf_gb_recall = total_rec/size\n",
    "  tfidf_gb_precision = total_prec/size\n",
    "\n",
    "  print(f\"{i} - Accuracy: {ac_score} | Recall: {rec_score} | Precision: {prec_score}\")\n",
    "\n",
    "\n",
    "print(f\"\\nMean - Accuracy: {total_ac/size } | Recall: {total_rec/size} | Precision: {total_prec/size}\")"
   ],
   "metadata": {
    "colab": {
     "base_uri": "https://localhost:8080/"
    },
    "id": "pefjHhFLs2H2",
    "outputId": "5bdd1806-95a7-4752-fdf5-abb8a2365cf3"
   },
   "execution_count": null,
   "outputs": []
  },
  {
   "cell_type": "code",
   "source": [
    "total_ac = 0\n",
    "\n",
    "for col in cols:\n",
    "  ac_score = accuracy_score(y_pred_cat[col], y_test_scaled[col])\n",
    "  total_ac += ac_score\n",
    "  print(f\"Accuracy of predicting {col}: {ac_score}\")\n",
    "\n",
    "print(f\"\\nMean accuracy in test dataset: {total_ac/len(cols)}\")"
   ],
   "metadata": {
    "colab": {
     "base_uri": "https://localhost:8080/"
    },
    "id": "dUDpMw3JtEUl",
    "outputId": "78a34bd6-78aa-47c6-9b89-0aef715e1cb1"
   },
   "execution_count": null,
   "outputs": []
  },
  {
   "cell_type": "code",
   "source": [
    "tested_options_acc = {\n",
    "    'doc2vec_simple_nn_accuracy': doc2vec_simple_nn_accuracy,\n",
    "    'tfidf_simple_nn_accuracy': tfidf_simple_nn_accuracy,\n",
    "    'tfidf_bigger_nn_accuracy': tfidf_bigger_nn_accuracy,\n",
    "    'tfidf_gb_accuracy': tfidf_gb_accuracy,\n",
    "}\n",
    "\n",
    "tested_options_acc"
   ],
   "metadata": {
    "id": "5j57hml4hzlB",
    "colab": {
     "base_uri": "https://localhost:8080/"
    },
    "outputId": "7477342d-6866-4732-8029-35d53fdd97a5"
   },
   "execution_count": null,
   "outputs": []
  },
  {
   "cell_type": "code",
   "source": [
    "import matplotlib.pyplot as plt\n",
    "plt.style.use('ggplot')\n",
    "\n",
    "keys = ['doc2vec,\\nmała sieć\\nneuronowa', 'TF-IDF,\\nmała sieć\\nneuronowa', 'TF-IDF,\\nwiększa sieć\\nneuronowa', 'TF-IDF,\\nGradientBoosting\\nwiele klasyfikatorów\\n']\n",
    "values = [val*100 for val in list(tested_options_acc.values())]\n",
    "\n",
    "\n",
    "plt.figure(figsize=(9, 6))\n",
    "bars = plt.bar(keys, values, color='teal')\n",
    "\n",
    "for bar in bars:\n",
    "    yval = bar.get_height()\n",
    "    plt.text(bar.get_x() + bar.get_width()/2, yval + 0.5, round(yval, 2), ha='center', va='bottom')\n",
    "\n",
    "plt.xlabel('Model')\n",
    "plt.ylabel('Dokładność (Accuracy) na zbiorze testowym [%]')\n",
    "plt.title('Dokładność (Accuracy) predykcji dokonanych za pomocą różnych modeli')\n",
    "\n",
    "plt.tight_layout(pad=1)\n",
    "plt.savefig('ml_classifier_accuracy.png')\n",
    "plt.show()"
   ],
   "metadata": {
    "colab": {
     "base_uri": "https://localhost:8080/",
     "height": 609
    },
    "id": "fPc3qooPiVXf",
    "outputId": "9d9aaea7-ab28-4a75-c1ad-80fa3e4d1e71"
   },
   "execution_count": null,
   "outputs": []
  },
  {
   "cell_type": "code",
   "source": [
    "tested_options_recall = {\n",
    "    'doc2vec_simple_nn_recall': doc2vec_simple_nn_recall,\n",
    "    'tfidf_simple_nn_recall': tfidf_simple_nn_recall,\n",
    "    'tfidf_bigger_nn_recall': tfidf_bigger_nn_recall,\n",
    "    'tfidf_gb_recall': tfidf_gb_recall,\n",
    "}\n",
    "\n",
    "tested_options_recall"
   ],
   "metadata": {
    "id": "NXeHhErWi8Sc",
    "colab": {
     "base_uri": "https://localhost:8080/"
    },
    "outputId": "9727c466-e393-4ef3-fcf9-dafe17118457"
   },
   "execution_count": null,
   "outputs": []
  },
  {
   "cell_type": "code",
   "source": [
    "values = [val*100 for val in list(tested_options_recall.values())]\n",
    "\n",
    "\n",
    "plt.figure(figsize=(9, 6))\n",
    "bars = plt.bar(keys, values, color='teal')\n",
    "\n",
    "for bar in bars:\n",
    "    yval = bar.get_height()\n",
    "    plt.text(bar.get_x() + bar.get_width()/2, yval + 0.5, round(yval, 2), ha='center', va='bottom')\n",
    "\n",
    "plt.xlabel('Model')\n",
    "plt.ylabel('Czułość (Recall) na zbiorze testowym [%]')\n",
    "plt.title('Czułość (Recall) predykcji dokonanych za pomocą różnych modeli')\n",
    "\n",
    "plt.tight_layout(pad=1)\n",
    "plt.savefig('ml_classifier_recall.png')\n",
    "plt.show()"
   ],
   "metadata": {
    "colab": {
     "base_uri": "https://localhost:8080/",
     "height": 609
    },
    "id": "OPFokAktjtZM",
    "outputId": "8b6f5ea7-d197-4e5b-f3ca-57d96948432c"
   },
   "execution_count": null,
   "outputs": []
  },
  {
   "cell_type": "code",
   "source": [
    "tested_options_precision = {\n",
    "    'doc2vec_simple_nn_precision': doc2vec_simple_nn_precision,\n",
    "    'tfidf_simple_nn_precision': tfidf_simple_nn_precision,\n",
    "    'tfidf_bigger_nn_precision': tfidf_bigger_nn_precision,\n",
    "    'tfidf_gb_precision': tfidf_gb_precision,\n",
    "}\n",
    "\n",
    "tested_options_precision"
   ],
   "metadata": {
    "colab": {
     "base_uri": "https://localhost:8080/"
    },
    "id": "3a8cTNMjfZSb",
    "outputId": "26fdd352-fb2a-4681-e43a-a03bce415deb"
   },
   "execution_count": null,
   "outputs": []
  },
  {
   "cell_type": "code",
   "source": [
    "values = [val*100 for val in list(tested_options_precision.values())]\n",
    "\n",
    "\n",
    "plt.figure(figsize=(9, 6))\n",
    "bars = plt.bar(keys, values, color='teal')\n",
    "\n",
    "for bar in bars:\n",
    "    yval = bar.get_height()\n",
    "    plt.text(bar.get_x() + bar.get_width()/2, yval + 0.5, round(yval, 2), ha='center', va='bottom')\n",
    "\n",
    "plt.xlabel('Model')\n",
    "plt.ylabel('Precyzja (Precision) na zbiorze testowym [%]')\n",
    "plt.title('Precyzja (Precision) predykcji dokonanych za pomocą różnych modeli')\n",
    "\n",
    "plt.tight_layout(pad=1)\n",
    "plt.savefig('ml_classifier_precision.png')\n",
    "plt.show()"
   ],
   "metadata": {
    "colab": {
     "base_uri": "https://localhost:8080/",
     "height": 609
    },
    "id": "sqWGzAH8fkhc",
    "outputId": "4c85ba2e-77e9-43fc-c682-014fdb9c5eed"
   },
   "execution_count": null,
   "outputs": []
  },
  {
   "cell_type": "code",
   "source": [],
   "metadata": {
    "id": "TBiw47kDkNfO"
   },
   "execution_count": null,
   "outputs": []
  }
 ]
}
