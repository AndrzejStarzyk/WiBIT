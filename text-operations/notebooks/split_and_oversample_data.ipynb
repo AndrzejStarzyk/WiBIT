{
 "nbformat": 4,
 "nbformat_minor": 0,
 "metadata": {
  "colab": {
   "provenance": [],
   "gpuType": "T4"
  },
  "kernelspec": {
   "name": "python3",
   "display_name": "Python 3"
  },
  "language_info": {
   "name": "python"
  },
  "accelerator": "GPU"
 },
 "cells": [
  {
   "cell_type": "code",
   "execution_count": null,
   "metadata": {
    "id": "xGKLi4cRdNUZ"
   },
   "outputs": [],
   "source": [
    "import pandas as pd\n",
    "\n",
    "categories_dict = {'Koła widokowe': 'ferris_wheels',\n",
    "                  'Areny sportów zimowych': 'winter_sports',\n",
    "                  'Świątynie hinduizmu': 'hindu_temples',\n",
    "                  'Obiekty archeologiczne': 'archaeology',\n",
    "                  'Kopce/kurchany': 'tumuluses',\n",
    "                  'Muzea biograficzne': 'biographical_museums',\n",
    "                  'Muzea modowe': 'fashion_museums',\n",
    "                  'Parki rozrywki': 'amusement_parks',\n",
    "                  'Parki wodne': 'water_parks',\n",
    "                  'Parki miniatur': 'miniature_parks',\n",
    "                  'Baseny, termy i sauny': 'baths_and_saunas',\n",
    "                  'Ścianki wspinaczkowe': 'climbing',\n",
    "                  'Stadiony': 'stadiums',\n",
    "                  'Źródła': 'natural_springs',\n",
    "                  'Rzeki, kanały, wodospady': 'water',\n",
    "                  'Rezerwaty przyrody': 'nature_reserves',\n",
    "                  'Plaże': 'beaches',\n",
    "                  'Stacje kolejowe': 'railway_stations',\n",
    "                  'Zapory': 'dams',\n",
    "                  'Mennice': 'mints',\n",
    "                  'Kopalnie': 'mineshafts',\n",
    "                  'Muzea nauki i techniki': 'science_museums',\n",
    "                  'Kościoły': 'churches',\n",
    "                  'Katedry': 'cathedrals',\n",
    "                  'Klasztory': 'monasteries',\n",
    "                  'Synagogi': 'synagogues',\n",
    "                  'Meczety': 'mosques',\n",
    "                  'Zamki': 'castles',\n",
    "                  'Wieże obronne': 'fortified_towers',\n",
    "                  'Bunkry': 'bunkers',\n",
    "                  'Muzea militarne': 'military_museums',\n",
    "                  'Pola bitew': 'battlefields',\n",
    "                  'Cmentarze wojenne': 'war_graves',\n",
    "                  'Cmentarze': 'cemeteries',\n",
    "                  'Mauzolea': 'mausoleums',\n",
    "                  'Krypty': 'crypts',\n",
    "                  'Murale': 'wall_painting',\n",
    "                  'Fontanny': 'fountains',\n",
    "                  'Rzeźby': 'sculptures',\n",
    "                  'Zieleń miejska': 'gardens_and_parks',\n",
    "                  'Muzea archeologiczne': 'archaeological_museums',\n",
    "                  'Galerie sztuki': 'art_galleries',\n",
    "                  'Muzea historyczne': 'history_museums',\n",
    "                  'Muzea lokalne': 'local_museums',\n",
    "                  'Muzea narodowe': 'national_museums',\n",
    "                  'Planetaria': 'planetariums',\n",
    "                  'Zoo': 'zoos',\n",
    "                  'Akwaria': 'aquariums',\n",
    "                  'Drapacze chmur': 'skyscrapers',\n",
    "                  'Wieże (zegarowe, widokowe)': 'towers',\n",
    "                  'Budynki historyczne': 'historic_architecture',\n",
    "                  'Mosty': 'bridges',\n",
    "                  'Pomniki': 'monuments'}\n",
    "\n",
    "def read_form_result(csv_path, from_form=True):\n",
    "  df = pd.read_csv(csv_path)\n",
    "  if from_form:\n",
    "    df = df.drop(df.columns[-6:], axis=1)\n",
    "\n",
    "  df = df.drop(df.columns[0], axis=1)\n",
    "  cols = df.columns\n",
    "\n",
    "  new_col_names = ['text', 'date']\n",
    "\n",
    "  if from_form:\n",
    "    for col in cols[3:]:\n",
    "      new_col_names_cat = [col.split('[')[-1][:-1] for col in cols[2:]]\n",
    "  else:\n",
    "    for col in cols[3:]:\n",
    "      new_col_names_cat = [col.split('[')[-1] for col in cols[2:]]\n",
    "\n",
    "  new_col_names += new_col_names_cat\n",
    "  df.columns = [categories_dict[cat] if cat in categories_dict else cat for cat in new_col_names]\n",
    "\n",
    "  return df"
   ]
  },
  {
   "cell_type": "code",
   "source": [
    "df_chat = read_form_result('chat_example.csv', False)\n",
    "print(len(df_chat))\n",
    "df_form = read_form_result('form.csv')\n",
    "print(len(df_form))\n"
   ],
   "metadata": {
    "colab": {
     "base_uri": "https://localhost:8080/"
    },
    "id": "Wqe2c_iXdSa8",
    "outputId": "8f5412ca-3c4f-42d4-b280-2a24da0f1da9"
   },
   "execution_count": null,
   "outputs": []
  },
  {
   "cell_type": "code",
   "source": [
    "for i in range(len(df_chat.columns)):\n",
    "  if df_form.columns[i] != df_chat.columns[i]:\n",
    "    print(df_form.columns[i], df_chat.columns[i])"
   ],
   "metadata": {
    "id": "zAHXNu5AhxXo"
   },
   "execution_count": null,
   "outputs": []
  },
  {
   "cell_type": "code",
   "source": [
    "chat_sample = df_chat.sample(16, random_state=2023)\n",
    "df_chat = df_chat.drop(chat_sample.index)\n",
    "chat_sample"
   ],
   "metadata": {
    "colab": {
     "base_uri": "https://localhost:8080/",
     "height": 1000
    },
    "id": "zFXZTWFtjpYs",
    "outputId": "38e46c20-979b-4a1d-c646-99c0fa2436de"
   },
   "execution_count": null,
   "outputs": []
  },
  {
   "cell_type": "code",
   "source": [
    "form_sample = df_form.sample(10, random_state=2023)\n",
    "df_form = df_form.drop(form_sample.index)\n",
    "form_sample"
   ],
   "metadata": {
    "colab": {
     "base_uri": "https://localhost:8080/",
     "height": 1000
    },
    "id": "wjgPRvohnraw",
    "outputId": "22db0c27-ce97-4e00-aa6b-2abce69c45aa"
   },
   "execution_count": null,
   "outputs": []
  },
  {
   "cell_type": "code",
   "source": [
    "len(df_form)"
   ],
   "metadata": {
    "colab": {
     "base_uri": "https://localhost:8080/"
    },
    "id": "5c03WHfsn8j2",
    "outputId": "c8dc6313-ea95-4641-9951-12d91c56b9a0"
   },
   "execution_count": null,
   "outputs": []
  },
  {
   "cell_type": "code",
   "source": [
    "len(df_chat)"
   ],
   "metadata": {
    "colab": {
     "base_uri": "https://localhost:8080/"
    },
    "id": "bz_yGPOyosYx",
    "outputId": "cedf8f8c-fc21-4e45-c7d4-27a185a761d4"
   },
   "execution_count": null,
   "outputs": []
  },
  {
   "cell_type": "code",
   "source": [
    "test_df = pd.concat([form_sample, chat_sample], ignore_index=True)\n",
    "test_df = test_df.sample(frac=1, random_state=2023).reset_index(drop=True)\n",
    "test_df"
   ],
   "metadata": {
    "id": "XJma-K8Eotlw"
   },
   "execution_count": null,
   "outputs": []
  },
  {
   "cell_type": "code",
   "source": [
    "test_df.to_csv('test_df.csv', index=False)"
   ],
   "metadata": {
    "id": "GEVkvtyGzll1"
   },
   "execution_count": null,
   "outputs": []
  },
  {
   "cell_type": "code",
   "source": [
    "train_df = pd.concat([df_form, df_chat], ignore_index=True)\n",
    "train_df = train_df.sample(frac=1, random_state=2023).reset_index(drop=True)\n",
    "train_df.head(10)"
   ],
   "metadata": {
    "colab": {
     "base_uri": "https://localhost:8080/",
     "height": 1000
    },
    "id": "LSXNIsEqpSrv",
    "outputId": "11c65b81-02a8-440e-bc59-90d10f0766ea"
   },
   "execution_count": null,
   "outputs": []
  },
  {
   "cell_type": "code",
   "source": [
    "train_df.shape"
   ],
   "metadata": {
    "colab": {
     "base_uri": "https://localhost:8080/"
    },
    "id": "XdLsT7ZNsN7T",
    "outputId": "52563a72-c02f-4b3a-aa26-5f84f2cc9ccd"
   },
   "execution_count": null,
   "outputs": []
  },
  {
   "cell_type": "code",
   "source": [
    "! pip install googletrans==4.0.0-rc1"
   ],
   "metadata": {
    "id": "oVVZW0k3sS1-"
   },
   "execution_count": null,
   "outputs": []
  },
  {
   "cell_type": "code",
   "source": [
    "from googletrans import Translator\n",
    "from transformers import AutoTokenizer, AutoModelForSeq2SeqLM\n",
    "\n",
    "\n",
    "translator = Translator()\n",
    "\n",
    "device = \"cuda\"\n",
    "tokenizer = AutoTokenizer.from_pretrained(\"humarin/chatgpt_paraphraser_on_T5_base\")\n",
    "model = AutoModelForSeq2SeqLM.from_pretrained(\"humarin/chatgpt_paraphraser_on_T5_base\").to(device)\n",
    "\n",
    "def paraphrase(\n",
    "    question,\n",
    "    num_beams=5,\n",
    "    num_beam_groups=5,\n",
    "    num_return_sequences=5,\n",
    "    repetition_penalty=10.0,\n",
    "    diversity_penalty=3.0,\n",
    "    no_repeat_ngram_size=2,\n",
    "    temperature=0.7,\n",
    "    max_length=128\n",
    "):\n",
    "    input_ids = tokenizer(\n",
    "        f'paraphrase: {question}',\n",
    "        return_tensors=\"pt\", padding=\"longest\",\n",
    "        max_length=max_length,\n",
    "        truncation=True,\n",
    "    ).input_ids.to(device)\n",
    "\n",
    "    outputs = model.generate(\n",
    "        input_ids, temperature=temperature, repetition_penalty=repetition_penalty,\n",
    "        num_return_sequences=num_return_sequences, no_repeat_ngram_size=no_repeat_ngram_size,\n",
    "        num_beams=num_beams, num_beam_groups=num_beam_groups,\n",
    "        max_length=max_length, diversity_penalty=diversity_penalty\n",
    "    )\n",
    "\n",
    "    res = tokenizer.batch_decode(outputs, skip_special_tokens=True)\n",
    "\n",
    "    return res\n"
   ],
   "metadata": {
    "id": "oY_htxvnsoXk"
   },
   "execution_count": null,
   "outputs": []
  },
  {
   "cell_type": "code",
   "source": [
    "import random\n",
    "import re\n",
    "\n",
    "def shuffle_sentences(text):\n",
    "    sentences = text.split('.')\n",
    "    random.shuffle(sentences)\n",
    "    shuffled_text = '.'.join(sentences)\n",
    "    return shuffled_text"
   ],
   "metadata": {
    "id": "CT50mQ9Zto9n"
   },
   "execution_count": null,
   "outputs": []
  },
  {
   "cell_type": "code",
   "source": [
    "def oversample_data(df_to_oversample, num=3):\n",
    "  # create copy of dataframe\n",
    "  df = df_to_oversample.copy()\n",
    "\n",
    "  # translate texts to english\n",
    "  translator = Translator()\n",
    "  df['text_en'] = [translator.translate(sentence, src='pl', dest='en').text for sentence in df['text']]\n",
    "\n",
    "  # english paraphrases with transformer\n",
    "  paraphrases_en = [paraphrase(text, num_return_sequences=num, no_repeat_ngram_size=3) for text in df['text_en']]\n",
    "  for i in range(len(paraphrases_en)):\n",
    "      paraphrases_en[i].append(df['text_en'][i])\n",
    "\n",
    "  # translate paraphrases to polish\n",
    "  paraphrases_pl = []\n",
    "  for paraph_texts_en in paraphrases_en:\n",
    "    paraph_texts_pl = [translator.translate(sentence, src='en', dest='pl').text for sentence in paraph_texts_en]\n",
    "    paraphrases_pl.append(paraph_texts_pl)\n",
    "\n",
    "  # shuffle sentences in text\n",
    "  paraphrases_pl_shfl = []\n",
    "  for paraph_texts_pl in paraphrases_pl:\n",
    "    paraph_texts_pl_shfl = [shuffle_sentences(text) for text in paraph_texts_pl]\n",
    "    paraphrases_pl_shfl.append(paraph_texts_pl_shfl)\n",
    "\n",
    "  # concat original and shuffled rows\n",
    "  oversampled_df_arr = []\n",
    "\n",
    "  for i in range(len(df)):\n",
    "    for j in range(num+1):\n",
    "      df_row = df.iloc[i]\n",
    "      df_row['text'] = paraphrases_pl_shfl[i][j]\n",
    "      oversampled_df_arr.append(df_row)\n",
    "\n",
    "  oversampled_df = pd.DataFrame(oversampled_df_arr)\n",
    "  oversampled_df = oversampled_df.reset_index(drop=True)\n",
    "\n",
    "  result_df = pd.concat([df, oversampled_df], ignore_index=True)\n",
    "  result_df = result_df.sample(frac=1, random_state=2023).reset_index(drop=True)\n",
    "\n",
    "  return result_df\n"
   ],
   "metadata": {
    "id": "wTmcl3PgtBHs"
   },
   "execution_count": null,
   "outputs": []
  },
  {
   "cell_type": "code",
   "source": [
    "oversample_train_df = oversample_data(train_df)\n",
    "oversample_train_df.to_csv('oversample_train_df.csv', index=False)\n",
    "\n",
    "oversample_train_df.head(10)"
   ],
   "metadata": {
    "colab": {
     "base_uri": "https://localhost:8080/",
     "height": 1000
    },
    "id": "DyZpNdMZwLff",
    "outputId": "9487033d-5ebd-4bcc-e679-56faba891584"
   },
   "execution_count": null,
   "outputs": []
  },
  {
   "cell_type": "code",
   "source": [
    "oversample_train_df.shape"
   ],
   "metadata": {
    "colab": {
     "base_uri": "https://localhost:8080/"
    },
    "id": "679tKs-U0HJ_",
    "outputId": "f898bac8-9181-40ce-c1e1-57dffb936ae8"
   },
   "execution_count": null,
   "outputs": []
  },
  {
   "cell_type": "code",
   "source": [
    "pd.read_csv('oversample_train_df.csv')"
   ],
   "metadata": {
    "colab": {
     "base_uri": "https://localhost:8080/",
     "height": 1000
    },
    "id": "3GblX6zWFkIG",
    "outputId": "103c9ec2-eaa4-4958-db25-74f128a1e2b3"
   },
   "execution_count": null,
   "outputs": []
  },
  {
   "cell_type": "code",
   "source": [],
   "metadata": {
    "id": "bzX7Gz5LGroI"
   },
   "execution_count": null,
   "outputs": []
  }
 ]
}
