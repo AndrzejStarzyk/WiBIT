{
 "nbformat": 4,
 "nbformat_minor": 0,
 "metadata": {
  "colab": {
   "provenance": []
  },
  "kernelspec": {
   "name": "python3",
   "display_name": "Python 3"
  },
  "language_info": {
   "name": "python"
  }
 },
 "cells": [
  {
   "cell_type": "code",
   "execution_count": null,
   "metadata": {
    "id": "XxJVgzvnDV3m"
   },
   "outputs": [],
   "source": [
    "import pandas as pd"
   ]
  },
  {
   "cell_type": "code",
   "source": [
    "df = pd.read_csv('oversample_train_df.csv')"
   ],
   "metadata": {
    "id": "VVrFVc2IDfsf"
   },
   "execution_count": null,
   "outputs": []
  },
  {
   "cell_type": "code",
   "source": [
    "df = df.drop(['text_en', 'date'], axis=1)"
   ],
   "metadata": {
    "id": "1voUeiTnDrq2"
   },
   "execution_count": null,
   "outputs": []
  },
  {
   "cell_type": "code",
   "source": [
    "df.head(3)"
   ],
   "metadata": {
    "colab": {
     "base_uri": "https://localhost:8080/",
     "height": 366
    },
    "id": "fzWVWvWRJ-lC",
    "outputId": "11b81320-7a09-4b37-c0c5-b79ed380523d"
   },
   "execution_count": null,
   "outputs": []
  },
  {
   "cell_type": "code",
   "source": [
    "! pip install pyMorfologik"
   ],
   "metadata": {
    "id": "ZX8UQXJ2DtK3"
   },
   "execution_count": null,
   "outputs": []
  },
  {
   "cell_type": "code",
   "source": [
    "# https://github.com/dmirecki/pyMorfologik"
   ],
   "metadata": {
    "id": "ZyaSkqqXIPtu"
   },
   "execution_count": null,
   "outputs": []
  },
  {
   "cell_type": "code",
   "source": [
    "! pip install stop_words"
   ],
   "metadata": {
    "colab": {
     "base_uri": "https://localhost:8080/"
    },
    "id": "8JSNt0vgHJ0z",
    "outputId": "b2748e4e-9883-4d38-bb6a-007d6afd10e6"
   },
   "execution_count": null,
   "outputs": []
  },
  {
   "cell_type": "code",
   "source": [
    "from nltk.stem.snowball import SnowballStemmer\n",
    "import re\n",
    "from string import punctuation\n",
    "import nltk\n",
    "import spacy\n",
    "from stop_words import get_stop_words\n",
    "from pyMorfologik import Morfologik\n",
    "from pyMorfologik.parsing import ListParser\n",
    "import string\n",
    "\n",
    "parser = ListParser()\n",
    "stemmer = Morfologik()\n",
    "\n",
    "stopwords_pl = get_stop_words(\"pl\")"
   ],
   "metadata": {
    "id": "JYoS0Rd_Fm66"
   },
   "execution_count": null,
   "outputs": []
  },
  {
   "cell_type": "code",
   "source": [
    "def preprocess_text(text):\n",
    "    translator = str.maketrans(string.punctuation, ' ' * len(string.punctuation))\n",
    "    new_text = text.translate(translator)\n",
    "    new_text = re.sub(r'\\d+', '', new_text)\n",
    "    new_text = re.sub(r'\\s+', ' ', new_text)\n",
    "    new_text = new_text.strip()\n",
    "    new_text = new_text.lower()\n",
    "\n",
    "    stems = stemmer.stem([new_text], parser)\n",
    "    tokens = [(list(stems[i][1].keys())[0] if len(list(stems[i][1].keys())) > 0 else stems[i][0]) for i in range(len(stems))]\n",
    "\n",
    "    filtered_tokens = [token for token in tokens if token not in stopwords_pl]\n",
    "    filtered_tokens = [token for token in filtered_tokens if token!= '']\n",
    "    processed_text = \" \".join(filtered_tokens)\n",
    "\n",
    "    return processed_text"
   ],
   "metadata": {
    "id": "wKoDS9WcGZg_"
   },
   "execution_count": null,
   "outputs": []
  },
  {
   "cell_type": "code",
   "source": [
    "from pyMorfologik import Morfologik\n",
    "from pyMorfologik.parsing import ListParser\n",
    "\n",
    "parser = ListParser()\n",
    "stemmer = Morfologik()\n",
    "stems = stemmer.stem(['Ala ma kota'], parser)\n",
    "stems"
   ],
   "metadata": {
    "colab": {
     "base_uri": "https://localhost:8080/"
    },
    "id": "iIVkHibiGh-P",
    "outputId": "1db702e2-1c8b-499b-fe58-267fca771cb4"
   },
   "execution_count": null,
   "outputs": []
  },
  {
   "cell_type": "code",
   "source": [
    "x = list(stems[0][1].keys())[0] if len(list(stems[0][1].keys())) > 0 else stems[0][0]\n",
    "x"
   ],
   "metadata": {
    "colab": {
     "base_uri": "https://localhost:8080/",
     "height": 35
    },
    "id": "jbk3Aj_hGodG",
    "outputId": "b6c5d19d-045b-4119-c5af-985a2bd0004a"
   },
   "execution_count": null,
   "outputs": []
  },
  {
   "cell_type": "code",
   "source": [
    "sample_text = df['text'][0]"
   ],
   "metadata": {
    "id": "MDXui9F2JsH-"
   },
   "execution_count": null,
   "outputs": []
  },
  {
   "cell_type": "code",
   "source": [
    "sample_text"
   ],
   "metadata": {
    "colab": {
     "base_uri": "https://localhost:8080/",
     "height": 53
    },
    "id": "aoAL5gSCKHJC",
    "outputId": "07ec71a8-7305-43d8-f912-9e3a3014d522"
   },
   "execution_count": null,
   "outputs": []
  },
  {
   "cell_type": "code",
   "source": [
    "translator = str.maketrans(\"\", \"\", punctuation)\n",
    "new_text = sample_text.translate(translator)\n",
    "new_text = re.sub(r'\\d+', '', new_text)\n",
    "new_text = re.sub(r'\\s+', ' ', new_text)\n",
    "new_text = new_text.strip()\n",
    "new_text = new_text.lower()"
   ],
   "metadata": {
    "id": "JZBhgwmrKItJ"
   },
   "execution_count": null,
   "outputs": []
  },
  {
   "cell_type": "code",
   "source": [
    "new_text"
   ],
   "metadata": {
    "colab": {
     "base_uri": "https://localhost:8080/",
     "height": 53
    },
    "id": "67Iap51PKiTG",
    "outputId": "49c55854-c5c6-4add-a72a-007370958a2a"
   },
   "execution_count": null,
   "outputs": []
  },
  {
   "cell_type": "code",
   "source": [
    "stems = stemmer.stem([new_text], parser)"
   ],
   "metadata": {
    "id": "IC8OMICIKoeQ"
   },
   "execution_count": null,
   "outputs": []
  },
  {
   "cell_type": "code",
   "source": [
    "stems"
   ],
   "metadata": {
    "colab": {
     "base_uri": "https://localhost:8080/"
    },
    "id": "cpAZnrteK0c2",
    "outputId": "b218d609-6975-432b-a2ea-1f43349c57c1"
   },
   "execution_count": null,
   "outputs": []
  },
  {
   "cell_type": "code",
   "source": [
    "len(stems)"
   ],
   "metadata": {
    "colab": {
     "base_uri": "https://localhost:8080/"
    },
    "id": "EWuwqf18Ll1Z",
    "outputId": "b8dd7517-21e5-4295-db0e-17a8bfbf2896"
   },
   "execution_count": null,
   "outputs": []
  },
  {
   "cell_type": "code",
   "source": [
    "tokenized_text = [(list(stems[i][1].keys())[0] if len(list(stems[i][1].keys())) > 0 else stems[i][0]) for i in range(len(stems))]\n",
    "tokenized_text\n"
   ],
   "metadata": {
    "colab": {
     "base_uri": "https://localhost:8080/"
    },
    "id": "CPmDdo6EK1UD",
    "outputId": "d9ec6d15-d6eb-4413-9561-7a4b6e496954"
   },
   "execution_count": null,
   "outputs": []
  },
  {
   "cell_type": "code",
   "source": [
    "preprocess_text(df['text'][0])"
   ],
   "metadata": {
    "colab": {
     "base_uri": "https://localhost:8080/",
     "height": 53
    },
    "id": "C1ysgIRVL7if",
    "outputId": "49ecb7a2-43e3-4107-f407-94f398dda484"
   },
   "execution_count": null,
   "outputs": []
  },
  {
   "cell_type": "code",
   "source": [
    "prep_texts = [preprocess_text(df['text'][i]) for i in range(len(df))]\n",
    "df['prep_text'] = prep_texts\n",
    "df[['text', 'prep_text']]"
   ],
   "metadata": {
    "colab": {
     "base_uri": "https://localhost:8080/",
     "height": 1215
    },
    "id": "xJt8ofJtNEoz",
    "outputId": "80ac24d2-21c7-4926-808b-029e5c514997"
   },
   "execution_count": null,
   "outputs": []
  },
  {
   "cell_type": "code",
   "source": [
    "# https://scikit-learn.org/stable/modules/generated/sklearn.feature_extraction.text.TfidfVectorizer.html"
   ],
   "metadata": {
    "id": "8WNPAx0Zbpkt"
   },
   "execution_count": null,
   "outputs": []
  },
  {
   "cell_type": "code",
   "source": [
    "from sklearn.feature_extraction.text import TfidfVectorizer\n",
    "\n",
    "vectorizer = TfidfVectorizer()\n",
    "vectors = vectorizer.fit_transform(df['prep_text'])\n",
    "print(vectors.shape)"
   ],
   "metadata": {
    "colab": {
     "base_uri": "https://localhost:8080/"
    },
    "id": "sOW62CO_U7Lg",
    "outputId": "d0ad9664-0868-4169-f36b-00c8ff10d30d"
   },
   "execution_count": null,
   "outputs": []
  },
  {
   "cell_type": "code",
   "source": [
    "print(vectors[0])"
   ],
   "metadata": {
    "colab": {
     "base_uri": "https://localhost:8080/"
    },
    "id": "JCBOzpasWy6h",
    "outputId": "88757dbb-9184-419a-cad5-4fea752a89a8"
   },
   "execution_count": null,
   "outputs": []
  },
  {
   "cell_type": "code",
   "source": [
    "vectorizer.get_feature_names_out()"
   ],
   "metadata": {
    "colab": {
     "base_uri": "https://localhost:8080/"
    },
    "id": "qK-P5Z_0iTGz",
    "outputId": "6b67e23b-9e48-41b3-a686-d6cd6ead00c2"
   },
   "execution_count": null,
   "outputs": []
  },
  {
   "cell_type": "code",
   "source": [
    "print(vectors[0].toarray())"
   ],
   "metadata": {
    "colab": {
     "base_uri": "https://localhost:8080/"
    },
    "id": "h_Y50ygShNTD",
    "outputId": "03f32f68-4fcf-4b2d-c51f-25918c3692bd"
   },
   "execution_count": null,
   "outputs": []
  },
  {
   "cell_type": "code",
   "source": [
    "! pip install joblib"
   ],
   "metadata": {
    "colab": {
     "base_uri": "https://localhost:8080/"
    },
    "id": "7rlb68muYcGa",
    "outputId": "9aef0416-eeb5-427a-b231-c0439e848b27"
   },
   "execution_count": null,
   "outputs": []
  },
  {
   "cell_type": "code",
   "source": [
    "import joblib\n",
    "\n",
    "joblib.dump(vectorizer, 'tfidf_vectorizer_wibit.joblib')\n",
    "\n",
    "loaded_vectorizer = joblib.load('tfidf_vectorizer_wibit.joblib')"
   ],
   "metadata": {
    "id": "mJ_ZBZJdYDjF"
   },
   "execution_count": null,
   "outputs": []
  },
  {
   "cell_type": "code",
   "source": [
    "new_sample_text = \"Jestem turystą, który uwielbia odwiedzać zamki i różnego rodzaju lochy, w szczególności sale tortur. Najchętniej jadam steki w renomowanych restauracjach\"\n",
    "prep_new_sample =  preprocess_text(new_sample_text)\n",
    "print(prep_new_sample)\n",
    "\n",
    "new_vector = loaded_vectorizer.transform([prep_new_sample])\n",
    "print(new_vector)\n",
    "print('')\n",
    "new_vector = vectorizer.transform([prep_new_sample])\n",
    "print(new_vector)"
   ],
   "metadata": {
    "colab": {
     "base_uri": "https://localhost:8080/"
    },
    "id": "a9H2bPDGW4uq",
    "outputId": "864cfb78-fa95-426a-bdb4-8146d8392d40"
   },
   "execution_count": null,
   "outputs": []
  },
  {
   "cell_type": "code",
   "source": [
    "df.to_csv('oversample_stemmed_train_df.csv', index=False)"
   ],
   "metadata": {
    "id": "0K4Dj7Raaylv"
   },
   "execution_count": null,
   "outputs": []
  },
  {
   "cell_type": "code",
   "source": [
    "# https://radimrehurek.com/gensim/models/doc2vec.html"
   ],
   "metadata": {
    "id": "_4uGraJtbXk3"
   },
   "execution_count": null,
   "outputs": []
  },
  {
   "cell_type": "code",
   "source": [
    "from gensim.models.doc2vec import Doc2Vec, TaggedDocument\n",
    "\n",
    "VECTOR_SIZE = 100\n",
    "MIN_COUNTS = 3\n",
    "WINDOW = 5\n",
    "EPOCHS = 100\n",
    "\n",
    "tokenized_docs = [df['prep_text'][i].split(' ') for i in range(len(df))]\n",
    "tagged_data = [TaggedDocument(words=doc, tags=[str(i)]) for i, doc in enumerate(tokenized_docs)]\n",
    "\n",
    "doc2vec_model = Doc2Vec(vector_size=VECTOR_SIZE, window=WINDOW, min_count=MIN_COUNTS, epochs=EPOCHS, seed=2023)\n",
    "doc2vec_model.build_vocab(tagged_data)\n",
    "doc2vec_model.train(tagged_data, total_examples=doc2vec_model.corpus_count, epochs=doc2vec_model.epochs)"
   ],
   "metadata": {
    "id": "AJuiYe3ja74y"
   },
   "execution_count": null,
   "outputs": []
  },
  {
   "cell_type": "code",
   "source": [
    "doc2vec_model.save('doc2vec_model_wibit')\n",
    "loaded_doc2vec_model = Doc2Vec.load('doc2vec_model_wibit')"
   ],
   "metadata": {
    "id": "bbGiOJZ6cjkF"
   },
   "execution_count": null,
   "outputs": []
  },
  {
   "cell_type": "code",
   "source": [
    "new_sample_text = \"Jestem turystą, który uwielbia odwiedzać zamki i różnego rodzaju lochy, w szczególności sale tortur. Najchętniej jadam steki w renomowanych restauracjach\"\n",
    "prep_new_sample =  preprocess_text(new_sample_text)\n",
    "tokenized_new_sample = prep_new_sample.split(' ')\n",
    "\n",
    "new_vector = doc2vec_model.infer_vector(tokenized_new_sample)\n",
    "print(new_vector)\n",
    "\n",
    "new_vector = loaded_doc2vec_model.infer_vector(tokenized_new_sample)\n",
    "print(new_vector)"
   ],
   "metadata": {
    "colab": {
     "base_uri": "https://localhost:8080/"
    },
    "id": "M5rI2RqPfWFj",
    "outputId": "aec08ef5-8e36-45e7-b69d-de68d2ee6577"
   },
   "execution_count": null,
   "outputs": []
  },
  {
   "cell_type": "code",
   "source": [],
   "metadata": {
    "id": "7KfB7ytigDOD"
   },
   "execution_count": null,
   "outputs": []
  }
 ]
}
