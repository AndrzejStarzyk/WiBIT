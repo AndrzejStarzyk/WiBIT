{
  "nbformat": 4,
  "nbformat_minor": 0,
  "metadata": {
    "colab": {
      "provenance": []
    },
    "kernelspec": {
      "name": "python3",
      "display_name": "Python 3"
    },
    "language_info": {
      "name": "python"
    }
  },
  "cells": [
    {
      "cell_type": "code",
      "execution_count": 2,
      "metadata": {
        "id": "XxJVgzvnDV3m"
      },
      "outputs": [],
      "source": [
        "import pandas as pd"
      ]
    },
    {
      "cell_type": "code",
      "source": [
        "df = pd.read_csv('oversample_train_df.csv')"
      ],
      "metadata": {
        "id": "VVrFVc2IDfsf"
      },
      "execution_count": 50,
      "outputs": []
    },
    {
      "cell_type": "code",
      "source": [
        "df = df.drop(['text_en', 'date'], axis=1)"
      ],
      "metadata": {
        "id": "1voUeiTnDrq2"
      },
      "execution_count": 51,
      "outputs": []
    },
    {
      "cell_type": "code",
      "source": [
        "df.head(3)"
      ],
      "metadata": {
        "colab": {
          "base_uri": "https://localhost:8080/",
          "height": 366
        },
        "id": "fzWVWvWRJ-lC",
        "outputId": "11b81320-7a09-4b37-c0c5-b79ed380523d"
      },
      "execution_count": 52,
      "outputs": [
        {
          "output_type": "execute_result",
          "data": {
            "text/plain": [
              "                                                text  amusement_parks  \\\n",
              "0   Szukam miejsc, w których mogę zrelaksować się...                2   \n",
              "1  Moje zainteresowania leżą w literaturze i sztu...                1   \n",
              "2  Lubię także odwiedzać miejsca w sercu natury, ...                1   \n",
              "\n",
              "   ferris_wheels  water_parks  miniature_parks  baths_and_saunas  climbing  \\\n",
              "0              3            2                2                 3         2   \n",
              "1              2            1                2                 3         1   \n",
              "2              3            2                2                 2         1   \n",
              "\n",
              "   stadiums  winter_sports  natural_springs  ...  local_museums  \\\n",
              "0         2              2                4  ...              4   \n",
              "1         1              1                2  ...              4   \n",
              "2         1              1                2  ...              4   \n",
              "\n",
              "   national_museums  fashion_museums  planetariums  zoos  aquariums  \\\n",
              "0                 4                3             3     3          3   \n",
              "1                 5                3             3     2          2   \n",
              "2                 5                2             1     1          2   \n",
              "\n",
              "   skyscrapers  towers  historic_architecture  bridges  \n",
              "0            2       4                      4        4  \n",
              "1            2       3                      5        3  \n",
              "2            2       4                      5        3  \n",
              "\n",
              "[3 rows x 54 columns]"
            ],
            "text/html": [
              "\n",
              "  <div id=\"df-425b0f30-9ea0-49e5-ae65-2fc5a6183eea\" class=\"colab-df-container\">\n",
              "    <div>\n",
              "<style scoped>\n",
              "    .dataframe tbody tr th:only-of-type {\n",
              "        vertical-align: middle;\n",
              "    }\n",
              "\n",
              "    .dataframe tbody tr th {\n",
              "        vertical-align: top;\n",
              "    }\n",
              "\n",
              "    .dataframe thead th {\n",
              "        text-align: right;\n",
              "    }\n",
              "</style>\n",
              "<table border=\"1\" class=\"dataframe\">\n",
              "  <thead>\n",
              "    <tr style=\"text-align: right;\">\n",
              "      <th></th>\n",
              "      <th>text</th>\n",
              "      <th>amusement_parks</th>\n",
              "      <th>ferris_wheels</th>\n",
              "      <th>water_parks</th>\n",
              "      <th>miniature_parks</th>\n",
              "      <th>baths_and_saunas</th>\n",
              "      <th>climbing</th>\n",
              "      <th>stadiums</th>\n",
              "      <th>winter_sports</th>\n",
              "      <th>natural_springs</th>\n",
              "      <th>...</th>\n",
              "      <th>local_museums</th>\n",
              "      <th>national_museums</th>\n",
              "      <th>fashion_museums</th>\n",
              "      <th>planetariums</th>\n",
              "      <th>zoos</th>\n",
              "      <th>aquariums</th>\n",
              "      <th>skyscrapers</th>\n",
              "      <th>towers</th>\n",
              "      <th>historic_architecture</th>\n",
              "      <th>bridges</th>\n",
              "    </tr>\n",
              "  </thead>\n",
              "  <tbody>\n",
              "    <tr>\n",
              "      <th>0</th>\n",
              "      <td>Szukam miejsc, w których mogę zrelaksować się...</td>\n",
              "      <td>2</td>\n",
              "      <td>3</td>\n",
              "      <td>2</td>\n",
              "      <td>2</td>\n",
              "      <td>3</td>\n",
              "      <td>2</td>\n",
              "      <td>2</td>\n",
              "      <td>2</td>\n",
              "      <td>4</td>\n",
              "      <td>...</td>\n",
              "      <td>4</td>\n",
              "      <td>4</td>\n",
              "      <td>3</td>\n",
              "      <td>3</td>\n",
              "      <td>3</td>\n",
              "      <td>3</td>\n",
              "      <td>2</td>\n",
              "      <td>4</td>\n",
              "      <td>4</td>\n",
              "      <td>4</td>\n",
              "    </tr>\n",
              "    <tr>\n",
              "      <th>1</th>\n",
              "      <td>Moje zainteresowania leżą w literaturze i sztu...</td>\n",
              "      <td>1</td>\n",
              "      <td>2</td>\n",
              "      <td>1</td>\n",
              "      <td>2</td>\n",
              "      <td>3</td>\n",
              "      <td>1</td>\n",
              "      <td>1</td>\n",
              "      <td>1</td>\n",
              "      <td>2</td>\n",
              "      <td>...</td>\n",
              "      <td>4</td>\n",
              "      <td>5</td>\n",
              "      <td>3</td>\n",
              "      <td>3</td>\n",
              "      <td>2</td>\n",
              "      <td>2</td>\n",
              "      <td>2</td>\n",
              "      <td>3</td>\n",
              "      <td>5</td>\n",
              "      <td>3</td>\n",
              "    </tr>\n",
              "    <tr>\n",
              "      <th>2</th>\n",
              "      <td>Lubię także odwiedzać miejsca w sercu natury, ...</td>\n",
              "      <td>1</td>\n",
              "      <td>3</td>\n",
              "      <td>2</td>\n",
              "      <td>2</td>\n",
              "      <td>2</td>\n",
              "      <td>1</td>\n",
              "      <td>1</td>\n",
              "      <td>1</td>\n",
              "      <td>2</td>\n",
              "      <td>...</td>\n",
              "      <td>4</td>\n",
              "      <td>5</td>\n",
              "      <td>2</td>\n",
              "      <td>1</td>\n",
              "      <td>1</td>\n",
              "      <td>2</td>\n",
              "      <td>2</td>\n",
              "      <td>4</td>\n",
              "      <td>5</td>\n",
              "      <td>3</td>\n",
              "    </tr>\n",
              "  </tbody>\n",
              "</table>\n",
              "<p>3 rows × 54 columns</p>\n",
              "</div>\n",
              "    <div class=\"colab-df-buttons\">\n",
              "\n",
              "  <div class=\"colab-df-container\">\n",
              "    <button class=\"colab-df-convert\" onclick=\"convertToInteractive('df-425b0f30-9ea0-49e5-ae65-2fc5a6183eea')\"\n",
              "            title=\"Convert this dataframe to an interactive table.\"\n",
              "            style=\"display:none;\">\n",
              "\n",
              "  <svg xmlns=\"http://www.w3.org/2000/svg\" height=\"24px\" viewBox=\"0 -960 960 960\">\n",
              "    <path d=\"M120-120v-720h720v720H120Zm60-500h600v-160H180v160Zm220 220h160v-160H400v160Zm0 220h160v-160H400v160ZM180-400h160v-160H180v160Zm440 0h160v-160H620v160ZM180-180h160v-160H180v160Zm440 0h160v-160H620v160Z\"/>\n",
              "  </svg>\n",
              "    </button>\n",
              "\n",
              "  <style>\n",
              "    .colab-df-container {\n",
              "      display:flex;\n",
              "      gap: 12px;\n",
              "    }\n",
              "\n",
              "    .colab-df-convert {\n",
              "      background-color: #E8F0FE;\n",
              "      border: none;\n",
              "      border-radius: 50%;\n",
              "      cursor: pointer;\n",
              "      display: none;\n",
              "      fill: #1967D2;\n",
              "      height: 32px;\n",
              "      padding: 0 0 0 0;\n",
              "      width: 32px;\n",
              "    }\n",
              "\n",
              "    .colab-df-convert:hover {\n",
              "      background-color: #E2EBFA;\n",
              "      box-shadow: 0px 1px 2px rgba(60, 64, 67, 0.3), 0px 1px 3px 1px rgba(60, 64, 67, 0.15);\n",
              "      fill: #174EA6;\n",
              "    }\n",
              "\n",
              "    .colab-df-buttons div {\n",
              "      margin-bottom: 4px;\n",
              "    }\n",
              "\n",
              "    [theme=dark] .colab-df-convert {\n",
              "      background-color: #3B4455;\n",
              "      fill: #D2E3FC;\n",
              "    }\n",
              "\n",
              "    [theme=dark] .colab-df-convert:hover {\n",
              "      background-color: #434B5C;\n",
              "      box-shadow: 0px 1px 3px 1px rgba(0, 0, 0, 0.15);\n",
              "      filter: drop-shadow(0px 1px 2px rgba(0, 0, 0, 0.3));\n",
              "      fill: #FFFFFF;\n",
              "    }\n",
              "  </style>\n",
              "\n",
              "    <script>\n",
              "      const buttonEl =\n",
              "        document.querySelector('#df-425b0f30-9ea0-49e5-ae65-2fc5a6183eea button.colab-df-convert');\n",
              "      buttonEl.style.display =\n",
              "        google.colab.kernel.accessAllowed ? 'block' : 'none';\n",
              "\n",
              "      async function convertToInteractive(key) {\n",
              "        const element = document.querySelector('#df-425b0f30-9ea0-49e5-ae65-2fc5a6183eea');\n",
              "        const dataTable =\n",
              "          await google.colab.kernel.invokeFunction('convertToInteractive',\n",
              "                                                    [key], {});\n",
              "        if (!dataTable) return;\n",
              "\n",
              "        const docLinkHtml = 'Like what you see? Visit the ' +\n",
              "          '<a target=\"_blank\" href=https://colab.research.google.com/notebooks/data_table.ipynb>data table notebook</a>'\n",
              "          + ' to learn more about interactive tables.';\n",
              "        element.innerHTML = '';\n",
              "        dataTable['output_type'] = 'display_data';\n",
              "        await google.colab.output.renderOutput(dataTable, element);\n",
              "        const docLink = document.createElement('div');\n",
              "        docLink.innerHTML = docLinkHtml;\n",
              "        element.appendChild(docLink);\n",
              "      }\n",
              "    </script>\n",
              "  </div>\n",
              "\n",
              "\n",
              "<div id=\"df-034b78db-5e32-4ec7-834e-3a354b8c6c96\">\n",
              "  <button class=\"colab-df-quickchart\" onclick=\"quickchart('df-034b78db-5e32-4ec7-834e-3a354b8c6c96')\"\n",
              "            title=\"Suggest charts\"\n",
              "            style=\"display:none;\">\n",
              "\n",
              "<svg xmlns=\"http://www.w3.org/2000/svg\" height=\"24px\"viewBox=\"0 0 24 24\"\n",
              "     width=\"24px\">\n",
              "    <g>\n",
              "        <path d=\"M19 3H5c-1.1 0-2 .9-2 2v14c0 1.1.9 2 2 2h14c1.1 0 2-.9 2-2V5c0-1.1-.9-2-2-2zM9 17H7v-7h2v7zm4 0h-2V7h2v10zm4 0h-2v-4h2v4z\"/>\n",
              "    </g>\n",
              "</svg>\n",
              "  </button>\n",
              "\n",
              "<style>\n",
              "  .colab-df-quickchart {\n",
              "      --bg-color: #E8F0FE;\n",
              "      --fill-color: #1967D2;\n",
              "      --hover-bg-color: #E2EBFA;\n",
              "      --hover-fill-color: #174EA6;\n",
              "      --disabled-fill-color: #AAA;\n",
              "      --disabled-bg-color: #DDD;\n",
              "  }\n",
              "\n",
              "  [theme=dark] .colab-df-quickchart {\n",
              "      --bg-color: #3B4455;\n",
              "      --fill-color: #D2E3FC;\n",
              "      --hover-bg-color: #434B5C;\n",
              "      --hover-fill-color: #FFFFFF;\n",
              "      --disabled-bg-color: #3B4455;\n",
              "      --disabled-fill-color: #666;\n",
              "  }\n",
              "\n",
              "  .colab-df-quickchart {\n",
              "    background-color: var(--bg-color);\n",
              "    border: none;\n",
              "    border-radius: 50%;\n",
              "    cursor: pointer;\n",
              "    display: none;\n",
              "    fill: var(--fill-color);\n",
              "    height: 32px;\n",
              "    padding: 0;\n",
              "    width: 32px;\n",
              "  }\n",
              "\n",
              "  .colab-df-quickchart:hover {\n",
              "    background-color: var(--hover-bg-color);\n",
              "    box-shadow: 0 1px 2px rgba(60, 64, 67, 0.3), 0 1px 3px 1px rgba(60, 64, 67, 0.15);\n",
              "    fill: var(--button-hover-fill-color);\n",
              "  }\n",
              "\n",
              "  .colab-df-quickchart-complete:disabled,\n",
              "  .colab-df-quickchart-complete:disabled:hover {\n",
              "    background-color: var(--disabled-bg-color);\n",
              "    fill: var(--disabled-fill-color);\n",
              "    box-shadow: none;\n",
              "  }\n",
              "\n",
              "  .colab-df-spinner {\n",
              "    border: 2px solid var(--fill-color);\n",
              "    border-color: transparent;\n",
              "    border-bottom-color: var(--fill-color);\n",
              "    animation:\n",
              "      spin 1s steps(1) infinite;\n",
              "  }\n",
              "\n",
              "  @keyframes spin {\n",
              "    0% {\n",
              "      border-color: transparent;\n",
              "      border-bottom-color: var(--fill-color);\n",
              "      border-left-color: var(--fill-color);\n",
              "    }\n",
              "    20% {\n",
              "      border-color: transparent;\n",
              "      border-left-color: var(--fill-color);\n",
              "      border-top-color: var(--fill-color);\n",
              "    }\n",
              "    30% {\n",
              "      border-color: transparent;\n",
              "      border-left-color: var(--fill-color);\n",
              "      border-top-color: var(--fill-color);\n",
              "      border-right-color: var(--fill-color);\n",
              "    }\n",
              "    40% {\n",
              "      border-color: transparent;\n",
              "      border-right-color: var(--fill-color);\n",
              "      border-top-color: var(--fill-color);\n",
              "    }\n",
              "    60% {\n",
              "      border-color: transparent;\n",
              "      border-right-color: var(--fill-color);\n",
              "    }\n",
              "    80% {\n",
              "      border-color: transparent;\n",
              "      border-right-color: var(--fill-color);\n",
              "      border-bottom-color: var(--fill-color);\n",
              "    }\n",
              "    90% {\n",
              "      border-color: transparent;\n",
              "      border-bottom-color: var(--fill-color);\n",
              "    }\n",
              "  }\n",
              "</style>\n",
              "\n",
              "  <script>\n",
              "    async function quickchart(key) {\n",
              "      const quickchartButtonEl =\n",
              "        document.querySelector('#' + key + ' button');\n",
              "      quickchartButtonEl.disabled = true;  // To prevent multiple clicks.\n",
              "      quickchartButtonEl.classList.add('colab-df-spinner');\n",
              "      try {\n",
              "        const charts = await google.colab.kernel.invokeFunction(\n",
              "            'suggestCharts', [key], {});\n",
              "      } catch (error) {\n",
              "        console.error('Error during call to suggestCharts:', error);\n",
              "      }\n",
              "      quickchartButtonEl.classList.remove('colab-df-spinner');\n",
              "      quickchartButtonEl.classList.add('colab-df-quickchart-complete');\n",
              "    }\n",
              "    (() => {\n",
              "      let quickchartButtonEl =\n",
              "        document.querySelector('#df-034b78db-5e32-4ec7-834e-3a354b8c6c96 button');\n",
              "      quickchartButtonEl.style.display =\n",
              "        google.colab.kernel.accessAllowed ? 'block' : 'none';\n",
              "    })();\n",
              "  </script>\n",
              "</div>\n",
              "    </div>\n",
              "  </div>\n"
            ]
          },
          "metadata": {},
          "execution_count": 52
        }
      ]
    },
    {
      "cell_type": "code",
      "source": [
        "! pip install pyMorfologik"
      ],
      "metadata": {
        "id": "ZX8UQXJ2DtK3"
      },
      "execution_count": null,
      "outputs": []
    },
    {
      "cell_type": "code",
      "source": [
        "# https://github.com/dmirecki/pyMorfologik"
      ],
      "metadata": {
        "id": "ZyaSkqqXIPtu"
      },
      "execution_count": null,
      "outputs": []
    },
    {
      "cell_type": "code",
      "source": [
        "! pip install stop_words"
      ],
      "metadata": {
        "colab": {
          "base_uri": "https://localhost:8080/"
        },
        "id": "8JSNt0vgHJ0z",
        "outputId": "b2748e4e-9883-4d38-bb6a-007d6afd10e6"
      },
      "execution_count": 13,
      "outputs": [
        {
          "output_type": "stream",
          "name": "stdout",
          "text": [
            "Collecting stop_words\n",
            "  Downloading stop-words-2018.7.23.tar.gz (31 kB)\n",
            "  Preparing metadata (setup.py) ... \u001b[?25l\u001b[?25hdone\n",
            "Building wheels for collected packages: stop_words\n",
            "  Building wheel for stop_words (setup.py) ... \u001b[?25l\u001b[?25hdone\n",
            "  Created wheel for stop_words: filename=stop_words-2018.7.23-py3-none-any.whl size=32898 sha256=4088ac15d508d55e0d81f2876c28e575d0f9d675434a23c8920945cf1c96fb38\n",
            "  Stored in directory: /root/.cache/pip/wheels/d0/1a/23/f12552a50cb09bcc1694a5ebb6c2cd5f2a0311de2b8c3d9a89\n",
            "Successfully built stop_words\n",
            "Installing collected packages: stop_words\n",
            "Successfully installed stop_words-2018.7.23\n"
          ]
        }
      ]
    },
    {
      "cell_type": "code",
      "source": [
        "from nltk.stem.snowball import SnowballStemmer\n",
        "import re\n",
        "from string import punctuation\n",
        "import nltk\n",
        "import spacy\n",
        "from stop_words import get_stop_words\n",
        "from pyMorfologik import Morfologik\n",
        "from pyMorfologik.parsing import ListParser\n",
        "import string\n",
        "\n",
        "parser = ListParser()\n",
        "stemmer = Morfologik()\n",
        "\n",
        "stopwords_pl = get_stop_words(\"pl\")"
      ],
      "metadata": {
        "id": "JYoS0Rd_Fm66"
      },
      "execution_count": 73,
      "outputs": []
    },
    {
      "cell_type": "code",
      "source": [
        "def preprocess_text(text):\n",
        "    translator = str.maketrans(string.punctuation, ' ' * len(string.punctuation))\n",
        "    new_text = text.translate(translator)\n",
        "    new_text = re.sub(r'\\d+', '', new_text)\n",
        "    new_text = re.sub(r'\\s+', ' ', new_text)\n",
        "    new_text = new_text.strip()\n",
        "    new_text = new_text.lower()\n",
        "\n",
        "    stems = stemmer.stem([new_text], parser)\n",
        "    tokens = [(list(stems[i][1].keys())[0] if len(list(stems[i][1].keys())) > 0 else stems[i][0]) for i in range(len(stems))]\n",
        "\n",
        "    filtered_tokens = [token for token in tokens if token not in stopwords_pl]\n",
        "    filtered_tokens = [token for token in filtered_tokens if token!= '']\n",
        "    processed_text = \" \".join(filtered_tokens)\n",
        "\n",
        "    return processed_text"
      ],
      "metadata": {
        "id": "wKoDS9WcGZg_"
      },
      "execution_count": 74,
      "outputs": []
    },
    {
      "cell_type": "code",
      "source": [
        "from pyMorfologik import Morfologik\n",
        "from pyMorfologik.parsing import ListParser\n",
        "\n",
        "parser = ListParser()\n",
        "stemmer = Morfologik()\n",
        "stems = stemmer.stem(['Ala ma kota'], parser)\n",
        "stems"
      ],
      "metadata": {
        "colab": {
          "base_uri": "https://localhost:8080/"
        },
        "id": "iIVkHibiGh-P",
        "outputId": "1db702e2-1c8b-499b-fe58-267fca771cb4"
      },
      "execution_count": 69,
      "outputs": [
        {
          "output_type": "execute_result",
          "data": {
            "text/plain": [
              "[('Ala',\n",
              "  {'Ala': ['subst:sg:nom:f'],\n",
              "   'Al': ['subst:sg:acc:m1+subst:sg:gen:m1'],\n",
              "   'Alo': ['subst:sg:acc:m1+subst:sg:gen:m1']}),\n",
              " ('ma',\n",
              "  {'mieć': ['verb:fin:sg:ter:imperf:refl.nonrefl'],\n",
              "   'mój': ['adj:sg:nom.voc:f:pos']}),\n",
              " ('kota', {'kota': ['subst:sg:nom:f'], 'kot': ['subst:sg:acc:m1']})]"
            ]
          },
          "metadata": {},
          "execution_count": 69
        }
      ]
    },
    {
      "cell_type": "code",
      "source": [
        "x = list(stems[0][1].keys())[0] if len(list(stems[0][1].keys())) > 0 else stems[0][0]\n",
        "x"
      ],
      "metadata": {
        "colab": {
          "base_uri": "https://localhost:8080/",
          "height": 35
        },
        "id": "jbk3Aj_hGodG",
        "outputId": "b6c5d19d-045b-4119-c5af-985a2bd0004a"
      },
      "execution_count": 46,
      "outputs": [
        {
          "output_type": "execute_result",
          "data": {
            "text/plain": [
              "'wiedźmiński'"
            ],
            "application/vnd.google.colaboratory.intrinsic+json": {
              "type": "string"
            }
          },
          "metadata": {},
          "execution_count": 46
        }
      ]
    },
    {
      "cell_type": "code",
      "source": [
        "sample_text = df['text'][0]"
      ],
      "metadata": {
        "id": "MDXui9F2JsH-"
      },
      "execution_count": 53,
      "outputs": []
    },
    {
      "cell_type": "code",
      "source": [
        "sample_text"
      ],
      "metadata": {
        "colab": {
          "base_uri": "https://localhost:8080/",
          "height": 53
        },
        "id": "aoAL5gSCKHJC",
        "outputId": "07ec71a8-7305-43d8-f912-9e3a3014d522"
      },
      "execution_count": 54,
      "outputs": [
        {
          "output_type": "execute_result",
          "data": {
            "text/plain": [
              "' Szukam miejsc, w których mogę zrelaksować się wokół pięknych krajobrazów, a jednocześnie cieszyć się wyjątkowymi zabytkami i tradycjami.. Jestem głównie zainteresowany przyrodą, architekturą i kulturą lokalną.Jestem turystą, który uwielbia spokojne miejsca z dala od zgiełku'"
            ],
            "application/vnd.google.colaboratory.intrinsic+json": {
              "type": "string"
            }
          },
          "metadata": {},
          "execution_count": 54
        }
      ]
    },
    {
      "cell_type": "code",
      "source": [
        "translator = str.maketrans(\"\", \"\", punctuation)\n",
        "new_text = sample_text.translate(translator)\n",
        "new_text = re.sub(r'\\d+', '', new_text)\n",
        "new_text = re.sub(r'\\s+', ' ', new_text)\n",
        "new_text = new_text.strip()\n",
        "new_text = new_text.lower()"
      ],
      "metadata": {
        "id": "JZBhgwmrKItJ"
      },
      "execution_count": 63,
      "outputs": []
    },
    {
      "cell_type": "code",
      "source": [
        "new_text"
      ],
      "metadata": {
        "colab": {
          "base_uri": "https://localhost:8080/",
          "height": 53
        },
        "id": "67Iap51PKiTG",
        "outputId": "49c55854-c5c6-4add-a72a-007370958a2a"
      },
      "execution_count": 64,
      "outputs": [
        {
          "output_type": "execute_result",
          "data": {
            "text/plain": [
              "'szukam miejsc w których mogę zrelaksować się wokół pięknych krajobrazów a jednocześnie cieszyć się wyjątkowymi zabytkami i tradycjami jestem głównie zainteresowany przyrodą architekturą i kulturą lokalnąjestem turystą który uwielbia spokojne miejsca z dala od zgiełku'"
            ],
            "application/vnd.google.colaboratory.intrinsic+json": {
              "type": "string"
            }
          },
          "metadata": {},
          "execution_count": 64
        }
      ]
    },
    {
      "cell_type": "code",
      "source": [
        "stems = stemmer.stem([new_text], parser)"
      ],
      "metadata": {
        "id": "IC8OMICIKoeQ"
      },
      "execution_count": 65,
      "outputs": []
    },
    {
      "cell_type": "code",
      "source": [
        "stems"
      ],
      "metadata": {
        "colab": {
          "base_uri": "https://localhost:8080/"
        },
        "id": "cpAZnrteK0c2",
        "outputId": "b218d609-6975-432b-a2ea-1f43349c57c1"
      },
      "execution_count": 66,
      "outputs": [
        {
          "output_type": "execute_result",
          "data": {
            "text/plain": [
              "[('szukam', {'szukać': ['verb:fin:sg:pri:imperf:refl.nonrefl']}),\n",
              " ('miejsc', {'miejsce': ['subst:pl:gen:n2']}),\n",
              " ('w', {'w': ['prep:acc:nwok+prep:loc:nwok'], 'wiek': ['brev:pun']}),\n",
              " ('których',\n",
              "  {'który': ['adj:pl:acc:m1.p1:pos+adj:pl:gen:m1.m2.m3.f.n1.n2.p1.p2.p3:pos+adj:pl:loc:m1.m2.m3.f.n1.n2.p1.p2.p3:pos']}),\n",
              " ('mogę', {'móc': ['verb:fin:sg:pri:imperf:nonrefl']}),\n",
              " ('zrelaksować',\n",
              "  {'zrelaksować': ['verb:inf:perf:refl+verb:inf:perf:refl.nonrefl']}),\n",
              " ('się', {'się': ['siebie:acc:nakc+siebie:gen:nakc+subst:sg:nom:n2']}),\n",
              " ('wokół', {'wokół': ['adv+prep:gen']}),\n",
              " ('pięknych',\n",
              "  {'piękny': ['adj:pl:acc:m1.p1:pos+adj:pl:gen:m1.m2.m3.f.n1.n2.p1.p2.p3:pos+adj:pl:loc:m1.m2.m3.f.n1.n2.p1.p2.p3:pos'],\n",
              "   'piękne': ['subst:pl:gen:n2+subst:pl:loc:n2']}),\n",
              " ('krajobrazów', {'krajobraz': ['subst:pl:gen:m3']}),\n",
              " ('a', {'a': ['conj+interj+prep:nom+qub']}),\n",
              " ('jednocześnie', {'jednocześnie': ['adv:pos']}),\n",
              " ('cieszyć', {'cieszyć': ['verb:inf:imperf:refl.nonrefl']}),\n",
              " ('się', {'się': ['siebie:acc:nakc+siebie:gen:nakc+subst:sg:nom:n2']}),\n",
              " ('wyjątkowymi', {'wyjątkowy': ['adj:pl:inst:m1.m2.m3.f.n1.n2.p1.p2.p3:pos']}),\n",
              " ('zabytkami', {'zabytek': ['subst:pl:inst:m3']}),\n",
              " ('i', {'i': ['conj+interj+qub']}),\n",
              " ('tradycjami', {'tradycja': ['subst:pl:inst:f']}),\n",
              " ('jestem', {'być': ['verb:fin:sg:pri:imperf:nonrefl']}),\n",
              " ('głównie',\n",
              "  {'głównie': ['adv:pos'],\n",
              "   'głównia': ['subst:pl:acc:f+subst:pl:nom:f+subst:pl:voc:f']}),\n",
              " ('zainteresowany',\n",
              "  {'zainteresowany': ['adj:sg:acc:m3:pos+adj:sg:nom.voc:m1.m2.m3:pos+subst:sg:nom:m1+subst:sg:voc:m1'],\n",
              "   'zainteresować': ['ppas:sg:acc:m3:perf:aff+ppas:sg:nom.voc:m1.m2.m3:perf:aff']}),\n",
              " ('przyrodą', {'przyroda': ['subst:sg:inst:f']}),\n",
              " ('architekturą', {'architektura': ['subst:sg:inst:f']}),\n",
              " ('i', {'i': ['conj+interj+qub']}),\n",
              " ('kulturą', {'kultura': ['subst:sg:inst:f']}),\n",
              " ('lokalnąjestem', {}),\n",
              " ('turystą', {'turysta': ['subst:sg:inst:m1']}),\n",
              " ('który', {'który': ['adj:sg:acc:m3:pos+adj:sg:nom.voc:m1.m2.m3:pos']}),\n",
              " ('uwielbia', {'uwielbiać': ['verb:fin:sg:ter:imperf:refl.nonrefl']}),\n",
              " ('spokojne',\n",
              "  {'spokojny': ['adj:pl:acc:m2.m3.f.n1.n2.p2.p3:pos+adj:pl:nom.voc:m2.m3.f.n1.n2.p2.p3:pos+adj:sg:acc:n1.n2:pos+adj:sg:nom.voc:n1.n2:pos']}),\n",
              " ('miejsca',\n",
              "  {'miejsce': ['subst:pl:acc:n2+subst:pl:nom:n2+subst:pl:voc:n2+subst:sg:gen:n2']}),\n",
              " ('z', {'z': ['prep:acc:nwok+prep:gen:nwok+prep:inst:nwok']}),\n",
              " ('dala', {'dala': ['burk']}),\n",
              " ('od', {'od': ['prep:gen:nwok'], 'oda': ['subst:pl:gen:f']}),\n",
              " ('zgiełku', {'zgiełk': ['subst:sg:gen:m3+subst:sg:loc:m3+subst:sg:voc:m3']})]"
            ]
          },
          "metadata": {},
          "execution_count": 66
        }
      ]
    },
    {
      "cell_type": "code",
      "source": [
        "len(stems)"
      ],
      "metadata": {
        "colab": {
          "base_uri": "https://localhost:8080/"
        },
        "id": "EWuwqf18Ll1Z",
        "outputId": "b8dd7517-21e5-4295-db0e-17a8bfbf2896"
      },
      "execution_count": 67,
      "outputs": [
        {
          "output_type": "execute_result",
          "data": {
            "text/plain": [
              "35"
            ]
          },
          "metadata": {},
          "execution_count": 67
        }
      ]
    },
    {
      "cell_type": "code",
      "source": [
        "tokenized_text = [(list(stems[i][1].keys())[0] if len(list(stems[i][1].keys())) > 0 else stems[i][0]) for i in range(len(stems))]\n",
        "tokenized_text\n"
      ],
      "metadata": {
        "colab": {
          "base_uri": "https://localhost:8080/"
        },
        "id": "CPmDdo6EK1UD",
        "outputId": "d9ec6d15-d6eb-4413-9561-7a4b6e496954"
      },
      "execution_count": 68,
      "outputs": [
        {
          "output_type": "execute_result",
          "data": {
            "text/plain": [
              "['szukać',\n",
              " 'miejsce',\n",
              " 'w',\n",
              " 'który',\n",
              " 'móc',\n",
              " 'zrelaksować',\n",
              " 'się',\n",
              " 'wokół',\n",
              " 'piękny',\n",
              " 'krajobraz',\n",
              " 'a',\n",
              " 'jednocześnie',\n",
              " 'cieszyć',\n",
              " 'się',\n",
              " 'wyjątkowy',\n",
              " 'zabytek',\n",
              " 'i',\n",
              " 'tradycja',\n",
              " 'być',\n",
              " 'głównie',\n",
              " 'zainteresowany',\n",
              " 'przyroda',\n",
              " 'architektura',\n",
              " 'i',\n",
              " 'kultura',\n",
              " 'lokalnąjestem',\n",
              " 'turysta',\n",
              " 'który',\n",
              " 'uwielbiać',\n",
              " 'spokojny',\n",
              " 'miejsce',\n",
              " 'z',\n",
              " 'dala',\n",
              " 'od',\n",
              " 'zgiełk']"
            ]
          },
          "metadata": {},
          "execution_count": 68
        }
      ]
    },
    {
      "cell_type": "code",
      "source": [
        "preprocess_text(df['text'][0])"
      ],
      "metadata": {
        "colab": {
          "base_uri": "https://localhost:8080/",
          "height": 53
        },
        "id": "C1ysgIRVL7if",
        "outputId": "49ecb7a2-43e3-4107-f407-94f398dda484"
      },
      "execution_count": 77,
      "outputs": [
        {
          "output_type": "execute_result",
          "data": {
            "text/plain": [
              "'szukać miejsce w który móc zrelaksować wokół piękny krajobraz a jednocześnie cieszyć wyjątkowy zabytek i tradycja głównie zainteresowany przyroda architektura i kultura lokalny turysta który uwielbiać spokojny miejsce z dala zgiełk'"
            ],
            "application/vnd.google.colaboratory.intrinsic+json": {
              "type": "string"
            }
          },
          "metadata": {},
          "execution_count": 77
        }
      ]
    },
    {
      "cell_type": "code",
      "source": [
        "prep_texts = [preprocess_text(df['text'][i]) for i in range(len(df))]\n",
        "df['prep_text'] = prep_texts\n",
        "df[['text', 'prep_text']]"
      ],
      "metadata": {
        "colab": {
          "base_uri": "https://localhost:8080/",
          "height": 1215
        },
        "id": "xJt8ofJtNEoz",
        "outputId": "80ac24d2-21c7-4926-808b-029e5c514997"
      },
      "execution_count": 80,
      "outputs": [
        {
          "output_type": "execute_result",
          "data": {
            "text/plain": [
              "                                                   text  \\\n",
              "0      Szukam miejsc, w których mogę zrelaksować się...   \n",
              "1     Moje zainteresowania leżą w literaturze i sztu...   \n",
              "2     Lubię także odwiedzać miejsca w sercu natury, ...   \n",
              "3     Skupiamy się na zapewnianiu dzieciom przyjemny...   \n",
              "4     .Jestem fanem nowych technologii i uwielbiam o...   \n",
              "...                                                 ...   \n",
              "2295  Będąc spokojną osobą, czerpię wielką przyjemno...   \n",
              "2296  .Mam powinowactwo do przyrody i aktywne zajęci...   \n",
              "2297  Jestem ekologiem środowiskowym zainteresowanym...   \n",
              "2298  .Lubię zarówno wiedzę naukową, jak i emocje zw...   \n",
              "2299  Jestem pasjonatem sportu, który preferuje akty...   \n",
              "\n",
              "                                              prep_text  \n",
              "0     szukać miejsce w który móc zrelaksować wokół p...  \n",
              "1     zainteresowanie leż w literatura i sztuca któr...  \n",
              "2     lubić także odwiedzać miejsce w serce natura a...  \n",
              "3     skupiać zapewniać dziecko przyjemny doświadcze...  \n",
              "4     fan nowy technologia i uwielbiać odkrywać miej...  \n",
              "...                                                 ...  \n",
              "2295  spokojny osoba czerpać wielki przyjemność z ha...  \n",
              "2296  mama powinowactwo przyroda i aktywny zajęcia r...  \n",
              "2297  ekolog środowiskowy zainteresowany zrównoważon...  \n",
              "2298  lubić zarówno wiedza naukowy i emocje związać ...  \n",
              "2299  pasjonat sport który preferować aktywność fizy...  \n",
              "\n",
              "[2300 rows x 2 columns]"
            ],
            "text/html": [
              "\n",
              "  <div id=\"df-8dc12a32-5809-4503-aea3-f924cb933c88\" class=\"colab-df-container\">\n",
              "    <div>\n",
              "<style scoped>\n",
              "    .dataframe tbody tr th:only-of-type {\n",
              "        vertical-align: middle;\n",
              "    }\n",
              "\n",
              "    .dataframe tbody tr th {\n",
              "        vertical-align: top;\n",
              "    }\n",
              "\n",
              "    .dataframe thead th {\n",
              "        text-align: right;\n",
              "    }\n",
              "</style>\n",
              "<table border=\"1\" class=\"dataframe\">\n",
              "  <thead>\n",
              "    <tr style=\"text-align: right;\">\n",
              "      <th></th>\n",
              "      <th>text</th>\n",
              "      <th>prep_text</th>\n",
              "    </tr>\n",
              "  </thead>\n",
              "  <tbody>\n",
              "    <tr>\n",
              "      <th>0</th>\n",
              "      <td>Szukam miejsc, w których mogę zrelaksować się...</td>\n",
              "      <td>szukać miejsce w który móc zrelaksować wokół p...</td>\n",
              "    </tr>\n",
              "    <tr>\n",
              "      <th>1</th>\n",
              "      <td>Moje zainteresowania leżą w literaturze i sztu...</td>\n",
              "      <td>zainteresowanie leż w literatura i sztuca któr...</td>\n",
              "    </tr>\n",
              "    <tr>\n",
              "      <th>2</th>\n",
              "      <td>Lubię także odwiedzać miejsca w sercu natury, ...</td>\n",
              "      <td>lubić także odwiedzać miejsce w serce natura a...</td>\n",
              "    </tr>\n",
              "    <tr>\n",
              "      <th>3</th>\n",
              "      <td>Skupiamy się na zapewnianiu dzieciom przyjemny...</td>\n",
              "      <td>skupiać zapewniać dziecko przyjemny doświadcze...</td>\n",
              "    </tr>\n",
              "    <tr>\n",
              "      <th>4</th>\n",
              "      <td>.Jestem fanem nowych technologii i uwielbiam o...</td>\n",
              "      <td>fan nowy technologia i uwielbiać odkrywać miej...</td>\n",
              "    </tr>\n",
              "    <tr>\n",
              "      <th>...</th>\n",
              "      <td>...</td>\n",
              "      <td>...</td>\n",
              "    </tr>\n",
              "    <tr>\n",
              "      <th>2295</th>\n",
              "      <td>Będąc spokojną osobą, czerpię wielką przyjemno...</td>\n",
              "      <td>spokojny osoba czerpać wielki przyjemność z ha...</td>\n",
              "    </tr>\n",
              "    <tr>\n",
              "      <th>2296</th>\n",
              "      <td>.Mam powinowactwo do przyrody i aktywne zajęci...</td>\n",
              "      <td>mama powinowactwo przyroda i aktywny zajęcia r...</td>\n",
              "    </tr>\n",
              "    <tr>\n",
              "      <th>2297</th>\n",
              "      <td>Jestem ekologiem środowiskowym zainteresowanym...</td>\n",
              "      <td>ekolog środowiskowy zainteresowany zrównoważon...</td>\n",
              "    </tr>\n",
              "    <tr>\n",
              "      <th>2298</th>\n",
              "      <td>.Lubię zarówno wiedzę naukową, jak i emocje zw...</td>\n",
              "      <td>lubić zarówno wiedza naukowy i emocje związać ...</td>\n",
              "    </tr>\n",
              "    <tr>\n",
              "      <th>2299</th>\n",
              "      <td>Jestem pasjonatem sportu, który preferuje akty...</td>\n",
              "      <td>pasjonat sport który preferować aktywność fizy...</td>\n",
              "    </tr>\n",
              "  </tbody>\n",
              "</table>\n",
              "<p>2300 rows × 2 columns</p>\n",
              "</div>\n",
              "    <div class=\"colab-df-buttons\">\n",
              "\n",
              "  <div class=\"colab-df-container\">\n",
              "    <button class=\"colab-df-convert\" onclick=\"convertToInteractive('df-8dc12a32-5809-4503-aea3-f924cb933c88')\"\n",
              "            title=\"Convert this dataframe to an interactive table.\"\n",
              "            style=\"display:none;\">\n",
              "\n",
              "  <svg xmlns=\"http://www.w3.org/2000/svg\" height=\"24px\" viewBox=\"0 -960 960 960\">\n",
              "    <path d=\"M120-120v-720h720v720H120Zm60-500h600v-160H180v160Zm220 220h160v-160H400v160Zm0 220h160v-160H400v160ZM180-400h160v-160H180v160Zm440 0h160v-160H620v160ZM180-180h160v-160H180v160Zm440 0h160v-160H620v160Z\"/>\n",
              "  </svg>\n",
              "    </button>\n",
              "\n",
              "  <style>\n",
              "    .colab-df-container {\n",
              "      display:flex;\n",
              "      gap: 12px;\n",
              "    }\n",
              "\n",
              "    .colab-df-convert {\n",
              "      background-color: #E8F0FE;\n",
              "      border: none;\n",
              "      border-radius: 50%;\n",
              "      cursor: pointer;\n",
              "      display: none;\n",
              "      fill: #1967D2;\n",
              "      height: 32px;\n",
              "      padding: 0 0 0 0;\n",
              "      width: 32px;\n",
              "    }\n",
              "\n",
              "    .colab-df-convert:hover {\n",
              "      background-color: #E2EBFA;\n",
              "      box-shadow: 0px 1px 2px rgba(60, 64, 67, 0.3), 0px 1px 3px 1px rgba(60, 64, 67, 0.15);\n",
              "      fill: #174EA6;\n",
              "    }\n",
              "\n",
              "    .colab-df-buttons div {\n",
              "      margin-bottom: 4px;\n",
              "    }\n",
              "\n",
              "    [theme=dark] .colab-df-convert {\n",
              "      background-color: #3B4455;\n",
              "      fill: #D2E3FC;\n",
              "    }\n",
              "\n",
              "    [theme=dark] .colab-df-convert:hover {\n",
              "      background-color: #434B5C;\n",
              "      box-shadow: 0px 1px 3px 1px rgba(0, 0, 0, 0.15);\n",
              "      filter: drop-shadow(0px 1px 2px rgba(0, 0, 0, 0.3));\n",
              "      fill: #FFFFFF;\n",
              "    }\n",
              "  </style>\n",
              "\n",
              "    <script>\n",
              "      const buttonEl =\n",
              "        document.querySelector('#df-8dc12a32-5809-4503-aea3-f924cb933c88 button.colab-df-convert');\n",
              "      buttonEl.style.display =\n",
              "        google.colab.kernel.accessAllowed ? 'block' : 'none';\n",
              "\n",
              "      async function convertToInteractive(key) {\n",
              "        const element = document.querySelector('#df-8dc12a32-5809-4503-aea3-f924cb933c88');\n",
              "        const dataTable =\n",
              "          await google.colab.kernel.invokeFunction('convertToInteractive',\n",
              "                                                    [key], {});\n",
              "        if (!dataTable) return;\n",
              "\n",
              "        const docLinkHtml = 'Like what you see? Visit the ' +\n",
              "          '<a target=\"_blank\" href=https://colab.research.google.com/notebooks/data_table.ipynb>data table notebook</a>'\n",
              "          + ' to learn more about interactive tables.';\n",
              "        element.innerHTML = '';\n",
              "        dataTable['output_type'] = 'display_data';\n",
              "        await google.colab.output.renderOutput(dataTable, element);\n",
              "        const docLink = document.createElement('div');\n",
              "        docLink.innerHTML = docLinkHtml;\n",
              "        element.appendChild(docLink);\n",
              "      }\n",
              "    </script>\n",
              "  </div>\n",
              "\n",
              "\n",
              "<div id=\"df-cd13d3d9-2dac-4992-a660-517c6b900eb9\">\n",
              "  <button class=\"colab-df-quickchart\" onclick=\"quickchart('df-cd13d3d9-2dac-4992-a660-517c6b900eb9')\"\n",
              "            title=\"Suggest charts\"\n",
              "            style=\"display:none;\">\n",
              "\n",
              "<svg xmlns=\"http://www.w3.org/2000/svg\" height=\"24px\"viewBox=\"0 0 24 24\"\n",
              "     width=\"24px\">\n",
              "    <g>\n",
              "        <path d=\"M19 3H5c-1.1 0-2 .9-2 2v14c0 1.1.9 2 2 2h14c1.1 0 2-.9 2-2V5c0-1.1-.9-2-2-2zM9 17H7v-7h2v7zm4 0h-2V7h2v10zm4 0h-2v-4h2v4z\"/>\n",
              "    </g>\n",
              "</svg>\n",
              "  </button>\n",
              "\n",
              "<style>\n",
              "  .colab-df-quickchart {\n",
              "      --bg-color: #E8F0FE;\n",
              "      --fill-color: #1967D2;\n",
              "      --hover-bg-color: #E2EBFA;\n",
              "      --hover-fill-color: #174EA6;\n",
              "      --disabled-fill-color: #AAA;\n",
              "      --disabled-bg-color: #DDD;\n",
              "  }\n",
              "\n",
              "  [theme=dark] .colab-df-quickchart {\n",
              "      --bg-color: #3B4455;\n",
              "      --fill-color: #D2E3FC;\n",
              "      --hover-bg-color: #434B5C;\n",
              "      --hover-fill-color: #FFFFFF;\n",
              "      --disabled-bg-color: #3B4455;\n",
              "      --disabled-fill-color: #666;\n",
              "  }\n",
              "\n",
              "  .colab-df-quickchart {\n",
              "    background-color: var(--bg-color);\n",
              "    border: none;\n",
              "    border-radius: 50%;\n",
              "    cursor: pointer;\n",
              "    display: none;\n",
              "    fill: var(--fill-color);\n",
              "    height: 32px;\n",
              "    padding: 0;\n",
              "    width: 32px;\n",
              "  }\n",
              "\n",
              "  .colab-df-quickchart:hover {\n",
              "    background-color: var(--hover-bg-color);\n",
              "    box-shadow: 0 1px 2px rgba(60, 64, 67, 0.3), 0 1px 3px 1px rgba(60, 64, 67, 0.15);\n",
              "    fill: var(--button-hover-fill-color);\n",
              "  }\n",
              "\n",
              "  .colab-df-quickchart-complete:disabled,\n",
              "  .colab-df-quickchart-complete:disabled:hover {\n",
              "    background-color: var(--disabled-bg-color);\n",
              "    fill: var(--disabled-fill-color);\n",
              "    box-shadow: none;\n",
              "  }\n",
              "\n",
              "  .colab-df-spinner {\n",
              "    border: 2px solid var(--fill-color);\n",
              "    border-color: transparent;\n",
              "    border-bottom-color: var(--fill-color);\n",
              "    animation:\n",
              "      spin 1s steps(1) infinite;\n",
              "  }\n",
              "\n",
              "  @keyframes spin {\n",
              "    0% {\n",
              "      border-color: transparent;\n",
              "      border-bottom-color: var(--fill-color);\n",
              "      border-left-color: var(--fill-color);\n",
              "    }\n",
              "    20% {\n",
              "      border-color: transparent;\n",
              "      border-left-color: var(--fill-color);\n",
              "      border-top-color: var(--fill-color);\n",
              "    }\n",
              "    30% {\n",
              "      border-color: transparent;\n",
              "      border-left-color: var(--fill-color);\n",
              "      border-top-color: var(--fill-color);\n",
              "      border-right-color: var(--fill-color);\n",
              "    }\n",
              "    40% {\n",
              "      border-color: transparent;\n",
              "      border-right-color: var(--fill-color);\n",
              "      border-top-color: var(--fill-color);\n",
              "    }\n",
              "    60% {\n",
              "      border-color: transparent;\n",
              "      border-right-color: var(--fill-color);\n",
              "    }\n",
              "    80% {\n",
              "      border-color: transparent;\n",
              "      border-right-color: var(--fill-color);\n",
              "      border-bottom-color: var(--fill-color);\n",
              "    }\n",
              "    90% {\n",
              "      border-color: transparent;\n",
              "      border-bottom-color: var(--fill-color);\n",
              "    }\n",
              "  }\n",
              "</style>\n",
              "\n",
              "  <script>\n",
              "    async function quickchart(key) {\n",
              "      const quickchartButtonEl =\n",
              "        document.querySelector('#' + key + ' button');\n",
              "      quickchartButtonEl.disabled = true;  // To prevent multiple clicks.\n",
              "      quickchartButtonEl.classList.add('colab-df-spinner');\n",
              "      try {\n",
              "        const charts = await google.colab.kernel.invokeFunction(\n",
              "            'suggestCharts', [key], {});\n",
              "      } catch (error) {\n",
              "        console.error('Error during call to suggestCharts:', error);\n",
              "      }\n",
              "      quickchartButtonEl.classList.remove('colab-df-spinner');\n",
              "      quickchartButtonEl.classList.add('colab-df-quickchart-complete');\n",
              "    }\n",
              "    (() => {\n",
              "      let quickchartButtonEl =\n",
              "        document.querySelector('#df-cd13d3d9-2dac-4992-a660-517c6b900eb9 button');\n",
              "      quickchartButtonEl.style.display =\n",
              "        google.colab.kernel.accessAllowed ? 'block' : 'none';\n",
              "    })();\n",
              "  </script>\n",
              "</div>\n",
              "    </div>\n",
              "  </div>\n"
            ]
          },
          "metadata": {},
          "execution_count": 80
        }
      ]
    },
    {
      "cell_type": "code",
      "source": [
        "# https://scikit-learn.org/stable/modules/generated/sklearn.feature_extraction.text.TfidfVectorizer.html"
      ],
      "metadata": {
        "id": "8WNPAx0Zbpkt"
      },
      "execution_count": null,
      "outputs": []
    },
    {
      "cell_type": "code",
      "source": [
        "from sklearn.feature_extraction.text import TfidfVectorizer\n",
        "\n",
        "vectorizer = TfidfVectorizer()\n",
        "vectors = vectorizer.fit_transform(df['prep_text'])\n",
        "print(vectors.shape)"
      ],
      "metadata": {
        "colab": {
          "base_uri": "https://localhost:8080/"
        },
        "id": "sOW62CO_U7Lg",
        "outputId": "d0ad9664-0868-4169-f36b-00c8ff10d30d"
      },
      "execution_count": 84,
      "outputs": [
        {
          "output_type": "stream",
          "name": "stdout",
          "text": [
            "(2300, 2696)\n"
          ]
        }
      ]
    },
    {
      "cell_type": "code",
      "source": [
        "print(vectors[0])"
      ],
      "metadata": {
        "colab": {
          "base_uri": "https://localhost:8080/"
        },
        "id": "JCBOzpasWy6h",
        "outputId": "88757dbb-9184-419a-cad5-4fea752a89a8"
      },
      "execution_count": 86,
      "outputs": [
        {
          "output_type": "stream",
          "name": "stdout",
          "text": [
            "  (0, 2570)\t0.2780523874922535\n",
            "  (0, 256)\t0.27624846524719654\n",
            "  (0, 1919)\t0.17854719091559004\n",
            "  (0, 2223)\t0.16389112192276592\n",
            "  (0, 2124)\t0.17961819858989864\n",
            "  (0, 857)\t0.11759105728130813\n",
            "  (0, 806)\t0.10801655207305173\n",
            "  (0, 47)\t0.15155078262323338\n",
            "  (0, 1651)\t0.16270931104897376\n",
            "  (0, 2476)\t0.1871830593468074\n",
            "  (0, 525)\t0.23021989724125266\n",
            "  (0, 2096)\t0.16469436496700166\n",
            "  (0, 2454)\t0.18533592019384595\n",
            "  (0, 2362)\t0.21977264282501247\n",
            "  (0, 206)\t0.1971863367076258\n",
            "  (0, 649)\t0.22036694434495008\n",
            "  (0, 770)\t0.20281453890031417\n",
            "  (0, 1344)\t0.23802371439657233\n",
            "  (0, 2309)\t0.2597169738034561\n",
            "  (0, 2614)\t0.2979860597227402\n",
            "  (0, 1007)\t0.17255129488326426\n",
            "  (0, 789)\t0.2010520331022472\n",
            "  (0, 928)\t0.16787874515101442\n",
            "  (0, 2036)\t0.20678783404510548\n"
          ]
        }
      ]
    },
    {
      "cell_type": "code",
      "source": [
        "vectorizer.get_feature_names_out()"
      ],
      "metadata": {
        "colab": {
          "base_uri": "https://localhost:8080/"
        },
        "id": "qK-P5Z_0iTGz",
        "outputId": "6b67e23b-9e48-41b3-a686-d6cd6ead00c2"
      },
      "execution_count": 117,
      "outputs": [
        {
          "output_type": "execute_result",
          "data": {
            "text/plain": [
              "array(['aby', 'acroparki', 'adrenalina', ..., 'żywo', 'żywy', 'żyć'],\n",
              "      dtype=object)"
            ]
          },
          "metadata": {},
          "execution_count": 117
        }
      ]
    },
    {
      "cell_type": "code",
      "source": [
        "print(vectors[0].toarray())"
      ],
      "metadata": {
        "colab": {
          "base_uri": "https://localhost:8080/"
        },
        "id": "h_Y50ygShNTD",
        "outputId": "03f32f68-4fcf-4b2d-c51f-25918c3692bd"
      },
      "execution_count": 116,
      "outputs": [
        {
          "output_type": "stream",
          "name": "stdout",
          "text": [
            "[[0. 0. 0. ... 0. 0. 0.]]\n"
          ]
        }
      ]
    },
    {
      "cell_type": "code",
      "source": [
        "! pip install joblib"
      ],
      "metadata": {
        "colab": {
          "base_uri": "https://localhost:8080/"
        },
        "id": "7rlb68muYcGa",
        "outputId": "9aef0416-eeb5-427a-b231-c0439e848b27"
      },
      "execution_count": 88,
      "outputs": [
        {
          "output_type": "stream",
          "name": "stdout",
          "text": [
            "Requirement already satisfied: joblib in /usr/local/lib/python3.10/dist-packages (1.3.2)\n"
          ]
        }
      ]
    },
    {
      "cell_type": "code",
      "source": [
        "import joblib\n",
        "\n",
        "joblib.dump(vectorizer, 'tfidf_vectorizer_wibit.joblib')\n",
        "\n",
        "loaded_vectorizer = joblib.load('tfidf_vectorizer_wibit.joblib')"
      ],
      "metadata": {
        "id": "mJ_ZBZJdYDjF"
      },
      "execution_count": 90,
      "outputs": []
    },
    {
      "cell_type": "code",
      "source": [
        "new_sample_text = \"Jestem turystą, który uwielbia odwiedzać zamki i różnego rodzaju lochy, w szczególności sale tortur. Najchętniej jadam steki w renomowanych restauracjach\"\n",
        "prep_new_sample =  preprocess_text(new_sample_text)\n",
        "print(prep_new_sample)\n",
        "\n",
        "new_vector = loaded_vectorizer.transform([prep_new_sample])\n",
        "print(new_vector)\n",
        "print('')\n",
        "new_vector = vectorizer.transform([prep_new_sample])\n",
        "print(new_vector)"
      ],
      "metadata": {
        "colab": {
          "base_uri": "https://localhost:8080/"
        },
        "id": "a9H2bPDGW4uq",
        "outputId": "864cfb78-fa95-426a-bdb4-8146d8392d40"
      },
      "execution_count": 93,
      "outputs": [
        {
          "output_type": "stream",
          "name": "stdout",
          "text": [
            "turysta który uwielbiać odwiedzać zamek i różny rodzaj loch w szczególność sala tortura chętnie jadać stek w renomowany restauracja\n",
            "  (0, 2495)\t0.24605789962083144\n",
            "  (0, 2223)\t0.17405551383888757\n",
            "  (0, 2124)\t0.19075797080157383\n",
            "  (0, 2016)\t0.4015333438899781\n",
            "  (0, 1968)\t0.4393755049638025\n",
            "  (0, 1825)\t0.38935088906906107\n",
            "  (0, 1814)\t0.1631576994206401\n",
            "  (0, 1731)\t0.27582440584758766\n",
            "  (0, 1722)\t0.2386689795910354\n",
            "  (0, 1195)\t0.17218351222358505\n",
            "  (0, 789)\t0.10676055700703477\n",
            "  (0, 632)\t0.37098128888572923\n",
            "  (0, 191)\t0.1690061969211308\n",
            "\n",
            "  (0, 2495)\t0.24605789962083144\n",
            "  (0, 2223)\t0.17405551383888757\n",
            "  (0, 2124)\t0.19075797080157383\n",
            "  (0, 2016)\t0.4015333438899781\n",
            "  (0, 1968)\t0.4393755049638025\n",
            "  (0, 1825)\t0.38935088906906107\n",
            "  (0, 1814)\t0.1631576994206401\n",
            "  (0, 1731)\t0.27582440584758766\n",
            "  (0, 1722)\t0.2386689795910354\n",
            "  (0, 1195)\t0.17218351222358505\n",
            "  (0, 789)\t0.10676055700703477\n",
            "  (0, 632)\t0.37098128888572923\n",
            "  (0, 191)\t0.1690061969211308\n"
          ]
        }
      ]
    },
    {
      "cell_type": "code",
      "source": [
        "df.to_csv('oversample_stemmed_train_df.csv', index=False)"
      ],
      "metadata": {
        "id": "0K4Dj7Raaylv"
      },
      "execution_count": 111,
      "outputs": []
    },
    {
      "cell_type": "code",
      "source": [
        "# https://radimrehurek.com/gensim/models/doc2vec.html"
      ],
      "metadata": {
        "id": "_4uGraJtbXk3"
      },
      "execution_count": null,
      "outputs": []
    },
    {
      "cell_type": "code",
      "source": [
        "from gensim.models.doc2vec import Doc2Vec, TaggedDocument\n",
        "\n",
        "VECTOR_SIZE = 100\n",
        "MIN_COUNTS = 3\n",
        "WINDOW = 5\n",
        "EPOCHS = 100\n",
        "\n",
        "tokenized_docs = [df['prep_text'][i].split(' ') for i in range(len(df))]\n",
        "tagged_data = [TaggedDocument(words=doc, tags=[str(i)]) for i, doc in enumerate(tokenized_docs)]\n",
        "\n",
        "doc2vec_model = Doc2Vec(vector_size=VECTOR_SIZE, window=WINDOW, min_count=MIN_COUNTS, epochs=EPOCHS, seed=2023)\n",
        "doc2vec_model.build_vocab(tagged_data)\n",
        "doc2vec_model.train(tagged_data, total_examples=doc2vec_model.corpus_count, epochs=doc2vec_model.epochs)"
      ],
      "metadata": {
        "id": "AJuiYe3ja74y"
      },
      "execution_count": 113,
      "outputs": []
    },
    {
      "cell_type": "code",
      "source": [
        "doc2vec_model.save('doc2vec_model_wibit')\n",
        "loaded_doc2vec_model = Doc2Vec.load('doc2vec_model_wibit')"
      ],
      "metadata": {
        "id": "bbGiOJZ6cjkF"
      },
      "execution_count": 114,
      "outputs": []
    },
    {
      "cell_type": "code",
      "source": [
        "new_sample_text = \"Jestem turystą, który uwielbia odwiedzać zamki i różnego rodzaju lochy, w szczególności sale tortur. Najchętniej jadam steki w renomowanych restauracjach\"\n",
        "prep_new_sample =  preprocess_text(new_sample_text)\n",
        "tokenized_new_sample = prep_new_sample.split(' ')\n",
        "\n",
        "new_vector = doc2vec_model.infer_vector(tokenized_new_sample)\n",
        "print(new_vector)\n",
        "\n",
        "new_vector = loaded_doc2vec_model.infer_vector(tokenized_new_sample)\n",
        "print(new_vector)"
      ],
      "metadata": {
        "colab": {
          "base_uri": "https://localhost:8080/"
        },
        "id": "M5rI2RqPfWFj",
        "outputId": "aec08ef5-8e36-45e7-b69d-de68d2ee6577"
      },
      "execution_count": 115,
      "outputs": [
        {
          "output_type": "stream",
          "name": "stdout",
          "text": [
            "[ 0.19451219  1.1370583   0.42723057 -0.09534287 -0.54872936 -0.87539285\n",
            "  0.31144127 -0.18335643  0.48054835 -0.55798554  0.31550604 -1.0254372\n",
            "  0.17950983 -1.0452403   0.8924074  -0.5090677   0.9422483   0.4185485\n",
            "  1.1656141  -0.6739846  -1.4971863  -1.3412588   0.7919278   0.6639775\n",
            " -0.2847138   1.0136237   1.201247    0.40899724 -0.1864483  -0.23833749\n",
            " -0.147709    0.04877814 -0.43337756  0.16722123 -0.4706023  -0.31890333\n",
            " -0.9621218   0.99878997 -0.05831239  1.5168557  -0.17033507  0.30291533\n",
            "  1.1701149   1.0744908   0.49813068  0.00851204 -0.3712745  -0.16929272\n",
            "  1.1261634  -0.12025094 -0.11904076 -0.31326774 -0.7928208  -1.0652969\n",
            "  0.41152495  0.28458846 -0.54648983 -0.63744295  1.7932006   0.22744823\n",
            "  0.9054576  -0.38440332 -0.0430477   0.6564841  -1.0138121  -0.3314889\n",
            "  1.1564175  -0.03219074 -1.6682146  -0.39101917 -0.49299178  1.1708014\n",
            "  1.2545644   0.78201246 -0.87722534 -0.03632323  0.35592118  1.002836\n",
            "  0.20874898  0.30575967 -0.3348577   0.11902367 -0.27538097 -0.23724063\n",
            "  0.83047956  0.3475053   0.8247877  -0.42888826  0.2925886  -0.00928286\n",
            " -0.20377916  0.20983312 -0.05047539 -0.04234586  0.10744009  1.3215379\n",
            "  0.5244599   0.03479788  0.39888236  0.0878356 ]\n",
            "[ 0.19451219  1.1370583   0.42723057 -0.09534287 -0.54872936 -0.87539285\n",
            "  0.31144127 -0.18335643  0.48054835 -0.55798554  0.31550604 -1.0254372\n",
            "  0.17950983 -1.0452403   0.8924074  -0.5090677   0.9422483   0.4185485\n",
            "  1.1656141  -0.6739846  -1.4971863  -1.3412588   0.7919278   0.6639775\n",
            " -0.2847138   1.0136237   1.201247    0.40899724 -0.1864483  -0.23833749\n",
            " -0.147709    0.04877814 -0.43337756  0.16722123 -0.4706023  -0.31890333\n",
            " -0.9621218   0.99878997 -0.05831239  1.5168557  -0.17033507  0.30291533\n",
            "  1.1701149   1.0744908   0.49813068  0.00851204 -0.3712745  -0.16929272\n",
            "  1.1261634  -0.12025094 -0.11904076 -0.31326774 -0.7928208  -1.0652969\n",
            "  0.41152495  0.28458846 -0.54648983 -0.63744295  1.7932006   0.22744823\n",
            "  0.9054576  -0.38440332 -0.0430477   0.6564841  -1.0138121  -0.3314889\n",
            "  1.1564175  -0.03219074 -1.6682146  -0.39101917 -0.49299178  1.1708014\n",
            "  1.2545644   0.78201246 -0.87722534 -0.03632323  0.35592118  1.002836\n",
            "  0.20874898  0.30575967 -0.3348577   0.11902367 -0.27538097 -0.23724063\n",
            "  0.83047956  0.3475053   0.8247877  -0.42888826  0.2925886  -0.00928286\n",
            " -0.20377916  0.20983312 -0.05047539 -0.04234586  0.10744009  1.3215379\n",
            "  0.5244599   0.03479788  0.39888236  0.0878356 ]\n"
          ]
        }
      ]
    },
    {
      "cell_type": "code",
      "source": [],
      "metadata": {
        "id": "7KfB7ytigDOD"
      },
      "execution_count": null,
      "outputs": []
    }
  ]
}