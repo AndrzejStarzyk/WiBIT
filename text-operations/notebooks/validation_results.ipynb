{
 "nbformat": 4,
 "nbformat_minor": 0,
 "metadata": {
  "colab": {
   "provenance": []
  },
  "kernelspec": {
   "name": "python3",
   "display_name": "Python 3"
  },
  "language_info": {
   "name": "python"
  }
 },
 "cells": [
  {
   "cell_type": "code",
   "execution_count": null,
   "metadata": {
    "id": "75h1lkqkLoca"
   },
   "outputs": [],
   "source": [
    "import pandas as pd"
   ]
  },
  {
   "cell_type": "code",
   "source": [
    "df = pd.read_csv('wibit-validation.csv')"
   ],
   "metadata": {
    "id": "Y057PH2vLw24"
   },
   "execution_count": null,
   "outputs": []
  },
  {
   "cell_type": "code",
   "source": [
    "df"
   ],
   "metadata": {
    "colab": {
     "base_uri": "https://localhost:8080/",
     "height": 474
    },
    "id": "cg01S1JAL2cQ",
    "outputId": "63f0c67e-1b5a-41aa-cdca-0733eedff8ad"
   },
   "execution_count": null,
   "outputs": []
  },
  {
   "cell_type": "code",
   "source": [
    "df['fast-good-stat'] = 1 - df['fast-bad']/df['fast-all']"
   ],
   "metadata": {
    "id": "Uid02lQJL2x_"
   },
   "execution_count": null,
   "outputs": []
  },
  {
   "cell_type": "code",
   "source": [
    "df['form-good-stat'] = 1 - df['form-bad']/df['form-all']\n",
    "df['chat-exp-good-stat'] = 1 - df['chat-exp-bad']/df['chat-exp-all']\n",
    "df['chat-know-good-stat'] = 1 - df['chat-know-bad']/df['chat-know-all']"
   ],
   "metadata": {
    "id": "XS1rVSs5MKkq"
   },
   "execution_count": null,
   "outputs": []
  },
  {
   "cell_type": "code",
   "source": [
    "df"
   ],
   "metadata": {
    "colab": {
     "base_uri": "https://localhost:8080/",
     "height": 529
    },
    "id": "-w6M9bqcMG9i",
    "outputId": "84a0033d-920f-45e0-d70b-3ba12b43a940"
   },
   "execution_count": null,
   "outputs": []
  },
  {
   "cell_type": "code",
   "source": [
    "calculated_cats = [col for col in list(df.columns) if col[-4:] == 'stat']\n",
    "calculated_cats"
   ],
   "metadata": {
    "colab": {
     "base_uri": "https://localhost:8080/"
    },
    "id": "qPwMpwh3M1Po",
    "outputId": "b846a117-d650-47c2-be10-6de15f6d2ee1"
   },
   "execution_count": null,
   "outputs": []
  },
  {
   "cell_type": "code",
   "source": [
    "df_in_base = df[df['city-from-base'] == 1][calculated_cats]\n",
    "df_in_base"
   ],
   "metadata": {
    "colab": {
     "base_uri": "https://localhost:8080/",
     "height": 269
    },
    "id": "aWTUCr79MHrz",
    "outputId": "c907a9ea-9c51-433f-965e-d1a31585176c"
   },
   "execution_count": null,
   "outputs": []
  },
  {
   "cell_type": "code",
   "source": [
    "df_no_base = df[df['city-from-base'] == 0][calculated_cats]\n",
    "df_no_base"
   ],
   "metadata": {
    "colab": {
     "base_uri": "https://localhost:8080/",
     "height": 238
    },
    "id": "3CeVCIBKMmgW",
    "outputId": "1b1ce595-c8d0-40e8-bf5a-1eb651855141"
   },
   "execution_count": null,
   "outputs": []
  },
  {
   "cell_type": "code",
   "source": [
    "no_base_mean = df_no_base.mean()\n",
    "no_base_mean"
   ],
   "metadata": {
    "colab": {
     "base_uri": "https://localhost:8080/"
    },
    "id": "obldgTJLMuAP",
    "outputId": "1825ae49-42b6-4807-de44-6f9b1f40c1f7"
   },
   "execution_count": null,
   "outputs": []
  },
  {
   "cell_type": "code",
   "source": [
    "in_base_mean = df_in_base.mean()\n",
    "in_base_mean"
   ],
   "metadata": {
    "colab": {
     "base_uri": "https://localhost:8080/"
    },
    "id": "-wZeS6NpNyjT",
    "outputId": "aaab62ca-7620-4445-e0d8-f2c8059a74fa"
   },
   "execution_count": null,
   "outputs": []
  },
  {
   "cell_type": "code",
   "source": [
    "import matplotlib.pyplot as plt\n",
    "plt.style.use('ggplot')\n",
    "\n",
    "comparison_df = pd.concat([in_base_mean, no_base_mean], axis=1, keys=['Atrakcje z bazy danych', 'Atrakcje pobierane z OSM'])*100\n",
    "\n",
    "ax = comparison_df.plot(kind='barh', color=['orange', 'royalblue'], figsize=(10, 7), width=0.8)\n",
    "\n",
    "ax.invert_yaxis()\n",
    "ax.set_yticklabels([\"Szybka wycieczka\", \"Ankieta\", \"Chat\\n(sieć neuronowa)\", \"Chat\\n(porównywanie\\nwektorów)\"])\n",
    "ax.set_xlim(0, 81)\n",
    "\n",
    "\n",
    "for p in ax.patches:\n",
    "    percentage = f'{p.get_width():.1f}%'\n",
    "    x = p.get_x() + p.get_width() + 0.5\n",
    "    y = p.get_y() + p.get_height() / 2 + 0.04\n",
    "    ax.annotate(percentage, (x, y))\n",
    "\n",
    "plt.title('Zainteresowanie atrakcjami rekomendowanymi przez \\nWirtualne Biuro Informacji Turystycznej')\n",
    "plt.xlabel('Średni odsetek zaakceptowanych atrakcji')\n",
    "plt.ylabel('Sposób uzyskania wycieczki')\n",
    "\n",
    "plt.tight_layout(pad=1)\n",
    "plt.savefig('img41.png')\n",
    "plt.show()"
   ],
   "metadata": {
    "colab": {
     "base_uri": "https://localhost:8080/",
     "height": 652
    },
    "id": "gGG6UrQ4OAFm",
    "outputId": "eb16ff64-c39d-485f-877a-b0a622ef1c43"
   },
   "execution_count": null,
   "outputs": []
  },
  {
   "cell_type": "code",
   "source": [
    "df_all_calc = df[calculated_cats]\n",
    "df_all_calc.mean()*100"
   ],
   "metadata": {
    "colab": {
     "base_uri": "https://localhost:8080/"
    },
    "id": "GRQ_UAj2Xf-T",
    "outputId": "c973ab62-e57c-4ca1-f017-141f0a4fe930"
   },
   "execution_count": null,
   "outputs": []
  },
  {
   "cell_type": "code",
   "source": [],
   "metadata": {
    "id": "R70wvgJ1ekfv"
   },
   "execution_count": null,
   "outputs": []
  }
 ]
}
